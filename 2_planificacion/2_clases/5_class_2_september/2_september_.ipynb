{
 "cells": [
  {
   "cell_type": "markdown",
   "id": "dc06dec7",
   "metadata": {
    "slideshow": {
     "slide_type": "slide"
    }
   },
   "source": [
    "<table align=\"left\">\n",
    "  <td>\n",
    "    <a href=\"https://colab.research.google.com/github/ageron/handson-ml3/blob/main/tools_numpy.ipynb\" target=\"_parent\"><img src=\"https://colab.research.google.com/assets/colab-badge.svg\" alt=\"Open In Colab\"/></a>\n",
    "  </td>\n",
    "  <td>\n",
    "    <a target=\"_blank\" href=\"https://kaggle.com/kernels/welcome?src=https://github.com/ageron/handson-ml3/blob/main/tools_numpy.ipynb\"><img src=\"https://kaggle.com/static/images/open-in-kaggle.svg\" /></a>\n",
    "  </td>\n",
    "</table>"
   ]
  },
  {
   "cell_type": "markdown",
   "id": "e0c5b198",
   "metadata": {
    "slideshow": {
     "slide_type": "slide"
    }
   },
   "source": [
    "### [Video de apoyo a la lectura interactiva y experimental de este cuaderno]()"
   ]
  },
  {
   "cell_type": "markdown",
   "id": "41e82203",
   "metadata": {
    "slideshow": {
     "slide_type": "slide"
    }
   },
   "source": [
    "### [Vínculo al programa del curso:  ]()\n",
    "\n"
   ]
  },
  {
   "cell_type": "markdown",
   "id": "d11ab06d",
   "metadata": {
    "slideshow": {
     "slide_type": "slide"
    }
   },
   "source": [
    "Un reconocimiento a mis estudiantes que han construido conmigo este saber pedagógico:\n",
    "\n",
    "<img src = ''> \n",
    "\n"
   ]
  },
  {
   "cell_type": "markdown",
   "id": "8a74a56c-0ce6-4ad6-b985-553fd7fb68bb",
   "metadata": {},
   "source": [
    "Reconocimiento a las profesoras destacadas en enseñanza de la matemática en Colombia\n"
   ]
  },
  {
   "cell_type": "code",
   "execution_count": 3,
   "id": "7604880f",
   "metadata": {
    "slideshow": {
     "slide_type": "slide"
    }
   },
   "outputs": [
    {
     "data": {
      "application/vnd.microsoft.datawrangler.viewer.v0+json": {
       "columns": [
        {
         "name": "index",
         "rawType": "int64",
         "type": "integer"
        },
        {
         "name": "Cedula",
         "rawType": "object",
         "type": "string"
        },
        {
         "name": "Nombre",
         "rawType": "object",
         "type": "string"
        }
       ],
       "ref": "3ab8ebdd-021f-443f-8395-4faad0c284fc",
       "rows": [],
       "shape": {
        "columns": 2,
        "rows": 0
       }
      },
      "text/html": [
       "<div>\n",
       "<style scoped>\n",
       "    .dataframe tbody tr th:only-of-type {\n",
       "        vertical-align: middle;\n",
       "    }\n",
       "\n",
       "    .dataframe tbody tr th {\n",
       "        vertical-align: top;\n",
       "    }\n",
       "\n",
       "    .dataframe thead th {\n",
       "        text-align: right;\n",
       "    }\n",
       "</style>\n",
       "<table border=\"1\" class=\"dataframe\">\n",
       "  <thead>\n",
       "    <tr style=\"text-align: right;\">\n",
       "      <th></th>\n",
       "      <th>Cedula</th>\n",
       "      <th>Nombre</th>\n",
       "    </tr>\n",
       "  </thead>\n",
       "  <tbody>\n",
       "  </tbody>\n",
       "</table>\n",
       "</div>"
      ],
      "text/plain": [
       "Empty DataFrame\n",
       "Columns: [Cedula, Nombre]\n",
       "Index: []"
      ]
     },
     "execution_count": 3,
     "metadata": {},
     "output_type": "execute_result"
    }
   ],
   "source": [
    "import pandas as pd\n",
    "import numpy as np\n",
    "\n",
    "# Cargar la lista de estudiantes desde el archivo CSV\n",
    "path = 'C:/Users/marco/Documentos/docencia/groups_list/vector_geometry_and_linear_algebra.xlsx'\n",
    "df = pd.read_excel(path)\n",
    "df.head() \n"
   ]
  },
  {
   "cell_type": "markdown",
   "id": "d7598d0a-d9b7-4ae0-b029-a0ed6ed1130b",
   "metadata": {},
   "source": [
    "\n",
    "# Principios de mi labor docente"
   ]
  },
  {
   "cell_type": "markdown",
   "id": "4f9d8cf9",
   "metadata": {
    "slideshow": {
     "slide_type": "slide"
    }
   },
   "source": [
    "## Modelo general de clase: [aula invertida](https://www3.gobiernodecanarias.org/medusa/ecoescuela/pedagotic/aprendizaje-invertido-flipped-classroom/)"
   ]
  },
  {
   "cell_type": "markdown",
   "id": "eb6ed03a",
   "metadata": {},
   "source": [
    "<img src = 'https://resources.maneuveringthemiddle.com/wp-content/uploads/2020/07/04212706/1-5.png' width = 200>  \n",
    "\n"
   ]
  },
  {
   "cell_type": "markdown",
   "id": "34319cce-a71b-4f64-aab8-b53e521efa40",
   "metadata": {},
   "source": [
    "# Metodología de Aprendizaje Basado en Problemas y Proyectos (ABPP)\n"
   ]
  },
  {
   "cell_type": "markdown",
   "id": "c4f73d81",
   "metadata": {},
   "source": [
    "\n",
    "<img src = 'https://www.unir.net/wp-content/uploads/2020/07/aprendizaje-problemas2-1-1-1-1.jpeg' width = 200>"
   ]
  },
  {
   "cell_type": "markdown",
   "id": "841a985c-bd9b-4dd3-8e4c-893983980af2",
   "metadata": {},
   "source": [
    "# Desarrollo del pensamiento computacional con Lenguajes Python y R, y con archivos Markdown orientado a la formación en ciencia de datos \n",
    "\n"
   ]
  },
  {
   "cell_type": "markdown",
   "id": "3d0eba94",
   "metadata": {},
   "source": [
    "\n",
    "<img src = 'https://i.ytimg.com/vi/mcG_wcR4e6M/maxresdefault.jpg' width = 200>"
   ]
  },
  {
   "cell_type": "markdown",
   "id": "65aa0404-f7ae-495e-864c-1aec01b4255e",
   "metadata": {},
   "source": [
    "# Principio de fomento a la ciencia abierta, enseñar en el acceso a los datos públicos y el uso de software de código abierto  \n"
   ]
  },
  {
   "cell_type": "markdown",
   "id": "18ae9b87",
   "metadata": {},
   "source": [
    "\n",
    "<img src = 'https://unesdoc.unesco.org/in/rest/Thumb/image?id=p%3A%3Ausmarcdef_0000379949_spa&author=UNESCO&title=Recomendaci%C3%B3n+de+la+UNESCO+sobre+la+Ciencia+Abierta&year=2021&publisher=UNESCO&TypeOfDocument=UnescoPhysicalDocument&mat=PGD&ct=true&size=512&isPhysical=1' width = 200>"
   ]
  },
  {
   "cell_type": "markdown",
   "id": "d9559f85",
   "metadata": {},
   "source": [
    "El enfoque STEAMS en educación preescolar, primaria y secundaria es una extensión del enfoque STEM (Ciencia, Tecnología, Ingeniería y Matemáticas) y su variante STEAM, que incorpora el Arte. "
   ]
  },
  {
   "cell_type": "markdown",
   "id": "0130ec1b",
   "metadata": {},
   "source": [
    "\n",
    "<img src = 'https://www.campuseducacion.com/blog/wp-content/uploads/2023/03/foto01-1.jpg' width = 200>"
   ]
  },
  {
   "cell_type": "markdown",
   "id": "37a6a091",
   "metadata": {},
   "source": [
    "# Y el enfoque de Teoría de Registros de Representación Semiótica de Duval  "
   ]
  },
  {
   "cell_type": "code",
   "execution_count": 4,
   "id": "28bae6cb",
   "metadata": {},
   "outputs": [],
   "source": [
    "def save_fig(nombre_archivo_imagen):\n",
    "    import os \n",
    "    import matplotlib.pyplot as plt\n",
    "    ubicacion_para_imagenes = r\"C:/Users/marco/Downloads\"\n",
    "    imagen_path = os.path.join(ubicacion_para_imagenes, nombre_archivo_imagen)\n",
    "    plt.savefig(imagen_path, bbox_inches='tight')"
   ]
  },
  {
   "cell_type": "markdown",
   "id": "10e55ccf",
   "metadata": {},
   "source": [
    "# Estructura general para todas las clases\n"
   ]
  },
  {
   "cell_type": "markdown",
   "id": "ddd73417",
   "metadata": {},
   "source": [
    "\n",
    "Dame, por favor, un diseño de clase, con el enfoque: \"Aula Invertida, STEAMS, de Aprendizaje Basado en Problemas y Proyectos (ABPP) y de Teoría de Registros de Representación Semiótica (TRRS) de Duval\" sobre: \" Sistemas de ecuaciones lineales 3 \\times 3 y su aplicación a Ingeniería agropecuaria y Determinantes de matrices 3 \\times 3 y su interpretación como volumen\", siguiendo la estructura:  \n",
    "\n",
    "Ubicación del proyecto investigativo: [aquí](https://github.com/marco-canas/linea_invest_didact_math_data/blob/main/1_estrategia_comunicacion/3_humanos_xxi/propuesta_en_20_paginas.md) \n",
    "Ubicación del programa del curso: [aquí](https://github.com/marco-canas/vector_geometry_and_linear_algebra/blob/main/2_planificacion/0_programa_curso/programa_curso_geo_vectorial_algebra_lineal_iae_python_data_science_2025_2.docx)\n",
    "Ubicación de la lista de estudiantes matriculados: [Aquí](https://github.com/marco-canas/groups_list/blob/main/vector_geometry_and_linear_algebra.xlsx)  \n",
    "\n",
    "1. Título de la clase   \n",
    "   \n",
    "2. Objetivo de aprendizaje que incluyan los indicadores del logro de estos objetivos. \n",
    "   \n",
    "3. Un mapa conceptual que resuma la clase elaborado en Graphviz de python con nodos y edges de diferentes formas, colores y rellenos y renderizado en la siguiente ubicación: `\"C:\\Users\\marco\\Downloads\"`.  No olvides el parámetro `view = True` para el método `render()` de Graphviz. Para este mapa controla las superposiciones de los nodos con: graph [overlap=false]; // Elimina superposiciones (puede aumentar el espacio)\n",
    "graph [overlap=\"scalexy\"]; // Escala el gráfico para evitar overlaps\n",
    "graph [overlap=\"compress\"]; // Comprime el grafo sin overlaps  \n",
    "   \n",
    "4. Elementos históricos y epistemológicos relevantes para la clase, pero narrados como una historieta al estilo de un cuentero antioqueño en Colombia. Incluye imágenes de los protagonistas históricos de esta clase.  \n",
    "   \n",
    "5. Contenido de la clase:     \n",
    "   \n",
    "          \n",
    "        \n",
    "6. Actividades de aprendizaje:   \n",
    "   \n",
    "7. Incluye una canción o un poema que ayude a interiorizar y fijar los conceptos asociados a esta clase.   \n",
    "   \n",
    "8.  Tarea o actividades de ejercitación y fijación. Incluye 20 ejercicios de tarea en las que los estudiantes empiecen con la descripción geométrica del algoritmo, luego la descripción verbal y secuencial del algoritmo, después la implementación en lenguaje python editado a través de la terminal powershell de su computador y finalmente con el cálculo a mano y en su cuaderno. Crea una función de usuario de Python que asigne esta tareas a cada uno de los estudiantes matriculados en este curso tomando la ubicación de los estudiantes dada en este prompt.  \n",
    "    \n",
    "9. Evaluación incluyendo 20 proyectos, un ejemplo de quiz (con tres items) y un ejemplo de parcial (con 5 items). Incluye evaluaciones en las que los estudiantes empiecen con la descripción geométrica del algoritmo, luego la descripción verbal y secuencial del algoritmo, después la implementación en lenguaje python editado a través de la terminal powershell de su computador, y finalmente con el cálculo algebraico y numérico a mano y en su cuaderno. \n",
    "    \n",
    "10. Diseño de actividad de retroalimentación.   \n",
    "    \n",
    "11. Dame un vocabulario y frases del idioma inglés asociadas a esta clase.    \n",
    "     \n",
    "12. Incluye apéndice para la clase sobre desarrollo de habilidades para trabajar en equipo y de asertividad y empatía para relacionarnos. También elementos de la inteligencia emocional para presentar pruebas sin temor y sin realizar fraude en ellas.    \n",
    "     \n",
    "13. Incluye 10 referentes en didáctica de la matemática que estén de acuerdo a la propuesta didáctica de esta clase. Adiciona a estos referentes a Raymond Duval (Representaciones y cambios de representación para la adquisición de conceptos matemáticos) y a [Jeannette Wing](https://es.wikipedia.org/wiki/Jeannette_Wing) (Desarrollo del pensamiento computacional). Déjame todos estos referentes ordenados de acuerdo a las normas APA. Al crear la clase, introduce las citas de estos autores en el texto de la clase.\n",
    "\n",
    "\n",
    "Pero  que este diseño sea para que el estudiante pueda aprender experimentando en cuadernos Jupyter con funciones de usuario y animaciones y visualizaciones en python.   \n",
    "\n",
    "En particular utiliza para el diseño de clase a Numpy, Pandas, SymPy, Matplotlib.pyplot, Seaborn, Plotly, ipywidgets, matplotlib.animation, TensorFlow, Keras y Jupyter Notebook.    \n",
    "\n",
    "Cada vez que utilices `matplotlib.animacion` no olvides incluir el uso de `IPython. display` para la rederización de estas animaciones a través de Jupyter Notebook. No olvides darme los diseños de clase con las ecuaciones matemáticas delimitadas con signo de dolar $ para que VS Code si me renderize estas expresiones del lenguaje latex. Cuando vallas a utilizar ipywidgets ten en cuenta la siguiente importación inicial para garantizar que la visualización interactiva si se renderize en VS Code:   \n",
    "\n",
    "import numpy as np  \n",
    "import matplotlib.pyplot as plt  \n",
    "import ipywidgets as widgets  \n",
    "\n",
    "\n",
    "\n"
   ]
  },
  {
   "cell_type": "markdown",
   "id": "596bbb56",
   "metadata": {},
   "source": [
    "Excelente, Marco 🙌.\n",
    "Con base en tu **propuesta de investigación IAE**, el **programa oficial del curso** y el **cronograma clase a clase**, te diseñé la clase sobre **“Sistemas de ecuaciones lineales \\$3\\times 3\\$ y su aplicación a Ingeniería Agropecuaria – Determinantes de matrices \\$3\\times 3\\$ y su interpretación como volumen”**, con el enfoque: **Aula Invertida + STEAMS + ABPP + TRRS de Duval**.\n",
    "\n",
    "Aquí tienes el diseño completo:\n",
    "\n",
    "---\n"
   ]
  },
  {
   "cell_type": "markdown",
   "id": "996f8c05",
   "metadata": {},
   "source": [
    "\n",
    "# Diseño de Clase\n",
    "\n",
    "### 1. Título de la clase\n",
    "\n",
    "**Sistemas de ecuaciones lineales \\$3\\times 3\\$ y determinantes de matrices \\$3\\times 3\\$: Interpretación geométrica como volumen y aplicaciones en Ingeniería Agropecuaria.**\n",
    "\n",
    "---\n"
   ]
  },
  {
   "cell_type": "markdown",
   "id": "d84ccd4c",
   "metadata": {},
   "source": [
    "\n",
    "### 2. Objetivo de aprendizaje\n",
    "\n",
    "* Resolver sistemas de ecuaciones lineales \\$3\\times 3\\$ utilizando el método de Gauss y la regla de Cramer.\n",
    "* Interpretar el determinante de una matriz \\$3\\times 3\\$ como volumen de un paralelepípedo.\n",
    "* Aplicar estos conceptos al modelado de balances en Ingeniería Agropecuaria (ejemplo: nutrición de cultivos, mezcla de insumos).\n",
    "\n",
    "**Indicadores de logro:**\n",
    "\n",
    "* El estudiante representa un sistema \\$3\\times 3\\$ en múltiples registros (geométrico, algebraico, numérico y computacional).\n",
    "* El estudiante interpreta el determinante como un volumen y lo aplica a un problema agrícola real.\n",
    "* El estudiante resuelve el sistema en Python (NumPy, SymPy) y verifica manualmente en su cuaderno.\n",
    "\n",
    "---\n",
    "\n",
    "### 3. Mapa conceptual (Graphviz en Python)\n"
   ]
  },
  {
   "cell_type": "code",
   "execution_count": 7,
   "id": "11b84533",
   "metadata": {},
   "outputs": [
    {
     "data": {
      "text/plain": [
       "'C:\\\\Users\\\\marco\\\\Downloads\\\\mapa_sistemas_3x3.png'"
      ]
     },
     "execution_count": 7,
     "metadata": {},
     "output_type": "execute_result"
    }
   ],
   "source": [
    "from graphviz import Digraph\n",
    "\n",
    "dot = Digraph(comment=\"Mapa conceptual: Sistemas 3x3 y determinantes\")\n",
    "dot.attr(size=\"8,8\")\n",
    "dot.attr(overlap=\"false\")\n",
    "\n",
    "# Nodos\n",
    "dot.node(\"S\", \"Sistemas 3x3\", shape=\"box\", style=\"filled\", color=\"lightblue\")\n",
    "dot.node(\"M\", \"Método de Gauss\", shape=\"ellipse\", style=\"filled\", color=\"lightgreen\")\n",
    "dot.node(\"C\", \"Regla de Cramer\", shape=\"ellipse\", style=\"filled\", color=\"yellow\")\n",
    "dot.node(\"D\", \"Determinante 3x3\", shape=\"diamond\", style=\"filled\", color=\"orange\")\n",
    "dot.node(\"V\", \"Volumen (Geometría)\", shape=\"hexagon\", style=\"filled\", color=\"lightpink\")\n",
    "dot.node(\"A\", \"Aplicaciones Agropecuarias\", shape=\"parallelogram\", style=\"filled\", color=\"lightgrey\")\n",
    "\n",
    "# Arcos\n",
    "dot.edges([(\"S\",\"M\"), (\"S\",\"C\"), (\"S\",\"D\")])\n",
    "dot.edge(\"D\",\"V\")\n",
    "dot.edge(\"V\",\"A\")\n",
    "dot.edge(\"M\",\"A\")\n",
    "dot.edge(\"C\",\"A\")\n",
    "\n",
    "# Render\n",
    "dot.render(r\"C:\\Users\\marco\\Downloads\\mapa_sistemas_3x3\", format=\"png\", view=True)\n"
   ]
  },
  {
   "cell_type": "markdown",
   "id": "e1bce57d",
   "metadata": {},
   "source": [
    "\n",
    "### 4. Narrativa histórica (estilo cuentero antioqueño)\n",
    "\n",
    "*\"Les voy a contar, pues, una historia… Resulta que hace unos siglos, un tal Leibniz, muy curioso, se puso a organizar números en cuadritos y encontró que esos cuadritos tenían poderes mágicos: ¡decían si un sistema tenía solución o no! Y por allá, en las tierras de Francia, Cramer inventó su truco pa’ resolver sistemas con determinantes. Hoy nosotros, desde Caucasia, cogemos esas herramientas y las ponemos al servicio de la tierra: pa’ saber cuánta agua, cuántos nutrientes y cuánta sombra necesita nuestro arroz. De Europa a Antioquia, la matemática nos ayuda a entender el mundo pa’ cultivarlo mejor.\"*\n",
    "\n",
    "*(Aquí pondríamos imágenes de Leibniz y Cramer, con estilo caricatura o comic.)*\n",
    "\n",
    "---\n"
   ]
  },
  {
   "cell_type": "markdown",
   "id": "1567468d",
   "metadata": {},
   "source": [
    "\n",
    "### 5. Contenido de la clase\n",
    "\n",
    "* Definición de sistema lineal \\$3\\times 3\\$.\n",
    "* Método de eliminación de Gauss.\n",
    "* Regla de Cramer.\n",
    "* Determinante \\$3\\times 3\\$ como volumen.\n",
    "* Aplicaciones: mezclas de fertilizantes, balance de nutrientes, modelado de riego.\n",
    "\n",
    "---\n"
   ]
  },
  {
   "cell_type": "markdown",
   "id": "c996b7d4",
   "metadata": {},
   "source": [
    "Perfecto 🚀. Te propongo un desarrollo **didáctico y aplicado a la ingeniería agropecuaria**, conectando los **sistemas lineales $3\\times 3$** con problemas reales que pueden resolverse con **drones e imágenes obtenidas por drones** (por ejemplo, cálculo de índices de vegetación, fertilización balanceada, riego).\n",
    "\n",
    "Aquí tienes una guía estructurada con explicaciones y código en Python:\n",
    "\n",
    "---\n",
    "\n",
    "# 📘 Clase: Sistemas lineales $3 \\times 3$ y aplicaciones a Ingeniería Agropecuaria con Drones\n",
    "\n",
    "## 1. Definición de un sistema lineal $3 \\times 3$\n",
    "\n",
    "Un sistema lineal de tres ecuaciones con tres incógnitas se expresa como:\n",
    "\n",
    "$$\n",
    "a_{11}x + a_{12}y + a_{13}z = b_1\n",
    "$$\n",
    "\n",
    "$$\n",
    "a_{21}x + a_{22}y + a_{23}z = b_2\n",
    "$$\n",
    "\n",
    "$$\n",
    "a_{31}x + a_{32}y + a_{33}z = b_3\n",
    "$$\n",
    "\n",
    "En agropecuaria puede representar:\n",
    "\n",
    "* $x$: cantidad de fertilizante **Nitrógeno (N)**\n",
    "* $y$: cantidad de fertilizante **Fósforo (P)**\n",
    "* $z$: cantidad de fertilizante **Potasio (K)**\n",
    "  Y las ecuaciones representan necesidades de nutrientes en distintas zonas de un cultivo detectadas por **imágenes de drones**.\n",
    "\n",
    "---\n",
    "\n",
    "## 2. Método de Eliminación de Gauss\n",
    "\n",
    "### Ejemplo aplicado: mezcla de fertilizantes\n",
    "\n",
    "Sistema de ecuaciones según las necesidades detectadas en 3 lotes:\n",
    "\n",
    "$$\n",
    "2x + y + z = 50 \\quad \\text{(Lote 1)}\n",
    "$$\n",
    "\n",
    "$$\n",
    "x + 3y + 2z = 80 \\quad \\text{(Lote 2)}\n",
    "$$\n",
    "\n",
    "$$\n",
    "3x + y + 4z = 100 \\quad \\text{(Lote 3)}\n",
    "$$\n",
    "\n",
    "🔹 Código en Python con eliminación de Gauss:\n",
    "\n",
    "\n",
    "He desarrollado el primer bloque de código en Python para mostrar cómo resolver un sistema lineal $3 \\times 3$ con el método de eliminación de Gauss, usando un ejemplo aplicado a **mezclas de nutrientes (N, P, K)** en fertilización.\n",
    "\n",
    "¿Quieres que te amplíe este cuaderno con:\n",
    "\n",
    "1. La **Regla de Cramer** con funciones en Python.\n",
    "2. La **interpretación geométrica del determinante $3\\times 3$** como volumen, con visualización en `matplotlib` y `plotly`.\n",
    "3. Ejemplos aplicados a **drones en agricultura de precisión** (balance de nutrientes y modelado de riego).\n"
   ]
  },
  {
   "cell_type": "markdown",
   "id": "c79c03a6",
   "metadata": {},
   "source": [
    "\n",
    "### 6. Actividades de aprendizaje\n",
    "\n",
    "* **Antes de clase (Aula Invertida):** Estudiantes ven video en YouTube sobre método de Gauss y determinantes.\n",
    "* **Durante clase:**\n",
    "\n",
    "  * Representación geométrica del sistema como tres planos en el espacio (visualización con matplotlib 3D).\n",
    "  * Resolución manual en el cuaderno.\n",
    "  * Implementación en Python (NumPy y SymPy).\n",
    "  * Discusión grupal sobre aplicación agropecuaria.\n",
    "* **Después de clase:** Resolver tarea de 20 ejercicios (ver sección 8).\n",
    "\n",
    "---\n"
   ]
  },
  {
   "cell_type": "markdown",
   "id": "140ebb74",
   "metadata": {},
   "source": [
    "\n",
    "### 7. Canción/Poema\n",
    "\n",
    "*\"Tres planos se encuentran, en el espacio se ven,\n",
    "si el volumen es cero, no hay punto también.\n",
    "Si el volumen es grande, la solución está,\n",
    "la matemática al campo siempre nos guiará.\"* 🎶\n",
    "\n",
    "---\n"
   ]
  },
  {
   "cell_type": "markdown",
   "id": "87c90f71",
   "metadata": {},
   "source": [
    "\n",
    "### 8. Tarea de ejercitación\n",
    "\n",
    "**20 ejercicios** escalonados:\n",
    "1–5: descripción geométrica de sistemas 3x3.\n",
    "6–10: descripción secuencial del algoritmo.\n",
    "11–15: implementación en Python (NumPy, SymPy).\n",
    "16–20: resolución manual en cuaderno.\n",
    "\n",
    "📌 **Script Python para asignar tareas a estudiantes** (desde Excel en GitHub):\n"
   ]
  },
  {
   "cell_type": "code",
   "execution_count": 6,
   "id": "0bd09e43",
   "metadata": {},
   "outputs": [
    {
     "name": "stdout",
     "output_type": "stream",
     "text": [
      "ARROYAVE ECHAVARRIA LAURA SOFIA: ejercicios [np.int64(1), np.int64(2), np.int64(3)]\n",
      "AYALA MENDOZA MARISOL YACIRA: ejercicios [np.int64(4), np.int64(5), np.int64(6)]\n",
      "LONDONO CUADRADO CRISTIAN ALBERTO: ejercicios [np.int64(7), np.int64(8), np.int64(9)]\n",
      "NORIEGA JIMENEZ GABRIELA: ejercicios [np.int64(10), np.int64(11), np.int64(12)]\n",
      "PEREZ THERAN ERLINDA: ejercicios [np.int64(13), np.int64(14)]\n",
      "QUINONEZ CERVANTES MARIANA: ejercicios [np.int64(15), np.int64(16)]\n",
      "RAMOS PEREZ YANINE: ejercicios [np.int64(17), np.int64(18)]\n",
      "TREJO CORDOBA DUVAN STEVEN: ejercicios [np.int64(19), np.int64(20)]\n"
     ]
    }
   ],
   "source": [
    "\n",
    "\n",
    "import pandas as pd\n",
    "import numpy as np\n",
    "\n",
    "# Cargar lista de estudiantes\n",
    "url = \"https://github.com/marco-canas/groups_list/raw/main/vector_geometry_and_linear_algebra.xlsx\"\n",
    "df = pd.read_excel(url)\n",
    "\n",
    "# Asignar ejercicios\n",
    "def asignar_tareas(df, total_ejercicios=20):\n",
    "    estudiantes = df['Nombre'].tolist()\n",
    "    n = len(estudiantes)\n",
    "    ejercicios = np.array_split(range(1, total_ejercicios+1), n)\n",
    "    asignaciones = dict(zip(estudiantes, ejercicios))\n",
    "    return asignaciones\n",
    "\n",
    "asignaciones = asignar_tareas(df)\n",
    "for est, ej in asignaciones.items():\n",
    "    print(f\"{est}: ejercicios {list(ej)}\")\n",
    "\n"
   ]
  },
  {
   "cell_type": "markdown",
   "id": "719060d7",
   "metadata": {},
   "source": [
    "\n",
    "### 9. Evaluación\n",
    "\n",
    "* **20 proyectos**: análisis de datos climáticos, mezcla de insumos, visualización 3D de sistemas.\n",
    "* **Quiz (3 ítems):**\n",
    "\n",
    "  1. Interprete el determinante como volumen.\n",
    "  2. Resuelva un sistema 3x3 sencillo.\n",
    "  3. Explique cómo usar Python para verificar la solución.\n",
    "* **Parcial (5 ítems):**\n",
    "\n",
    "  1. Sistema 3x3 por Gauss.\n",
    "  2. Regla de Cramer.\n",
    "  3. Determinante como volumen.\n",
    "  4. Visualización gráfica 3D en matplotlib.\n",
    "  5. Aplicación a un problema agropecuario.\n",
    "\n",
    "---\n"
   ]
  },
  {
   "cell_type": "markdown",
   "id": "a768fda6",
   "metadata": {},
   "source": [
    "# Áreas de mejora  identificadas en este día de evaluación parcial. \n",
    "\n",
    "1. Entrenar sobre las representaciones geométricas de los vectores  \n",
    "\n",
    "Favor leer página 64 del libro Guía de Grossmann (Págoina 226 del PDF)\n",
    "\n",
    "2. Estructurar su carpeta del curso. \n",
    "\n",
    "4. Tarea: determinar cómo se calcula la distancia entre dos puntos de una hacienda georeferenciados, siendo que sus ubicaciones están dadas en longitud y latitud, que son angulos con respecto al paralelo del Ecuador y el Meriadiano Greenwich \n",
    "\n",
    "<img src = 'https://www.mundoprimaria.com/wp-content/uploads/2023/05/meridiano-greenwich.jpg'>\n",
    "\n"
   ]
  },
  {
   "cell_type": "code",
   "execution_count": null,
   "id": "297fb878",
   "metadata": {},
   "outputs": [],
   "source": []
  },
  {
   "cell_type": "markdown",
   "id": "9ce2d5c3",
   "metadata": {},
   "source": [
    "# Calcular la distancia entre dos puntos de una hacienda cuando están dados por latitud y longitud (en grados), puedes usar tres enfoques, según la precisión que necesites y las herramientas que tengas a mano:\n"
   ]
  },
  {
   "cell_type": "markdown",
   "id": "e3c12819",
   "metadata": {},
   "source": [
    "\n",
    "# 1) Fórmula de Haversine (esférica, muy usada)\n",
    "\n",
    "Apropiada para la mayoría de casos prácticos (error típico <0.5% en Colombia).\n",
    "\n",
    "**Datos:**\n",
    "\n",
    "* Latitud y longitud del Punto A: $(\\varphi_1, \\lambda_1)$\n",
    "* Latitud y longitud del Punto B: $(\\varphi_2, \\lambda_2)$\n",
    "  (en grados decimales: lat norte +, sur −; lon este +, oeste −)\n",
    "\n",
    "**Pasos:**\n",
    "\n",
    "1. Convierte grados a radianes.\n",
    "2. Aplica Haversine:\n",
    "\n",
    "$$\n",
    "\\begin{aligned}\n",
    "\\Delta\\varphi &= \\varphi_2-\\varphi_1, \\quad\n",
    "\\Delta\\lambda = \\lambda_2-\\lambda_1 \\\\\n",
    "a &= \\sin^2\\!\\left(\\frac{\\Delta\\varphi}{2}\\right)\n",
    "+ \\cos(\\varphi_1)\\cos(\\varphi_2)\\sin^2\\!\\left(\\frac{\\Delta\\lambda}{2}\\right) \\\\\n",
    "c &= 2\\arctan2(\\sqrt{a},\\sqrt{1-a}) \\\\\n",
    "d &= R\\,c\n",
    "\\end{aligned}\n",
    "$$\n",
    "\n",
    "Donde $R \\approx 6{,}371{,}000$ m (radio medio de la Tierra). El resultado $d$ queda en metros.\n"
   ]
  },
  {
   "cell_type": "markdown",
   "id": "bdb62be7",
   "metadata": {},
   "source": [
    "\n",
    "**Ejemplo rápido (cerca de Caucasia, coordenadas ficticias):**\n",
    "A: (7.9860, −75.1950), B: (7.9905, −75.1870) → $d \\approx 1{,}013$ m.\n"
   ]
  },
  {
   "cell_type": "markdown",
   "id": "565abb87",
   "metadata": {},
   "source": [
    "Excelente pedido 👌.\n",
    "La **fórmula de Haversine** describe la distancia como el **arco más corto (gran círculo)** que conecta dos puntos en la superficie de la Tierra. Una buena interpretación gráfica en **matplotlib** puede mostrar:\n",
    "\n",
    "1. Una esfera (la Tierra).\n",
    "2. Dos puntos (las coordenadas de la hacienda).\n",
    "3. El arco del gran círculo que los une (la distancia real sobre la superficie).\n",
    "4. La línea recta a través de la esfera (para contrastar con la distancia superficial).\n",
    "\n",
    "Aquí te dejo un script que dibuja esa interpretación:\n"
   ]
  },
  {
   "cell_type": "markdown",
   "id": "23779e84",
   "metadata": {},
   "source": [
    "\n",
    "🔎 Este gráfico te muestra:\n",
    "\n",
    "* La Tierra como esfera.\n",
    "* El **arco del gran círculo (rojo)**: la distancia que calcula Haversine.\n",
    "* La **línea recta (negra discontinua)**: lo que sería la distancia a través de la esfera (no la real sobre el terreno).\n",
    "* Los dos puntos de la hacienda en rojo y verde.\n",
    "\n",
    "¿Quieres que también te prepare una **versión simplificada en 2D** (latitud–longitud sobre un círculo) para usar con estudiantes de primeros semestres?\n"
   ]
  },
  {
   "cell_type": "markdown",
   "id": "9b1da9e5",
   "metadata": {},
   "source": [
    "\n",
    "**Python:**\n"
   ]
  },
  {
   "cell_type": "code",
   "execution_count": 1,
   "id": "4ec56be6",
   "metadata": {},
   "outputs": [
    {
     "name": "stdout",
     "output_type": "stream",
     "text": [
      "1013.1193615603592\n"
     ]
    }
   ],
   "source": [
    "\n",
    "import math\n",
    "\n",
    "def haversine(lat1, lon1, lat2, lon2, R=6371000.0):\n",
    "    # lat, lon en grados decimales\n",
    "    phi1, phi2 = math.radians(lat1), math.radians(lat2)\n",
    "    dphi = math.radians(lat2 - lat1)\n",
    "    dlmb = math.radians(lon2 - lon1)\n",
    "    a = math.sin(dphi/2)**2 + math.cos(phi1)*math.cos(phi2)*math.sin(dlmb/2)**2\n",
    "    c = 2*math.atan2(math.sqrt(a), math.sqrt(1-a))\n",
    "    return R * c  # metros\n",
    "\n",
    "print(haversine(7.9860, -75.1950, 7.9905, -75.1870))\n",
    "\n"
   ]
  },
  {
   "cell_type": "markdown",
   "id": "cf3b5454",
   "metadata": {},
   "source": [
    "¡Perfecto! 🌍 Vamos a hacer una **representación didáctica con Plotly** para el método Haversine.\n",
    "La idea es mostrar:\n",
    "\n",
    "1. **El globo terráqueo** (esfera).\n",
    "2. **Los dos puntos cerca de Caucasia (Antioquia)**.\n",
    "3. **El arco del gran círculo** que representa la distancia real calculada con la fórmula de Haversine.\n",
    "4. La **línea recta (cuerda)** como contraste.\n",
    "\n",
    "Aquí tienes un script completo que puedes correr en **VS Code o Jupyter Notebook**:\n",
    "\n",
    "```python\n"
   ]
  },
  {
   "cell_type": "markdown",
   "id": "2c3752be",
   "metadata": {},
   "source": [
    "¡Muy bien! 🚀 Para que se note mejor la diferencia entre la **cuerda** y el **arco del gran círculo**, vamos a usar dos puntos más separados:\n",
    "\n",
    "* **Caucasia, Antioquia** → `lat1, lon1 = 7.9860, -75.1950`\n",
    "* **Medellín, Antioquia** → `lat2, lon2 = 6.2442, -75.5812`\n",
    "\n",
    "Aquí te dejo el código mejorado y listo para correr en VS Code o Jupyter:\n",
    "\n",
    "```python\n"
   ]
  },
  {
   "cell_type": "code",
   "execution_count": 5,
   "id": "6aa4dc9a",
   "metadata": {},
   "outputs": [
    {
     "data": {
      "application/vnd.plotly.v1+json": {
       "config": {
        "plotlyServerURL": "https://plot.ly"
       },
       "data": [
        {
         "colorscale": [
          [
           0,
           "rgb(247,251,255)"
          ],
          [
           0.125,
           "rgb(222,235,247)"
          ],
          [
           0.25,
           "rgb(198,219,239)"
          ],
          [
           0.375,
           "rgb(158,202,225)"
          ],
          [
           0.5,
           "rgb(107,174,214)"
          ],
          [
           0.625,
           "rgb(66,146,198)"
          ],
          [
           0.75,
           "rgb(33,113,181)"
          ],
          [
           0.875,
           "rgb(8,81,156)"
          ],
          [
           1,
           "rgb(8,48,107)"
          ]
         ],
         "opacity": 0.3,
         "showscale": false,
         "type": "surface",
         "x": {
          "bdata": "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",
          "dtype": "f8",
          "shape": "50, 50"
         },
         "y": {
          "bdata": "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",
          "dtype": "f8",
          "shape": "50, 50"
         },
         "z": {
          "bdata": "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",
          "dtype": "f8",
          "shape": "50, 50"
         }
        },
        {
         "marker": {
          "color": "red",
          "size": 8
         },
         "mode": "markers+text",
         "text": [
          "Caucasia"
         ],
         "textposition": "top center",
         "type": "scatter3d",
         "x": [
          1612194.347328699
         ],
         "y": [
          -6099755.3130206
         ],
         "z": [
          885130.2207688697
         ]
        },
        {
         "marker": {
          "color": "green",
          "size": 8
         },
         "mode": "markers+text",
         "text": [
          "Medellín"
         ],
         "textposition": "top center",
         "type": "scatter3d",
         "x": [
          1577016.258456423
         ],
         "y": [
          -6133716.76492628
         ],
         "z": [
          692949.7588039007
         ]
        },
        {
         "line": {
          "color": "black",
          "dash": "dash",
          "width": 4
         },
         "mode": "lines",
         "name": "Cuerda (línea recta)",
         "type": "scatter3d",
         "x": [
          1612194.347328699,
          1577016.258456423
         ],
         "y": [
          -6099755.3130206,
          -6133716.76492628
         ],
         "z": [
          885130.2207688697,
          692949.7588039007
         ]
        },
        {
         "line": {
          "color": "red",
          "width": 6
         },
         "mode": "lines",
         "name": "Arco Haversine",
         "type": "scatter3d",
         "x": {
          "bdata": "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",
          "dtype": "f8"
         },
         "y": {
          "bdata": "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",
          "dtype": "f8"
         },
         "z": {
          "bdata": "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",
          "dtype": "f8"
         }
        }
       ],
       "layout": {
        "scene": {
         "aspectmode": "data",
         "xaxis": {
          "visible": false
         },
         "yaxis": {
          "visible": false
         },
         "zaxis": {
          "visible": false
         }
        },
        "template": {
         "data": {
          "bar": [
           {
            "error_x": {
             "color": "#2a3f5f"
            },
            "error_y": {
             "color": "#2a3f5f"
            },
            "marker": {
             "line": {
              "color": "#E5ECF6",
              "width": 0.5
             },
             "pattern": {
              "fillmode": "overlay",
              "size": 10,
              "solidity": 0.2
             }
            },
            "type": "bar"
           }
          ],
          "barpolar": [
           {
            "marker": {
             "line": {
              "color": "#E5ECF6",
              "width": 0.5
             },
             "pattern": {
              "fillmode": "overlay",
              "size": 10,
              "solidity": 0.2
             }
            },
            "type": "barpolar"
           }
          ],
          "carpet": [
           {
            "aaxis": {
             "endlinecolor": "#2a3f5f",
             "gridcolor": "white",
             "linecolor": "white",
             "minorgridcolor": "white",
             "startlinecolor": "#2a3f5f"
            },
            "baxis": {
             "endlinecolor": "#2a3f5f",
             "gridcolor": "white",
             "linecolor": "white",
             "minorgridcolor": "white",
             "startlinecolor": "#2a3f5f"
            },
            "type": "carpet"
           }
          ],
          "choropleth": [
           {
            "colorbar": {
             "outlinewidth": 0,
             "ticks": ""
            },
            "type": "choropleth"
           }
          ],
          "contour": [
           {
            "colorbar": {
             "outlinewidth": 0,
             "ticks": ""
            },
            "colorscale": [
             [
              0,
              "#0d0887"
             ],
             [
              0.1111111111111111,
              "#46039f"
             ],
             [
              0.2222222222222222,
              "#7201a8"
             ],
             [
              0.3333333333333333,
              "#9c179e"
             ],
             [
              0.4444444444444444,
              "#bd3786"
             ],
             [
              0.5555555555555556,
              "#d8576b"
             ],
             [
              0.6666666666666666,
              "#ed7953"
             ],
             [
              0.7777777777777778,
              "#fb9f3a"
             ],
             [
              0.8888888888888888,
              "#fdca26"
             ],
             [
              1,
              "#f0f921"
             ]
            ],
            "type": "contour"
           }
          ],
          "contourcarpet": [
           {
            "colorbar": {
             "outlinewidth": 0,
             "ticks": ""
            },
            "type": "contourcarpet"
           }
          ],
          "heatmap": [
           {
            "colorbar": {
             "outlinewidth": 0,
             "ticks": ""
            },
            "colorscale": [
             [
              0,
              "#0d0887"
             ],
             [
              0.1111111111111111,
              "#46039f"
             ],
             [
              0.2222222222222222,
              "#7201a8"
             ],
             [
              0.3333333333333333,
              "#9c179e"
             ],
             [
              0.4444444444444444,
              "#bd3786"
             ],
             [
              0.5555555555555556,
              "#d8576b"
             ],
             [
              0.6666666666666666,
              "#ed7953"
             ],
             [
              0.7777777777777778,
              "#fb9f3a"
             ],
             [
              0.8888888888888888,
              "#fdca26"
             ],
             [
              1,
              "#f0f921"
             ]
            ],
            "type": "heatmap"
           }
          ],
          "histogram": [
           {
            "marker": {
             "pattern": {
              "fillmode": "overlay",
              "size": 10,
              "solidity": 0.2
             }
            },
            "type": "histogram"
           }
          ],
          "histogram2d": [
           {
            "colorbar": {
             "outlinewidth": 0,
             "ticks": ""
            },
            "colorscale": [
             [
              0,
              "#0d0887"
             ],
             [
              0.1111111111111111,
              "#46039f"
             ],
             [
              0.2222222222222222,
              "#7201a8"
             ],
             [
              0.3333333333333333,
              "#9c179e"
             ],
             [
              0.4444444444444444,
              "#bd3786"
             ],
             [
              0.5555555555555556,
              "#d8576b"
             ],
             [
              0.6666666666666666,
              "#ed7953"
             ],
             [
              0.7777777777777778,
              "#fb9f3a"
             ],
             [
              0.8888888888888888,
              "#fdca26"
             ],
             [
              1,
              "#f0f921"
             ]
            ],
            "type": "histogram2d"
           }
          ],
          "histogram2dcontour": [
           {
            "colorbar": {
             "outlinewidth": 0,
             "ticks": ""
            },
            "colorscale": [
             [
              0,
              "#0d0887"
             ],
             [
              0.1111111111111111,
              "#46039f"
             ],
             [
              0.2222222222222222,
              "#7201a8"
             ],
             [
              0.3333333333333333,
              "#9c179e"
             ],
             [
              0.4444444444444444,
              "#bd3786"
             ],
             [
              0.5555555555555556,
              "#d8576b"
             ],
             [
              0.6666666666666666,
              "#ed7953"
             ],
             [
              0.7777777777777778,
              "#fb9f3a"
             ],
             [
              0.8888888888888888,
              "#fdca26"
             ],
             [
              1,
              "#f0f921"
             ]
            ],
            "type": "histogram2dcontour"
           }
          ],
          "mesh3d": [
           {
            "colorbar": {
             "outlinewidth": 0,
             "ticks": ""
            },
            "type": "mesh3d"
           }
          ],
          "parcoords": [
           {
            "line": {
             "colorbar": {
              "outlinewidth": 0,
              "ticks": ""
             }
            },
            "type": "parcoords"
           }
          ],
          "pie": [
           {
            "automargin": true,
            "type": "pie"
           }
          ],
          "scatter": [
           {
            "fillpattern": {
             "fillmode": "overlay",
             "size": 10,
             "solidity": 0.2
            },
            "type": "scatter"
           }
          ],
          "scatter3d": [
           {
            "line": {
             "colorbar": {
              "outlinewidth": 0,
              "ticks": ""
             }
            },
            "marker": {
             "colorbar": {
              "outlinewidth": 0,
              "ticks": ""
             }
            },
            "type": "scatter3d"
           }
          ],
          "scattercarpet": [
           {
            "marker": {
             "colorbar": {
              "outlinewidth": 0,
              "ticks": ""
             }
            },
            "type": "scattercarpet"
           }
          ],
          "scattergeo": [
           {
            "marker": {
             "colorbar": {
              "outlinewidth": 0,
              "ticks": ""
             }
            },
            "type": "scattergeo"
           }
          ],
          "scattergl": [
           {
            "marker": {
             "colorbar": {
              "outlinewidth": 0,
              "ticks": ""
             }
            },
            "type": "scattergl"
           }
          ],
          "scattermap": [
           {
            "marker": {
             "colorbar": {
              "outlinewidth": 0,
              "ticks": ""
             }
            },
            "type": "scattermap"
           }
          ],
          "scattermapbox": [
           {
            "marker": {
             "colorbar": {
              "outlinewidth": 0,
              "ticks": ""
             }
            },
            "type": "scattermapbox"
           }
          ],
          "scatterpolar": [
           {
            "marker": {
             "colorbar": {
              "outlinewidth": 0,
              "ticks": ""
             }
            },
            "type": "scatterpolar"
           }
          ],
          "scatterpolargl": [
           {
            "marker": {
             "colorbar": {
              "outlinewidth": 0,
              "ticks": ""
             }
            },
            "type": "scatterpolargl"
           }
          ],
          "scatterternary": [
           {
            "marker": {
             "colorbar": {
              "outlinewidth": 0,
              "ticks": ""
             }
            },
            "type": "scatterternary"
           }
          ],
          "surface": [
           {
            "colorbar": {
             "outlinewidth": 0,
             "ticks": ""
            },
            "colorscale": [
             [
              0,
              "#0d0887"
             ],
             [
              0.1111111111111111,
              "#46039f"
             ],
             [
              0.2222222222222222,
              "#7201a8"
             ],
             [
              0.3333333333333333,
              "#9c179e"
             ],
             [
              0.4444444444444444,
              "#bd3786"
             ],
             [
              0.5555555555555556,
              "#d8576b"
             ],
             [
              0.6666666666666666,
              "#ed7953"
             ],
             [
              0.7777777777777778,
              "#fb9f3a"
             ],
             [
              0.8888888888888888,
              "#fdca26"
             ],
             [
              1,
              "#f0f921"
             ]
            ],
            "type": "surface"
           }
          ],
          "table": [
           {
            "cells": {
             "fill": {
              "color": "#EBF0F8"
             },
             "line": {
              "color": "white"
             }
            },
            "header": {
             "fill": {
              "color": "#C8D4E3"
             },
             "line": {
              "color": "white"
             }
            },
            "type": "table"
           }
          ]
         },
         "layout": {
          "annotationdefaults": {
           "arrowcolor": "#2a3f5f",
           "arrowhead": 0,
           "arrowwidth": 1
          },
          "autotypenumbers": "strict",
          "coloraxis": {
           "colorbar": {
            "outlinewidth": 0,
            "ticks": ""
           }
          },
          "colorscale": {
           "diverging": [
            [
             0,
             "#8e0152"
            ],
            [
             0.1,
             "#c51b7d"
            ],
            [
             0.2,
             "#de77ae"
            ],
            [
             0.3,
             "#f1b6da"
            ],
            [
             0.4,
             "#fde0ef"
            ],
            [
             0.5,
             "#f7f7f7"
            ],
            [
             0.6,
             "#e6f5d0"
            ],
            [
             0.7,
             "#b8e186"
            ],
            [
             0.8,
             "#7fbc41"
            ],
            [
             0.9,
             "#4d9221"
            ],
            [
             1,
             "#276419"
            ]
           ],
           "sequential": [
            [
             0,
             "#0d0887"
            ],
            [
             0.1111111111111111,
             "#46039f"
            ],
            [
             0.2222222222222222,
             "#7201a8"
            ],
            [
             0.3333333333333333,
             "#9c179e"
            ],
            [
             0.4444444444444444,
             "#bd3786"
            ],
            [
             0.5555555555555556,
             "#d8576b"
            ],
            [
             0.6666666666666666,
             "#ed7953"
            ],
            [
             0.7777777777777778,
             "#fb9f3a"
            ],
            [
             0.8888888888888888,
             "#fdca26"
            ],
            [
             1,
             "#f0f921"
            ]
           ],
           "sequentialminus": [
            [
             0,
             "#0d0887"
            ],
            [
             0.1111111111111111,
             "#46039f"
            ],
            [
             0.2222222222222222,
             "#7201a8"
            ],
            [
             0.3333333333333333,
             "#9c179e"
            ],
            [
             0.4444444444444444,
             "#bd3786"
            ],
            [
             0.5555555555555556,
             "#d8576b"
            ],
            [
             0.6666666666666666,
             "#ed7953"
            ],
            [
             0.7777777777777778,
             "#fb9f3a"
            ],
            [
             0.8888888888888888,
             "#fdca26"
            ],
            [
             1,
             "#f0f921"
            ]
           ]
          },
          "colorway": [
           "#636efa",
           "#EF553B",
           "#00cc96",
           "#ab63fa",
           "#FFA15A",
           "#19d3f3",
           "#FF6692",
           "#B6E880",
           "#FF97FF",
           "#FECB52"
          ],
          "font": {
           "color": "#2a3f5f"
          },
          "geo": {
           "bgcolor": "white",
           "lakecolor": "white",
           "landcolor": "#E5ECF6",
           "showlakes": true,
           "showland": true,
           "subunitcolor": "white"
          },
          "hoverlabel": {
           "align": "left"
          },
          "hovermode": "closest",
          "mapbox": {
           "style": "light"
          },
          "paper_bgcolor": "white",
          "plot_bgcolor": "#E5ECF6",
          "polar": {
           "angularaxis": {
            "gridcolor": "white",
            "linecolor": "white",
            "ticks": ""
           },
           "bgcolor": "#E5ECF6",
           "radialaxis": {
            "gridcolor": "white",
            "linecolor": "white",
            "ticks": ""
           }
          },
          "scene": {
           "xaxis": {
            "backgroundcolor": "#E5ECF6",
            "gridcolor": "white",
            "gridwidth": 2,
            "linecolor": "white",
            "showbackground": true,
            "ticks": "",
            "zerolinecolor": "white"
           },
           "yaxis": {
            "backgroundcolor": "#E5ECF6",
            "gridcolor": "white",
            "gridwidth": 2,
            "linecolor": "white",
            "showbackground": true,
            "ticks": "",
            "zerolinecolor": "white"
           },
           "zaxis": {
            "backgroundcolor": "#E5ECF6",
            "gridcolor": "white",
            "gridwidth": 2,
            "linecolor": "white",
            "showbackground": true,
            "ticks": "",
            "zerolinecolor": "white"
           }
          },
          "shapedefaults": {
           "line": {
            "color": "#2a3f5f"
           }
          },
          "ternary": {
           "aaxis": {
            "gridcolor": "white",
            "linecolor": "white",
            "ticks": ""
           },
           "baxis": {
            "gridcolor": "white",
            "linecolor": "white",
            "ticks": ""
           },
           "bgcolor": "#E5ECF6",
           "caxis": {
            "gridcolor": "white",
            "linecolor": "white",
            "ticks": ""
           }
          },
          "title": {
           "x": 0.05
          },
          "xaxis": {
           "automargin": true,
           "gridcolor": "white",
           "linecolor": "white",
           "ticks": "",
           "title": {
            "standoff": 15
           },
           "zerolinecolor": "white",
           "zerolinewidth": 2
          },
          "yaxis": {
           "automargin": true,
           "gridcolor": "white",
           "linecolor": "white",
           "ticks": "",
           "title": {
            "standoff": 15
           },
           "zerolinecolor": "white",
           "zerolinewidth": 2
          }
         }
        },
        "title": {
         "text": "Distancia Haversine ≈ 198.31 km (Caucasia - Medellín)"
        }
       }
      }
     },
     "metadata": {},
     "output_type": "display_data"
    }
   ],
   "source": [
    "import math\n",
    "import numpy as np\n",
    "import plotly.graph_objects as go\n",
    "\n",
    "# --- Función Haversine ---\n",
    "def haversine(lat1, lon1, lat2, lon2, R=6371000.0):\n",
    "    phi1, phi2 = math.radians(lat1), math.radians(lat2)\n",
    "    dphi = math.radians(lat2 - lat1)\n",
    "    dlmb = math.radians(lon2 - lon1)\n",
    "    a = math.sin(dphi/2)**2 + math.cos(phi1)*math.cos(phi2)*math.sin(dlmb/2)**2\n",
    "    c = 2 * math.atan2(math.sqrt(a), math.sqrt(1-a))\n",
    "    return R * c  # en metros\n",
    "\n",
    "# --- Coordenadas de ejemplo ---\n",
    "# Caucasia, Antioquia\n",
    "lat1, lon1 = 7.9860, -75.1950\n",
    "# Medellín, Antioquia\n",
    "lat2, lon2 = 6.2442, -75.5812\n",
    "\n",
    "distancia = haversine(lat1, lon1, lat2, lon2)\n",
    "\n",
    "# --- Conversión a coordenadas cartesianas ---\n",
    "def sph2cart(lat, lon, R=1.0):\n",
    "    lat, lon = np.radians(lat), np.radians(lon)\n",
    "    x = R * np.cos(lat) * np.cos(lon)\n",
    "    y = R * np.cos(lat) * np.sin(lon)\n",
    "    z = R * np.sin(lat)\n",
    "    return np.array([x, y, z])\n",
    "\n",
    "R = 6371000\n",
    "A = sph2cart(lat1, lon1, R)\n",
    "B = sph2cart(lat2, lon2, R)\n",
    "\n",
    "# --- Cálculo del arco del gran círculo (SLERP) ---\n",
    "u, v = A / R, B / R\n",
    "dot = np.clip(np.dot(u, v), -1.0, 1.0)\n",
    "theta = np.arccos(dot)\n",
    "t_vals = np.linspace(0, 1, 200)\n",
    "sin_theta = np.sin(theta)\n",
    "arc_points = ((np.sin((1 - t_vals)[:, None] * theta) * u[None, :] +\n",
    "               np.sin(t_vals[:, None] * theta) * v[None, :]) / sin_theta) * R\n",
    "\n",
    "# --- Esfera (la Tierra) ---\n",
    "phi, theta_s = np.mgrid[0:np.pi:50j, 0:2*np.pi:50j]\n",
    "x = R * np.sin(phi) * np.cos(theta_s)\n",
    "y = R * np.sin(phi) * np.sin(theta_s)\n",
    "z = R * np.cos(phi)\n",
    "\n",
    "# --- Plotly ---\n",
    "fig = go.Figure()\n",
    "\n",
    "# Esfera (Tierra)\n",
    "fig.add_trace(go.Surface(\n",
    "    x=x, y=y, z=z,\n",
    "    colorscale=\"Blues\",\n",
    "    opacity=0.3,\n",
    "    showscale=False\n",
    "))\n",
    "\n",
    "# Punto A (Caucasia)\n",
    "fig.add_trace(go.Scatter3d(\n",
    "    x=[A[0]], y=[A[1]], z=[A[2]],\n",
    "    mode='markers+text',\n",
    "    marker=dict(size=8, color=\"red\"),\n",
    "    text=[\"Caucasia\"],\n",
    "    textposition=\"top center\"\n",
    "))\n",
    "\n",
    "# Punto B (Medellín)\n",
    "fig.add_trace(go.Scatter3d(\n",
    "    x=[B[0]], y=[B[1]], z=[B[2]],\n",
    "    mode='markers+text',\n",
    "    marker=dict(size=8, color=\"green\"),\n",
    "    text=[\"Medellín\"],\n",
    "    textposition=\"top center\"\n",
    "))\n",
    "\n",
    "# Línea recta (cuerda)\n",
    "fig.add_trace(go.Scatter3d(\n",
    "    x=[A[0], B[0]], y=[A[1], B[1]], z=[A[2], B[2]],\n",
    "    mode='lines',\n",
    "    line=dict(color=\"black\", width=4, dash=\"dash\"),\n",
    "    name=\"Cuerda (línea recta)\"\n",
    "))\n",
    "\n",
    "# Arco del gran círculo\n",
    "fig.add_trace(go.Scatter3d(\n",
    "    x=arc_points[:,0], y=arc_points[:,1], z=arc_points[:,2],\n",
    "    mode='lines',\n",
    "    line=dict(color=\"red\", width=6),\n",
    "    name=\"Arco Haversine\"\n",
    "))\n",
    "\n",
    "# Configuración de la escena\n",
    "fig.update_layout(\n",
    "    scene=dict(\n",
    "        xaxis=dict(visible=False),\n",
    "        yaxis=dict(visible=False),\n",
    "        zaxis=dict(visible=False),\n",
    "        aspectmode=\"data\"\n",
    "    ),\n",
    "    title=f\"Distancia Haversine ≈ {distancia/1000:.2f} km (Caucasia - Medellín)\"\n",
    ")\n",
    "\n",
    "fig.show()\n"
   ]
  },
  {
   "cell_type": "code",
   "execution_count": null,
   "id": "42754ff4",
   "metadata": {},
   "outputs": [],
   "source": [
    "```\n",
    "\n",
    "🔎 **Qué cambia con respecto al tuyo:**\n",
    "\n",
    "* Ahora los puntos son **Caucasia y Medellín**, mucho más separados.\n",
    "* Se incrementó la densidad de puntos en el arco (`t_vals=200`) para que quede más suave.\n",
    "* Los puntos están **nombrados en el gráfico**.\n",
    "* La distancia se muestra en **kilómetros** en el título.\n",
    "\n",
    "¿Quieres que además te prepare una **versión 2D sobre un mapa real de Colombia** (con `plotly.express` y OpenStreetMap), para ver la ruta sobre el terreno?\n"
   ]
  },
  {
   "cell_type": "markdown",
   "id": "832ddbc3",
   "metadata": {},
   "source": [
    "```\n",
    "\n",
    "🔎 ¿Qué verás en la figura?\n",
    "\n",
    "* 🌐 Una esfera azul claro (la Tierra).\n",
    "* 🔴 Punto A y 🟢 Punto B (cerca a Caucasia).\n",
    "* ⚫ Línea recta entre ellos (cuerda).\n",
    "* 🔴 Línea curva (arco del gran círculo), que es la distancia calculada con Haversine.\n",
    "\n",
    "¿Quieres que te prepare también una **versión 2D en un mapa de OpenStreetMap** con `plotly.express` para que veas el trayecto directamente sobre el terreno?\n"
   ]
  },
  {
   "cell_type": "markdown",
   "id": "8d54b119",
   "metadata": {},
   "source": [
    "\n",
    "# 2) Fórmulas elipsoidales (máxima precisión)\n",
    "\n",
    "Si necesitas centímetros/decímetros (levantamientos topográficos finos), usa un modelo **elipsoidal** (p. ej. WGS84/MAGNA-SIRGAS) con **Vincenty** o **Geodesic** (Karney).\n",
    "\n",
    "* En Python: `pyproj.Geod` o `geographiclib` (método “inverse”).\n",
    "* En PostGIS: `ST_Distance(geography)` calcula sobre el elipsoide WGS84.\n",
    "* En QGIS: Herramienta “Medir” configurada a elipsoide WGS84; o Field Calculator con funciones geodésicas.\n",
    "\n",
    "---\n",
    "\n",
    "# 3) Proyección plana local (para distancias cortas dentro de la hacienda)\n",
    "\n",
    "Si trabajas todo **dentro de una misma finca** (extensión pequeña), puedes transformar las coordenadas a un sistema **UTM** de tu zona (en gran parte de Antioquia suele ser UTM **zona 18N**, datum **MAGNA-SIRGAS/WGS84**) y luego usar distancia euclidiana:\n",
    "\n",
    "$$\n",
    "d=\\sqrt{(\\Delta E)^2+(\\Delta N)^2}\n",
    "$$\n",
    "\n",
    "donde $E, N$ son Este/Norte en **metros**. Esto es práctico en GIS (QGIS/ArcGIS) y minimiza distorsiones en áreas pequeñas.\n",
    "\n",
    "---\n",
    "\n",
    "## Recomendación práctica (checklist)\n",
    "\n",
    "* **Solo dos puntos y cálculo rápido:** Haversine.\n",
    "* **Informe técnico con alta precisión:** Vincenty/Geodesic (elipsoide).\n",
    "* **Mapeo/cálculo repetido dentro de la finca:** reproyecta a **UTM** y mide en metros.\n",
    "\n",
    "Si me compartes las coordenadas (lat/lon) de los dos puntos, te devuelvo la distancia ya calculada en metros y una pequeña tabla con el procedimiento.\n"
   ]
  },
  {
   "cell_type": "markdown",
   "id": "205e4ef7",
   "metadata": {},
   "source": [
    "\n",
    "### 10. Retroalimentación\n",
    "\n",
    "* Discusión en pequeños grupos: comparar soluciones manuales, Python y gráficas.\n",
    "* Autoevaluación de comprensión usando un formulario en Google Forms.\n",
    "\n",
    "---\n",
    "\n",
    "### 11. Vocabulario en inglés\n",
    "\n",
    "* **Linear system** = sistema lineal\n",
    "* **Determinant** = determinante\n",
    "* **Gaussian elimination** = eliminación de Gauss\n",
    "* **Cramer’s rule** = regla de Cramer\n",
    "* **Volume of parallelepiped** = volumen de paralelepípedo\n",
    "* **Agricultural engineering** = ingeniería agropecuaria\n",
    "\n",
    "---\n"
   ]
  },
  {
   "cell_type": "markdown",
   "id": "45ada73e",
   "metadata": {},
   "source": [
    "\n",
    "### 12. Apéndice socioemocional\n",
    "\n",
    "* Trabajo en equipo: roles rotativos (líder, programador, escriba, expositor).\n",
    "* Asertividad: expresar dudas sin temor.\n",
    "* Inteligencia emocional: estrategias para afrontar parciales sin ansiedad.\n",
    "\n",
    "---\n"
   ]
  },
  {
   "cell_type": "markdown",
   "id": "bb6c4188",
   "metadata": {},
   "source": [
    "\n",
    "### 13. Referentes en didáctica de la matemática (APA)\n",
    "\n",
    "* Artigue, M. (2002). *Learning Mathematics in a CAS Environment*.\n",
    "* Duval, R. (1993). *Registros de representación semiótica y funcionamiento cognitivo del pensamiento matemático*.\n",
    "* Felder, R. M., & Brent, R. (2016). *Teaching and Learning STEM*.\n",
    "* Gómez, P., & González, M. J. (2019). *Diseño de unidades didácticas en matemáticas para ingeniería*.\n",
    "* Harel, G. (2000). *Principles of Learning and Teaching Mathematics*.\n",
    "* Janvresse, E., & de la Rue, T. (2014). *From Random Matrices to Spatial Statistics in Agriculture*.\n",
    "* Kolb, D. A. (2014). *Experiential Learning*.\n",
    "* Prince, M. J., & Felder, R. M. (2006). *Inductive Teaching and Learning Methods*.\n",
    "* Sierpinska, A. (1990). *Some Remarks on Understanding in Mathematics*.\n",
    "* Strang, G. (2016). *Introduction to Linear Algebra* (5ª ed.).\n",
    "* Villalobos, J. R., & Ahumada, O. (2019). *Data Science Applications in Agriculture*.\n",
    "* Wing, J. (2006). *Computational Thinking*.\n",
    "\n",
    "---\n",
    "\n",
    "Marco, ¿quieres que te prepare también un **notebook Jupyter listo** con las implementaciones en NumPy, SymPy, Matplotlib y Plotly para esta clase?\n"
   ]
  },
  {
   "cell_type": "markdown",
   "id": "cc539357",
   "metadata": {},
   "source": [
    "# [Programación de programa Regiones](https://lookerstudio.google.com/reporting/44e71da0-d16f-4a51-a51e-d5ae6c19b3f1/page/p_gy4nwf37hd?pli=1)"
   ]
  },
  {
   "cell_type": "markdown",
   "id": "8ba64aed",
   "metadata": {},
   "source": [
    "# Cursos que orienta el profesor Marco Julio Cañas Campillo en 2025  \n",
    "\n",
    "1. Lunes 8 a 12: Fundamentos de Lógica: Licenciatura en Matemáticas . \n",
    "2. Martes de 9 a 10: Curso de ML and DL para Ingeniero Juan Gomez en España.  \n",
    "3. Martes de 2 a 5 PM: Vector Geometry and Linear Algebra.  \n",
    "4. Miércoles: 10 a 11: Reunión equipo investigador SAT Dengue. \n",
    "5. Miércoles 2 a 3 PM: Asesoría Trabajo de Grado Janis (Estudiante de Biología).  \n",
    "6. Viernes 2 a 6 PM: Análisis Numérico: Programa de Licenciatura en Matemáticas."
   ]
  },
  {
   "cell_type": "markdown",
   "id": "8d41fe58",
   "metadata": {
    "slideshow": {
     "slide_type": "slide"
    }
   },
   "source": [
    "# Horario de clases del profesor Marco\n",
    "\n",
    "* Lunes 8-12:   \n",
    "* Lunes 2- 6 PM: Fundamento de Lógica.  \n",
    "* Martes 8-12 M: . \n",
    "* Miércoles 8 a 12 M:   \n",
    "* Miércoles de 2 a 6 PM: \n",
    "* Jueves 2 a 6 PM:  \n",
    "* Viernes 2 - 4 PM: Análisis Numérico. \n",
    "* Sábados 8-12 Asesorías y espacio para retroalimentación y apoyo al trabajo independiente. "
   ]
  },
  {
   "cell_type": "markdown",
   "id": "ae114e14",
   "metadata": {
    "slideshow": {
     "slide_type": "slide"
    }
   },
   "source": [
    "# Horarios de monitoría y asesoría  \n",
    "\n",
    "* Monitor Manuel San Juan Serrano: Contactar escribiendo al correo: manuel.serrano1@udea.edu.co"
   ]
  },
  {
   "cell_type": "markdown",
   "id": "bf0f9dbf",
   "metadata": {},
   "source": [
    "\n",
    "Coordinador de los cursos de la Facultad de Educación para regiones:    \n",
    "\n",
    "Andrés Vélez: regioneducacion.fedu@udea.edu.co  \n",
    "Coordinador Regiones  \n",
    "Facultad de Educación  \n",
    "Universidad de Antioquia  "
   ]
  },
  {
   "cell_type": "markdown",
   "id": "39559692",
   "metadata": {
    "slideshow": {
     "slide_type": "slide"
    }
   },
   "source": [
    "Martes y jueves de 8 - 12  \n",
    "Miércoles 10 - 12 y de 2 a 4 PM  \n",
    "Sábado: 8 - 12"
   ]
  },
  {
   "cell_type": "markdown",
   "id": "10bce0d0",
   "metadata": {
    "slideshow": {
     "slide_type": "slide"
    }
   },
   "source": [
    "## Referentes "
   ]
  },
  {
   "cell_type": "markdown",
   "id": "1db3c468",
   "metadata": {
    "slideshow": {
     "slide_type": "slide"
    }
   },
   "source": [
    "* [CALCULO I DE UNA VARIABLE Ron Larson-Bruce Edwards. Mc Graw Hill. 9º Edición](https://www.academia.edu/42139251/CALCULO_I_DE_UNA_VARIABLE_Ron_Larson_Bruce_Edwards_Mc_Graw_Hill_9o_Edici%C3%B3n)   \n",
    "  \n",
    "\n",
    "* [Grajales Vanegas, L. M., Restrepo Estrada, C. E., Restrepo Ochoa, S. I., & Ruíz De Villalba, F. (2015). Matemáticas I para las ciencias económicas.](https://bibliotecadigital.udea.edu.co/handle/10495/3010)\n",
    "  \n",
    "* R. Duval y Semiosis y pensamiento humano, 2.ª ed. Cali, Colombia: Programa Editorial Universidad del Valle, 2017. [En línea]. Disponible en: https://programaeditorial.univalle.edu.co/gpd-semiosis-y-pensamiento-humano-9789587655278-63324cdb0f6b3.html\n",
    "\n",
    "* [Aylwin, C. U. (2011). Lógica, conjuntos y números. Universidad de los Andes, Consejo de Publicaciones, Colección: Ciencias Básicas, Serie: Matemáticas.](chrome-extension://efaidnbmnnnibpcajpcglclefindmkaj/https://www.u-cursos.cl/ciencias/2011/1/MC110/1/material_docente/bajar?id_material=574722)\n",
    "  \n",
    "* [Chollet, F. (2021). Deep learning with Python. Simon and Schuster.](chrome-extension://efaidnbmnnnibpcajpcglclefindmkaj/https://tanthiamhuat.wordpress.com/wp-content/uploads/2018/03/deeplearningwithpython.pdf)  \n",
    "  \n",
    "* [Watson, S., Stewart, J., & Redlin, L. (2009). Precálculo. Matemáticas para el cálculo.](https://github.com/marco-canas/calculo/blob/main/referents/1_precalculo_stewart/stewart_precalculo.pdf)  \n",
    "\n",
    "* [Purcell, E. J., Varberg, D., & Rigdon, S. E. (2007). Cálculo diferencial e integral. Pearson Educación.](https://github.com/marco-canas/calculo/blob/main/referents/purcell/purcell_calculo.pdf)\n",
    "\n",
    "  \n",
    "\n",
    "* [stewart cálculo](https://udeaeduco-my.sharepoint.com/:b:/g/personal/marco_canas_udea_edu_co/EZgXZjAp8QxPqOAim2hs6LcBNPLGjSHf-xwYnUVYkwa04w?e=RZdTCy)  \n",
    "\n",
    "\n",
    "\n",
    "\n",
    "\n",
    "* [Recomendación de la UNESCO sobre ciencia abierta](https://unesdoc.unesco.org/ark:/48223/pf0000379949_spa)\n",
    "\n",
    "* [chatGPT](https://openai.com/blog/chatgpt)  \n",
    "\n",
    "* [Géron, A. (2017). Hands-on machine learning with scikit-learn and tensorflow: Concepts. Tools, and Techniques to build intelligent systems.](chrome-extension://efaidnbmnnnibpcajpcglclefindmkaj/http://14.139.161.31/OddSem-0822-1122/Hands-On_Machine_Learning_with_Scikit-Learn-Keras-and-TensorFlow-2nd-Edition-Aurelien-Geron.pdf)   \n"
   ]
  },
  {
   "cell_type": "markdown",
   "id": "df925560",
   "metadata": {},
   "source": [
    "\n",
    "* [McKinney, W. (2012). Python for data analysis: Data wrangling with Pandas, NumPy, and IPython. \" O'Reilly Media, Inc.\".](https://wesmckinney.com/book/) "
   ]
  },
  {
   "cell_type": "markdown",
   "id": "8e65d6f9",
   "metadata": {},
   "source": [
    "# Como estudiante, encuentro que...   \n",
    "\n",
    "F: Mis Fortalezas son:     \n",
    "O: Mis Oportunidades son:    \n",
    "D: Mis Debilidades son:    \n",
    "A: Lo que Amenazas mi aprendizaje es:  "
   ]
  },
  {
   "cell_type": "markdown",
   "id": "6b9e56a8",
   "metadata": {
    "slideshow": {
     "slide_type": "slide"
    }
   },
   "source": [
    "### [Evaluamos al profesor Marco Cañas Aquí](https://forms.office.com/Pages/ResponsePage.aspx?id=IefhmYRxjkmK_7KtTlPBwkanXIs1i1FEujpsZgO6dXpUREJPV1kxUk1JV1ozTFJIQVNIQjY5WEY3US4u)"
   ]
  },
  {
   "cell_type": "markdown",
   "id": "4e8e8ccb",
   "metadata": {},
   "source": [
    "Basado en el diseño de investigación con enfoque IAE (Investigación-Acción Educativa) que compartiste, aquí tienes una propuesta de **sistema de evaluación bidireccional** para el curso *\"Vector Geometry and Linear Algebra\"*, implementable mediante Google Forms y alineado con los ciclos reflexivos de Kemmis & McTaggart:\n",
    "\n",
    "---\n",
    "\n",
    "### **Diseño de Evaluación para Ciclo IAE**  \n",
    "*(Para implementar en Google Forms cada 4 semanas)*  \n",
    "\n",
    "#### **1. Encuesta de Autoevaluación Estudiantil**  \n",
    "**Objetivo**: Monitorear progreso en competencias y percepción del enfoque investigativo.  \n",
    "\n",
    "**Secciones**:  \n",
    "1. **Adquisición de Competencias** (Escala Likert 1-5):  \n",
    "   - *\"¿Cómo evalúas tu dominio actual de:\"*  \n",
    "     - Operaciones con vectores/matrices aplicadas a datasets agrícolas  \n",
    "     - Implementación de PCA/SVD para análisis de imágenes satelitales  \n",
    "     - Interpretación de resultados matemáticos en contextos agropecuarios  \n",
    "\n",
    "2. **Evaluación de Metodología IAE**:  \n",
    "   - *\"El aprendizaje basado en problemas reales del Bajo Cauca me ha ayudado a:\"*  \n",
    "     - Comprender mejor los conceptos abstractos (1-5)  \n",
    "     - Desarrollar habilidades útiles para mi futuro profesional (1-5)  \n",
    "   - *Espacio abierto*: *\"Describe un momento donde la conexión teoría-práctica fue especialmente significativa para ti\"*  \n",
    "\n",
    "3. **Recursos y Herramientas**:  \n",
    "   - *\"Valora la utilidad de:\"*  \n",
    "     - Cuadernos Jupyter adaptados (ej. Géron 2022)  \n",
    "     - Sesiones con agricultores/ingenieros invitados  \n",
    "     - Plataforma GitHub para colaboración  \n",
    "\n",
    "---\n",
    "\n",
    "#### **2. Evaluación del Profesor**  \n",
    "**Objetivo**: Retroalimentación para ajustar didáctica según necesidades emergentes.  \n",
    "\n",
    "**Secciones**:  \n",
    "1. **Habilidades Docentes** (Escala 1-5):  \n",
    "   - *\"El profesor facilita la conexión entre álgebra lineal y problemas agrícolas mediante:\"*  \n",
    "     - Explicaciones claras de conceptos abstractos  \n",
    "     - Ejemplos contextualizados (ej. optimización de fertilizantes)  \n",
    "     - Retroalimentación constructiva en proyectos  \n",
    "\n",
    "2. **Seguimiento a Proyectos**:  \n",
    "   - *\"Las tutorías para los proyectos aplicados son:\"*  \n",
    "     - Suficientes en frecuencia y duración  \n",
    "     - Orientadas a resolver dudas técnicas específicas  \n",
    "     - Útiles para vincular matemáticas con agronomía  \n",
    "\n",
    "3. **Espacio cualitativo**:  \n",
    "   - *\"Sugiere un ajuste específico que mejoraría tu experiencia de aprendizaje\"*  \n",
    "\n",
    "---\n",
    "\n",
    "#### **3. Evaluación de Impacto Social** *(Opcional para proyectos con agricultores)*  \n",
    "**Objetivo**: Medir transferencia de conocimiento al sector productivo.  \n",
    "\n",
    "**Preguntas clave**:  \n",
    "- *\"¿Cómo ha influido el proyecto estudiantil en el que participaste en tus prácticas agrícolas?\"* (Ej.: reducción de costos, mejora en predicciones)  \n",
    "- *\"¿Recomendarías esta colaboración a otros productores?\"* (Sí/No + justificación)  \n",
    "\n",
    "---\n"
   ]
  },
  {
   "cell_type": "markdown",
   "id": "d2b6a2c7",
   "metadata": {},
   "source": [
    "\n",
    "### **Implementación en Google Forms**  \n",
    "1. **Configuración**:  \n",
    "   - Formulario anónimo (excepto evaluación de proyectos con agricultores)  \n",
    "   - Sección obligatoria (competencia + 1 pregunta abierta)  \n",
    "   - Opción de subir archivos (ej.: fotos de trabajos de campo)  \n",
    "\n",
    "2. **Ejemplo de Pregunta con Lógica Condicional**:  \n",
    "   ``` \n",
    "   Si respondiste 1-3 en \"Dominio de PCA aplicado\": \n",
    "   ¿Qué tipo de apoyo adicional necesitarías? (Taller práctico, material adicional, tutoría personalizada)  \n",
    "   ```\n",
    "\n",
    "3. **Enlace accesible**:  \n",
    "   - QR en presentaciones  \n",
    "   - Link en la cabecera del repositorio GitHub  \n",
    "\n",
    "---\n"
   ]
  },
  {
   "cell_type": "markdown",
   "id": "36872955",
   "metadata": {},
   "source": [
    "\n",
    "### **Análisis para Ciclo IAE**  \n",
    "**Herramientas**:  \n",
    "- **NVivo**: Para análisis temático de respuestas cualitativas  \n",
    "- **Google Data Studio**: Dashboard automático con:  \n",
    "  - Evolución temporal de competencias  \n",
    "  - Nube de palabras de sugerencias frecuentes  \n",
    "\n",
    "**Integración con Fases IAE**:  \n",
    "1. **Diagnóstico**: Identificar brechas recurrentes (ej.: dificultad con SVD)  \n",
    "2. **Acción**: Ajustar próximas clases (ej.: taller extra de descomposición matricial)  \n",
    "3. **Reflexión**: Comparar resultados entre ciclos (ej.: mejora en % de dominio de vectores)  \n",
    "\n",
    "**Ejemplo de Pregunta Clave para el Análisis**:  \n",
    "*\"¿Qué tema del módulo actual requirió más tiempo de práctica para su comprensión?\"*  \n",
    "\n",
    "---\n"
   ]
  },
  {
   "cell_type": "markdown",
   "id": "6d92b57d",
   "metadata": {},
   "source": [
    "\n",
    "### **Modelo de Informe Parcial** *(Para socializar con estudiantes)*  \n",
    "```markdown\n",
    "## Resultados Evaluación Ciclo 3 (2025-1)  \n",
    "- **85%** mejoró en interpretación de matrices aplicadas  \n",
    "- **Solicitud principal**: Más ejemplos con datos reales de cacaoteros  \n",
    "- **Ajustes implementados**:  \n",
    "  - Sesión extra con ingeniero de Agrosavia (25/05)  \n",
    "  - Dataset público de nutrientes en suelos arroceros añadido a GitHub  \n",
    "```\n"
   ]
  },
  {
   "cell_type": "markdown",
   "id": "b5c7eb34",
   "metadata": {},
   "source": [
    "\n",
    "Este diseño asegura que las evaluaciones:  \n",
    "✅ Sean **ágiles** (máx. 5 min por estudiante)  \n",
    "✅ Generen **datos accionables** para cada fase IAE  \n",
    "✅ Fomenten la **corresponsabilidad** en el proceso educativo  \n"
   ]
  },
  {
   "cell_type": "markdown",
   "id": "e2a5a506",
   "metadata": {},
   "source": [
    "\n",
    "¿Te gustaría que desarrolle las plantillas específicas de Google Forms o algún ajuste adicional para alinearlo mejor con tus módulos?"
   ]
  },
  {
   "cell_type": "markdown",
   "id": "10f43536",
   "metadata": {
    "slideshow": {
     "slide_type": "slide"
    }
   },
   "source": [
    "### Continue su aprendizaje en la siguiente clase a través del siguiente [vínculo]()"
   ]
  },
  {
   "cell_type": "markdown",
   "id": "53cc9115",
   "metadata": {
    "slideshow": {
     "slide_type": "slide"
    }
   },
   "source": [
    "## Agradecimientos  \n",
    "\n",
    "Doy gracias a Dios por la vida de mi Hijo Joseph Cañas Osorio y la madurez que ha alcanzado. Este hijo me enorgullece y me hace falta abrazarlo cada día. \n",
    "\n",
    "Y a mi esposa Yasmira Emperatriz Barboza Mogollón por su apoyo, orientación y acompañamiento. "
   ]
  },
  {
   "cell_type": "markdown",
   "id": "b6ba1c23",
   "metadata": {},
   "source": [
    "# Apéndice sobre calendarios y coordinaciones \n"
   ]
  },
  {
   "cell_type": "markdown",
   "id": "bf8b6499",
   "metadata": {},
   "source": [
    "## Calendario del semestre académico 2025-2  \n",
    "\n",
    "* Oferta de cursos: 29 de julio de 2025  \n",
    "\n",
    "Matrícula: 30 de julio de 2025  \n",
    "\n",
    "Ajustes de matrícula: 01 al 08 de agosto de 2025  \n",
    "\n",
    "Inicio de clases: 04 de agosto de 2025  \n",
    "\n",
    "Límite evaluación del 40%: 27 de septiembre de 2025  \n",
    "\n",
    "Terminación de clases: 22 de noviembre de 2025\n",
    "\n",
    "Exámenes finales: 24 al 29 de noviembre de 2025\n",
    "\n",
    "Habilitación y validación: 01 al 06 de diciembre 2025\n",
    "\n",
    "Terminación oficial del semestre: 09 de diciembre de 2025  "
   ]
  },
  {
   "cell_type": "markdown",
   "id": "667b9504",
   "metadata": {},
   "source": [
    "\n",
    "A continuación le envío el horario de la asignatura Cálculo Vectorial  \n",
    "\n",
    "Días:  \n",
    "Lunes - Hora: 7:00 a 12:00M  \n",
    "Fechas:  \n",
    "Febrero: 10-17-24                                          \n",
    " Marzo: 3-10-17-31                                                  \n",
    "Abril:7-21-28                                                   \n",
    "Mayo:5-12-19  \n",
    "\n",
    "Agradezco su apoyo, y si presenta alguna dificultad puede contactarme.  \n",
    "\n",
    "Cordialmente,  \n",
    "Juan Felipe Rivera Hernández  \n",
    "Contacto: 3106314300  "
   ]
  }
 ],
 "metadata": {
  "celltoolbar": "Slideshow",
  "kernelspec": {
   "display_name": ".venv",
   "language": "python",
   "name": "python3"
  },
  "language_info": {
   "codemirror_mode": {
    "name": "ipython",
    "version": 3
   },
   "file_extension": ".py",
   "mimetype": "text/x-python",
   "name": "python",
   "nbconvert_exporter": "python",
   "pygments_lexer": "ipython3",
   "version": "3.11.9"
  },
  "rise": {
   "enable_chalkboard": true,
   "theme": "sky",
   "transition": "zoom"
  }
 },
 "nbformat": 4,
 "nbformat_minor": 5
}
