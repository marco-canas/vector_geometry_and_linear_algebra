{
 "cells": [
  {
   "cell_type": "markdown",
   "id": "dc06dec7",
   "metadata": {
    "slideshow": {
     "slide_type": "slide"
    }
   },
   "source": [
    "<table align=\"left\">\n",
    "  <td>\n",
    "    <a href=\"https://colab.research.google.com/github/ageron/handson-ml3/blob/main/tools_numpy.ipynb\" target=\"_parent\"><img src=\"https://colab.research.google.com/assets/colab-badge.svg\" alt=\"Open In Colab\"/></a>\n",
    "  </td>\n",
    "  <td>\n",
    "    <a target=\"_blank\" href=\"https://kaggle.com/kernels/welcome?src=https://github.com/ageron/handson-ml3/blob/main/tools_numpy.ipynb\"><img src=\"https://kaggle.com/static/images/open-in-kaggle.svg\" /></a>\n",
    "  </td>\n",
    "</table>"
   ]
  },
  {
   "cell_type": "code",
   "execution_count": null,
   "id": "b1368ab8",
   "metadata": {},
   "outputs": [],
   "source": []
  },
  {
   "cell_type": "markdown",
   "id": "e0c5b198",
   "metadata": {
    "slideshow": {
     "slide_type": "slide"
    }
   },
   "source": [
    "### [Video de apoyo a la lectura interactiva y experimental de este cuaderno](https://www.youtube.com/watch?v=9kGpZxNxa04)"
   ]
  },
  {
   "cell_type": "markdown",
   "id": "41e82203",
   "metadata": {
    "slideshow": {
     "slide_type": "slide"
    }
   },
   "source": [
    "### [Vínculo al programa del curso:  ]()\n",
    "\n"
   ]
  },
  {
   "cell_type": "markdown",
   "id": "d11ab06d",
   "metadata": {
    "slideshow": {
     "slide_type": "slide"
    }
   },
   "source": [
    "Un reconocimiento a mis estudiantes que han construido conmigo este saber pedagógico:\n",
    "\n",
    "<img src = ''> \n",
    "\n"
   ]
  },
  {
   "cell_type": "markdown",
   "id": "8a74a56c-0ce6-4ad6-b985-553fd7fb68bb",
   "metadata": {},
   "source": [
    "Reconocimiento a las profesoras destacadas en enseñanza de la matemática en Colombia\n"
   ]
  },
  {
   "cell_type": "code",
   "execution_count": 3,
   "id": "7604880f",
   "metadata": {
    "slideshow": {
     "slide_type": "slide"
    }
   },
   "outputs": [
    {
     "data": {
      "application/vnd.microsoft.datawrangler.viewer.v0+json": {
       "columns": [
        {
         "name": "index",
         "rawType": "int64",
         "type": "integer"
        },
        {
         "name": "Cedula",
         "rawType": "int64",
         "type": "integer"
        },
        {
         "name": "Nombre",
         "rawType": "object",
         "type": "string"
        },
        {
         "name": "Unnamed: 2",
         "rawType": "object",
         "type": "string"
        }
       ],
       "ref": "45f6fdc7-bbaf-430f-8f55-2baec91461e3",
       "rows": [
        [
         "0",
         "1038547924",
         "ARROYAVE ECHAVARRIA LAURA SOFIA",
         "sofia.arroyave@udea.edu.co"
        ],
        [
         "1",
         "1007528664",
         "AYALA MENDOZA MARISOL YACIRA",
         "marisol.ayala@udea.edu.co"
        ],
        [
         "2",
         "1007566510",
         "LONDONO CUADRADO CRISTIAN ALBERTO",
         "cristian.londono3@udea.edu.co"
        ],
        [
         "3",
         "1038099623",
         "NORIEGA JIMENEZ GABRIELA",
         "gabriela.noriega@udea.edu.co"
        ],
        [
         "4",
         "1129805618",
         "PEREZ THERAN ERLINDA",
         "erlinda.perez@udea.edu.co"
        ]
       ],
       "shape": {
        "columns": 3,
        "rows": 5
       }
      },
      "text/html": [
       "<div>\n",
       "<style scoped>\n",
       "    .dataframe tbody tr th:only-of-type {\n",
       "        vertical-align: middle;\n",
       "    }\n",
       "\n",
       "    .dataframe tbody tr th {\n",
       "        vertical-align: top;\n",
       "    }\n",
       "\n",
       "    .dataframe thead th {\n",
       "        text-align: right;\n",
       "    }\n",
       "</style>\n",
       "<table border=\"1\" class=\"dataframe\">\n",
       "  <thead>\n",
       "    <tr style=\"text-align: right;\">\n",
       "      <th></th>\n",
       "      <th>Cedula</th>\n",
       "      <th>Nombre</th>\n",
       "      <th>Unnamed: 2</th>\n",
       "    </tr>\n",
       "  </thead>\n",
       "  <tbody>\n",
       "    <tr>\n",
       "      <th>0</th>\n",
       "      <td>1038547924</td>\n",
       "      <td>ARROYAVE ECHAVARRIA LAURA SOFIA</td>\n",
       "      <td>sofia.arroyave@udea.edu.co</td>\n",
       "    </tr>\n",
       "    <tr>\n",
       "      <th>1</th>\n",
       "      <td>1007528664</td>\n",
       "      <td>AYALA MENDOZA MARISOL YACIRA</td>\n",
       "      <td>marisol.ayala@udea.edu.co</td>\n",
       "    </tr>\n",
       "    <tr>\n",
       "      <th>2</th>\n",
       "      <td>1007566510</td>\n",
       "      <td>LONDONO CUADRADO CRISTIAN ALBERTO</td>\n",
       "      <td>cristian.londono3@udea.edu.co</td>\n",
       "    </tr>\n",
       "    <tr>\n",
       "      <th>3</th>\n",
       "      <td>1038099623</td>\n",
       "      <td>NORIEGA JIMENEZ GABRIELA</td>\n",
       "      <td>gabriela.noriega@udea.edu.co</td>\n",
       "    </tr>\n",
       "    <tr>\n",
       "      <th>4</th>\n",
       "      <td>1129805618</td>\n",
       "      <td>PEREZ THERAN ERLINDA</td>\n",
       "      <td>erlinda.perez@udea.edu.co</td>\n",
       "    </tr>\n",
       "  </tbody>\n",
       "</table>\n",
       "</div>"
      ],
      "text/plain": [
       "       Cedula                             Nombre  \\\n",
       "0  1038547924    ARROYAVE ECHAVARRIA LAURA SOFIA   \n",
       "1  1007528664       AYALA MENDOZA MARISOL YACIRA   \n",
       "2  1007566510  LONDONO CUADRADO CRISTIAN ALBERTO   \n",
       "3  1038099623           NORIEGA JIMENEZ GABRIELA   \n",
       "4  1129805618               PEREZ THERAN ERLINDA   \n",
       "\n",
       "                      Unnamed: 2  \n",
       "0     sofia.arroyave@udea.edu.co  \n",
       "1      marisol.ayala@udea.edu.co  \n",
       "2  cristian.londono3@udea.edu.co  \n",
       "3   gabriela.noriega@udea.edu.co  \n",
       "4      erlinda.perez@udea.edu.co  "
      ]
     },
     "execution_count": 3,
     "metadata": {},
     "output_type": "execute_result"
    }
   ],
   "source": [
    "import pandas as pd\n",
    "import numpy as np\n",
    "\n",
    "# Cargar la lista de estudiantes desde el archivo CSV\n",
    "path = 'C:/Users/marco/Documentos/docencia/groups_list/vector_geometry_and_linear_algebra.xlsx'\n",
    "df = pd.read_excel(path)\n",
    "df.head() \n"
   ]
  },
  {
   "cell_type": "markdown",
   "id": "d7598d0a-d9b7-4ae0-b029-a0ed6ed1130b",
   "metadata": {},
   "source": [
    "\n",
    "# Principios de mi labor docente"
   ]
  },
  {
   "cell_type": "markdown",
   "id": "4f9d8cf9",
   "metadata": {
    "slideshow": {
     "slide_type": "slide"
    }
   },
   "source": [
    "## Modelo general de clase: [aula invertida](https://www3.gobiernodecanarias.org/medusa/ecoescuela/pedagotic/aprendizaje-invertido-flipped-classroom/)"
   ]
  },
  {
   "cell_type": "markdown",
   "id": "eb6ed03a",
   "metadata": {},
   "source": [
    "<img src = 'https://resources.maneuveringthemiddle.com/wp-content/uploads/2020/07/04212706/1-5.png' width = 200>  \n",
    "\n"
   ]
  },
  {
   "cell_type": "markdown",
   "id": "34319cce-a71b-4f64-aab8-b53e521efa40",
   "metadata": {},
   "source": [
    "# Metodología de Aprendizaje Basado en Problemas y Proyectos (ABPP)\n"
   ]
  },
  {
   "cell_type": "markdown",
   "id": "c4f73d81",
   "metadata": {},
   "source": [
    "\n",
    "<img src = 'https://www.unir.net/wp-content/uploads/2020/07/aprendizaje-problemas2-1-1-1-1.jpeg' width = 200>"
   ]
  },
  {
   "cell_type": "markdown",
   "id": "841a985c-bd9b-4dd3-8e4c-893983980af2",
   "metadata": {},
   "source": [
    "# Desarrollo del pensamiento computacional con Lenguajes Python y R, y con archivos Markdown orientado a la formación en ciencia de datos \n",
    "\n"
   ]
  },
  {
   "cell_type": "markdown",
   "id": "3d0eba94",
   "metadata": {},
   "source": [
    "\n",
    "<img src = 'https://i.ytimg.com/vi/mcG_wcR4e6M/maxresdefault.jpg' width = 200>"
   ]
  },
  {
   "cell_type": "markdown",
   "id": "65aa0404-f7ae-495e-864c-1aec01b4255e",
   "metadata": {},
   "source": [
    "# Principio de fomento a la ciencia abierta, enseñar en el acceso a los datos públicos y el uso de software de código abierto  \n"
   ]
  },
  {
   "cell_type": "markdown",
   "id": "18ae9b87",
   "metadata": {},
   "source": [
    "\n",
    "<img src = 'https://unesdoc.unesco.org/in/rest/Thumb/image?id=p%3A%3Ausmarcdef_0000379949_spa&author=UNESCO&title=Recomendaci%C3%B3n+de+la+UNESCO+sobre+la+Ciencia+Abierta&year=2021&publisher=UNESCO&TypeOfDocument=UnescoPhysicalDocument&mat=PGD&ct=true&size=512&isPhysical=1' width = 200>"
   ]
  },
  {
   "cell_type": "markdown",
   "id": "d9559f85",
   "metadata": {},
   "source": [
    "El enfoque STEAMS en educación preescolar, primaria y secundaria es una extensión del enfoque STEM (Ciencia, Tecnología, Ingeniería y Matemáticas) y su variante STEAM, que incorpora el Arte. "
   ]
  },
  {
   "cell_type": "markdown",
   "id": "0130ec1b",
   "metadata": {},
   "source": [
    "\n",
    "<img src = 'https://www.campuseducacion.com/blog/wp-content/uploads/2023/03/foto01-1.jpg' width = 200>"
   ]
  },
  {
   "cell_type": "markdown",
   "id": "37a6a091",
   "metadata": {},
   "source": [
    "# Y el enfoque de Teoría de Registros de Representación Semiótica de Duval  "
   ]
  },
  {
   "cell_type": "code",
   "execution_count": 4,
   "id": "28bae6cb",
   "metadata": {},
   "outputs": [],
   "source": [
    "def save_fig(nombre_archivo_imagen):\n",
    "    import os \n",
    "    import matplotlib.pyplot as plt\n",
    "    ubicacion_para_imagenes = r\"C:/Users/marco/Downloads\"\n",
    "    imagen_path = os.path.join(ubicacion_para_imagenes, nombre_archivo_imagen)\n",
    "    plt.savefig(imagen_path, bbox_inches='tight')"
   ]
  },
  {
   "cell_type": "markdown",
   "id": "10e55ccf",
   "metadata": {},
   "source": [
    "# Estructura general para todas las clases\n"
   ]
  },
  {
   "cell_type": "markdown",
   "id": "ddd73417",
   "metadata": {},
   "source": [
    "\n",
    "Dame, por favor, un diseño de clase, con el enfoque: \"Aula Invertida, STEAMS, de Aprendizaje Basado en Problemas y Proyectos (ABPP) y de Teoría de Registros de Representación Semiótica (TRRS) de Duval\" sobre: \"Producto vectorial y aplicaciones geométricas en 3D. Interpretación en análisis de imágenes de drones.\tEjercicios prácticos con Matplotlib 3D.\tGéron, math_linear_algebra\", siguiendo la estructura:  \n",
    "\n",
    "\n",
    "\n",
    "1. Título de la clase   \n",
    "   \n",
    "2. Objetivo de aprendizaje que incluyan los indicadores del logro de estos objetivos. \n",
    "   \n",
    "3. Un mapa conceptual que resuma la clase elaborado en Graphviz de python con nodos y edges de diferentes formas, colores y rellenos y renderizado en la siguiente ubicación: `\"C:\\Users\\marco\\Downloads\"`.  No olvides el parámetro `view = True` para el método `render()` de Graphviz. Para este mapa controla las superposiciones de los nodos con: graph [overlap=false]; // Elimina superposiciones (puede aumentar el espacio)\n",
    "graph [overlap=\"scalexy\"]; // Escala el gráfico para evitar overlaps\n",
    "graph [overlap=\"compress\"]; // Comprime el grafo sin overlaps  \n",
    "   \n",
    "4. Elementos históricos y epistemológicos relevantes para la clase, pero narrados como una historieta al estilo de un cuentero antioqueño en Colombia. Incluye imágenes de los protagonistas históricos de esta clase.  \n",
    "   \n",
    "5. Contenido de la clase:     \n",
    "   \n",
    "          \n",
    "        \n",
    "6. Actividades de aprendizaje:   \n",
    "   \n",
    "7. Incluye una canción o un poema que ayude a interiorizar y fijar los conceptos asociados a esta clase.   \n",
    "   \n",
    "8.  Tarea o actividades de ejercitación y fijación. Incluye 20 ejercicios de tarea en las que los estudiantes empiecen con la descripción geométrica del algoritmo, luego la descripción verbal y secuencial del algoritmo, después la implementación en lenguaje python editado a través de la terminal powershell de su computador y finalmente con el cálculo a mano y en su cuaderno. Crea una función de usuario de Python que asigne esta tareas a cada uno de los estudiantes matriculados en este curso tomando la ubicación de los estudiantes dada en este prompt.  \n",
    "    \n",
    "9. Evaluación incluyendo 20 proyectos, un ejemplo de quiz (con tres items) y un ejemplo de parcial (con 5 items). Incluye evaluaciones en las que los estudiantes empiecen con la descripción geométrica del algoritmo, luego la descripción verbal y secuencial del algoritmo, después la implementación en lenguaje python editado a través de la terminal powershell de su computador, y finalmente con el cálculo algebraico y numérico a mano y en su cuaderno. \n",
    "    \n",
    "10. Diseño de actividad de retroalimentación.   \n",
    "    \n",
    "11. Dame un vocabulario y frases del idioma inglés asociadas a esta clase.    \n",
    "     \n",
    "12. Incluye apéndice para la clase sobre desarrollo de habilidades para trabajar en equipo y de asertividad y empatía para relacionarnos. También elementos de la inteligencia emocional para presentar pruebas sin temor y sin realizar fraude en ellas.    \n",
    "     \n",
    "13. Incluye 10 referentes en didáctica de la matemática que estén de acuerdo a la propuesta didáctica de esta clase. Adiciona a estos referentes a Raymond Duval (Representaciones y cambios de representación para la adquisición de conceptos matemáticos) y a [Jeannette Wing](https://es.wikipedia.org/wiki/Jeannette_Wing) (Desarrollo del pensamiento computacional). Déjame todos estos referentes ordenados de acuerdo a las normas APA. Al crear la clase, introduce las citas de estos autores en el texto de la clase.\n",
    "\n",
    "\n",
    "Pero  que este diseño sea para que el estudiante pueda aprender experimentando en cuadernos Jupyter con funciones de usuario y animaciones y visualizaciones en python.   \n",
    "\n",
    "En particular utiliza para el diseño de clase a Numpy, Pandas, SymPy, Matplotlib.pyplot, Seaborn, Plotly, ipywidgets, matplotlib.animation, TensorFlow, Keras y Jupyter Notebook.    \n",
    "\n",
    "Cada vez que utilices `matplotlib.animacion` no olvides incluir el uso de `IPython. display` para la rederización de estas animaciones a través de Jupyter Notebook. No olvides darme los diseños de clase con las ecuaciones matemáticas delimitadas con signo de dolar $ para que VS Code si me renderize estas expresiones del lenguaje latex. Cuando vallas a utilizar ipywidgets ten en cuenta la siguiente importación inicial para garantizar que la visualización interactiva si se renderize en VS Code:   \n",
    "\n",
    "import numpy as np  \n",
    "import matplotlib.pyplot as plt  \n",
    "import ipywidgets as widgets\n",
    "\n",
    "Diseña esta clase de acuerdo el programa del curso dado en: https://github.com/marco-canas/vector_geometry_and_linear_algebra/blob/main/2_planificacion/0_programa_curso/2_programa_curso_vector_geometry_and_linear_algebra.md\n",
    "\n",
    "Ubicación del proyecto investigativo: [aquí](https://github.com/marco-canas/linea_invest_didact_math_data/blob/main/1_estrategia_comunicacion/3_humanos_xxi/propuesta_en_20_paginas.md) \n",
    "Ubicación del programa del curso: [aquí](https://github.com/marco-canas/vector_geometry_and_linear_algebra/blob/main/2_planificacion/0_programa_curso/programa_curso_geo_vectorial_algebra_lineal_iae_python_data_science_2025_2.docx)\n",
    "Ubicación de la lista de estudiantes matriculados: [Aquí](https://github.com/marco-canas/groups_list/blob/main/vector_geometry_and_linear_algebra.xlsx)  \n",
    "\n",
    "\n"
   ]
  },
  {
   "cell_type": "markdown",
   "id": "596bbb56",
   "metadata": {},
   "source": [
    "El diseño de clase que pides es muy completo y extenso; te lo puedo estructurar en **13 secciones** tal como solicitas, integrando el programa del curso, los elementos de Duval y Géron, y las herramientas de Python que mencionas, de forma que el estudiante pueda aprender **experimentando en Jupyter Notebook** con funciones de usuario, visualizaciones y animaciones.\n",
    "\n",
    "Te propongo que lo construyamos así:\n",
    "\n",
    "---\n"
   ]
  },
  {
   "cell_type": "markdown",
   "id": "e07cca3b",
   "metadata": {},
   "source": [
    "\n",
    "## 1. **Título de la clase**\n",
    "\n",
    "**Producto vectorial y aplicaciones geométricas en 3D: Interpretación en análisis de imágenes de drones con Python y visualización interactiva**\n",
    "\n",
    "---\n"
   ]
  },
  {
   "cell_type": "markdown",
   "id": "f4e94fd4",
   "metadata": {},
   "source": [
    "\n",
    "## 2. **Objetivo de aprendizaje**\n",
    "\n",
    "* **Objetivo general:**\n",
    "  Comprender, aplicar e interpretar el producto vectorial en $\\mathbb{R}^{3}$, con énfasis en problemas geométricos y aplicaciones al análisis de imágenes capturadas por drones.\n"
   ]
  },
  {
   "cell_type": "markdown",
   "id": "cac50f6d",
   "metadata": {},
   "source": [
    "\n",
    "* **Objetivos específicos e indicadores:**\n",
    "\n",
    "  1. **Definir** el producto vectorial y sus propiedades.\n",
    "     *Indicador:* El estudiante enuncia correctamente la definición formal y la interpreta geométricamente.\n"
   ]
  },
  {
   "cell_type": "markdown",
   "id": "7bb91bb7",
   "metadata": {},
   "source": [
    "  2. **Calcular** productos vectoriales utilizando propiedades algebraicas y computacionales.\n",
    "     *Indicador:* Resuelve ejercicios a mano y en Python con resultados correctos.\n"
   ]
  },
  {
   "cell_type": "markdown",
   "id": "d8d04a8a",
   "metadata": {},
   "source": [
    "  3. **Interpretar** el producto vectorial en contextos de visión computacional aplicada a agricultura de precisión.\n",
    "     *Indicador:* Aplica el concepto para estimar áreas, orientaciones y normales de superficies en datos 3D.\n"
   ]
  },
  {
   "cell_type": "markdown",
   "id": "79c75d02",
   "metadata": {},
   "source": [
    "  4. **Representar** el producto vectorial usando gráficos y animaciones 3D.\n",
    "     *Indicador:* Genera visualizaciones interactivas en Matplotlib, Plotly y ipywidgets.\n",
    "\n",
    "---\n"
   ]
  },
  {
   "cell_type": "markdown",
   "id": "d3f0f08a",
   "metadata": {},
   "source": [
    "\n",
    "## 3. **Mapa conceptual en Graphviz (Python)**\n"
   ]
  },
  {
   "cell_type": "code",
   "execution_count": 4,
   "id": "1452a2f5",
   "metadata": {},
   "outputs": [
    {
     "data": {
      "text/plain": [
       "'C:\\\\Users\\\\marco\\\\Downloads\\\\mapa_producto_vectorial.png'"
      ]
     },
     "execution_count": 4,
     "metadata": {},
     "output_type": "execute_result"
    }
   ],
   "source": [
    "from graphviz import Graph\n",
    "\n",
    "dot = Graph(comment='Producto vectorial y aplicaciones 3D', format='png', engine='neato')\n",
    "\n",
    "# Configuración global para evitar superposición\n",
    "dot.attr(overlap='false', sep='1', nodesep='1', ranksep='1')\n",
    "\n",
    "# Nodos\n",
    "dot.node('A', 'Producto vectorial', shape='ellipse', style='filled', fillcolor='lightblue')\n",
    "dot.node('B', 'Definición algebraica', shape='box', style='filled', fillcolor='lightgreen')\n",
    "dot.node('C', 'Interpretación geométrica', shape='diamond', style='filled', fillcolor='yellow')\n",
    "dot.node('D', 'Propiedades', shape='parallelogram', style='filled', fillcolor='pink')\n",
    "dot.node('E', 'Aplicaciones en 3D', shape='hexagon', style='filled', fillcolor='orange')\n",
    "dot.node('F', 'Análisis imágenes drones', shape='box3d', style='filled', fillcolor='lightcoral')\n",
    "dot.node('G', 'Visualización Python', shape='note', style='filled', fillcolor='lightgrey')\n",
    "\n",
    "# Conexiones\n",
    "dot.edges([('A', 'B'), ('A', 'C'), ('A', 'D'), ('C', 'E'), ('E', 'F'), ('B', 'G'), ('E', 'G')])\n",
    "\n",
    "# Renderizado\n",
    "dot.render(r\"C:\\Users\\marco\\Downloads\\mapa_producto_vectorial\", view=True)\n"
   ]
  },
  {
   "cell_type": "markdown",
   "id": "791ba39a",
   "metadata": {},
   "source": [
    "\n",
    "---\n",
    "\n",
    "## 4. **Elementos históricos y epistemológicos narrados como cuentero antioqueño**\n",
    "\n",
    "\"Vea pues mijo, siéntese y le echo el cuento... Allá por el siglo XIX, un señor llamado **Josiah Willard Gibbs** y, por allá en Irlanda, otro don llamado **William Rowan Hamilton**, estaban dándole vueltas a cómo describir las fuerzas y rotaciones en el espacio. Gibbs se inventó este artilugio matemático que llamamos *producto vectorial*, que sirve pa' saber pa' dónde 'sale' una superficie. Y mire usted, que ese invento que parecía solo pa' físicos ahora sirve pa' que los drones, volando sobre el arroz o el café, calculen áreas, pendientes y hasta la dirección de la luz en las fotos.\"\n",
    "\n",
    "*(Aquí se incluirían imágenes de Gibbs y Hamilton)*\n",
    "\n",
    "---\n"
   ]
  },
  {
   "cell_type": "markdown",
   "id": "fcc7698e",
   "metadata": {},
   "source": [
    "\n",
    "## 5. **Contenido de la clase**\n"
   ]
  },
  {
   "cell_type": "markdown",
   "id": "62cafa1f",
   "metadata": {},
   "source": [
    "\n",
    "1. Definición formal del producto vectorial:\n",
    "\n",
    "   $$\n",
    "   \\mathbf{a} \\times \\mathbf{b} =\n",
    "   \\begin{vmatrix}\n",
    "   \\mathbf{i} & \\mathbf{j} & \\mathbf{k} \\\\\n",
    "   a_1 & a_2 & a_3 \\\\\n",
    "   b_1 & b_2 & b_3\n",
    "   \\end{vmatrix}\n",
    "   $$\n",
    "2. Propiedades algebraicas.\n",
    "3. Interpretación geométrica: área del paralelogramo, vector normal.\n",
    "4. Aplicación en imágenes de drones.\n",
    "5. Implementación en Python con NumPy.\n",
    "6. Visualización 3D interactiva en Matplotlib y Plotly.\n",
    "\n",
    "---\n"
   ]
  },
  {
   "cell_type": "markdown",
   "id": "c9fbbfb7",
   "metadata": {},
   "source": [
    "Perfecto, Marco Julio.\n",
    "Te organizo el **contenido de la clase** con la estructura que pides, siguiendo un nivel formal, pero también con ejemplos y código en Python para que los estudiantes puedan experimentar en Jupyter Notebook.\n",
    "\n",
    "---\n"
   ]
  },
  {
   "cell_type": "markdown",
   "id": "f8876500",
   "metadata": {},
   "source": [
    "\n",
    "## **1. Definición formal del producto vectorial**\n",
    "\n",
    "**Definición:**\n",
    "Sean $\\mathbf{a} = (a_{1}, a_{2}, a_{3})$ y $\\mathbf{b} = (b_1, b_2, b_3)$ vectores en $\\mathbb{R}^3$.\n",
    "El **producto vectorial** de $\\mathbf{a}$ y $\\mathbf{b}$, denotado por $\\mathbf{a} \\times \\mathbf{b}$, es el vector definido por:\n",
    "\n",
    "$$\n",
    "\\mathbf{a} \\times \\mathbf{b} =\n",
    "\\begin{vmatrix}\n",
    "\\mathbf{i} & \\mathbf{j} & \\mathbf{k} \\\\\n",
    "a_1 & a_2 & a_3 \\\\\n",
    "b_1 & b_2 & b_3\n",
    "\\end{vmatrix}\n",
    "= (a_2 b_3 - a_3 b_2)\\,\\mathbf{i} - (a_1 b_3 - a_3 b_1)\\,\\mathbf{j} + (a_1 b_2 - a_2 b_1)\\,\\mathbf{k}\n",
    "$$\n",
    "\n",
    "**Condiciones:**\n",
    "\n",
    "* Sólo está definido para vectores en **$\\mathbb{R}^3$**.\n",
    "* El resultado es **perpendicular** a ambos vectores.\n",
    "\n",
    "---\n"
   ]
  },
  {
   "cell_type": "markdown",
   "id": "00cec0b1",
   "metadata": {},
   "source": [
    "\n",
    "## **2. Propiedades algebraicas**\n",
    "\n",
    "1. **Anticonmutatividad:**\n",
    "\n",
    "   $$\n",
    "   \\mathbf{a} \\times \\mathbf{b} = - (\\mathbf{b} \\times \\mathbf{a})\n",
    "   $$\n",
    "\n",
    "2. **Distributiva respecto a la suma:**\n",
    "\n",
    "   $$\n",
    "   \\mathbf{a} \\times (\\mathbf{b} + \\mathbf{c}) = \\mathbf{a} \\times \\mathbf{b} + \\mathbf{a} \\times \\mathbf{c}\n",
    "   $$\n"
   ]
  },
  {
   "cell_type": "markdown",
   "id": "fe182e4a",
   "metadata": {},
   "source": [
    "\n",
    "3. **Producto por escalar:**\n",
    "\n",
    "   $$\n",
    "   (k\\mathbf{a}) \\times \\mathbf{b} = k(\\mathbf{a} \\times \\mathbf{b}) = \\mathbf{a} \\times (k\\mathbf{b})\n",
    "   $$\n",
    "   Esta propiedad le podemos dar el nombre de homogeneidad del producto escalar. \n"
   ]
  },
  {
   "cell_type": "markdown",
   "id": "016f4838",
   "metadata": {},
   "source": [
    "\n",
    "4. **Producto vectorial de un vector consigo mismo:**\n",
    "\n",
    "   $$\n",
    "   \\mathbf{a} \\times \\mathbf{a} = \\mathbf{0}\n",
    "   $$\n"
   ]
  },
  {
   "cell_type": "markdown",
   "id": "56af5dde",
   "metadata": {},
   "source": [
    "\n",
    "5. **Perpendicularidad:**\n",
    "\n",
    "   $$\n",
    "   (\\mathbf{a} \\times \\mathbf{b}) \\cdot \\mathbf{a} = 0\n",
    "   \\quad\\text{y}\\quad\n",
    "   (\\mathbf{a} \\times \\mathbf{b}) \\cdot \\mathbf{b} = 0\n",
    "   $$\n",
    "\n",
    "\n"
   ]
  },
  {
   "cell_type": "markdown",
   "id": "03ff35e8",
   "metadata": {},
   "source": [
    "\n",
    "## **3. Interpretación geométrica**\n"
   ]
  },
  {
   "cell_type": "markdown",
   "id": "bbf78116",
   "metadata": {},
   "source": [
    "\n",
    "* **Magnitud:**\n",
    "\n",
    "  $$\n",
    "  \\|\\mathbf{a} \\times \\mathbf{b}\\| = \\|\\mathbf{a}\\| \\cdot \\|\\mathbf{b}\\| \\cdot \\sin\\theta\n",
    "  $$\n",
    "\n",
    "  donde $\\theta$ es el ángulo entre $\\mathbf{a}$ y $\\mathbf{b}$.\n"
   ]
  },
  {
   "cell_type": "markdown",
   "id": "08336536",
   "metadata": {},
   "source": [
    "\n",
    "* **Área del paralelogramo:**\n",
    "  La magnitud de $\\mathbf{a} \\times \\mathbf{b}$ es igual al área del paralelogramo definido por $\\mathbf{a}$ y $\\mathbf{b}$.\n"
   ]
  },
  {
   "cell_type": "code",
   "execution_count": 6,
   "id": "a76c979a",
   "metadata": {},
   "outputs": [
    {
     "data": {
      "image/png": "[encoded data removed]",
      "text/plain": [
       "<Figure size 800x600 with 1 Axes>"
      ]
     },
     "metadata": {},
     "output_type": "display_data"
    }
   ],
   "source": [
    "import numpy as np\n",
    "import matplotlib.pyplot as plt\n",
    "from mpl_toolkits.mplot3d.art3d import Poly3DCollection\n",
    "\n",
    "# Definir dos vectores en R^3\n",
    "a = np.array([2, 1, 0])\n",
    "b = np.array([1, 3, 0])\n",
    "\n",
    "# Producto vectorial\n",
    "cross_ab = np.cross(a, b)\n",
    "\n",
    "# Crear los vértices del paralelogramo\n",
    "O = np.array([0, 0, 0])\n",
    "A = a\n",
    "B = b\n",
    "AB = a + b\n",
    "\n",
    "# Preparar la figura 3D\n",
    "fig = plt.figure(figsize=(8, 6))\n",
    "ax = fig.add_subplot(111, projection='3d')\n",
    "\n",
    "# Dibujar los vectores a, b y a×b\n",
    "ax.quiver(*O, *a, color='r', label=r'$\\vec{a}$', arrow_length_ratio=0.1)\n",
    "ax.quiver(*O, *b, color='g', label=r'$\\vec{b}$', arrow_length_ratio=0.1)\n",
    "ax.quiver(*O, *cross_ab, color='m', label=r'$\\vec{a} \\times \\vec{b}$', arrow_length_ratio=0.1)\n",
    "\n",
    "# Dibujar el paralelogramo con sombreado\n",
    "verts = [[O, A, AB, B]]\n",
    "ax.add_collection3d(Poly3DCollection(verts, facecolors='cyan', alpha=0.4, edgecolor='b'))\n",
    "\n",
    "# Ajustar límites y etiquetas\n",
    "ax.set_xlim([0, 3.5])\n",
    "ax.set_ylim([0, 4])\n",
    "ax.set_zlim([0, max(2, cross_ab[2] + 1)])\n",
    "ax.set_xlabel('X')\n",
    "ax.set_ylabel('Y')\n",
    "ax.set_zlabel('Z')\n",
    "ax.legend()\n",
    "ax.set_title('Vectores $a$, $b$, $a\\\\times b$ y el paralelogramo que definen')\n",
    "\n",
    "plt.show()\n"
   ]
  },
  {
   "cell_type": "markdown",
   "id": "0ec7cf13",
   "metadata": {},
   "source": [
    "\n",
    "* **Vector normal:**\n",
    "  El vector $\\mathbf{a} \\times \\mathbf{b}$ es perpendicular al plano que contiene a $\\mathbf{a}$ y $\\mathbf{b}$, y su dirección se determina mediante la **regla de la mano derecha**.\n",
    "\n",
    "---\n"
   ]
  },
  {
   "cell_type": "markdown",
   "id": "974e58d7",
   "metadata": {},
   "source": [
    "\n",
    "## **4. Aplicación en imágenes de drones**\n",
    "\n",
    "En análisis de imágenes capturadas por drones para **agricultura de precisión**:\n",
    "\n",
    "* El producto vectorial se usa para calcular **vectores normales** a superficies detectadas en reconstrucciones 3D.\n",
    "* Permite determinar la **orientación** de las hojas de los cultivos para estimar la captura de luz solar.\n",
    "* Sirve para estimar **áreas proyectadas** en mapas topográficos.\n",
    "\n",
    "---\n"
   ]
  },
  {
   "cell_type": "markdown",
   "id": "fede5566",
   "metadata": {},
   "source": [
    "\n",
    "## **5. Implementación en Python con NumPy**\n"
   ]
  },
  {
   "cell_type": "code",
   "execution_count": null,
   "id": "ff8c8ee2",
   "metadata": {},
   "outputs": [],
   "source": [
    "\n",
    "import numpy as np\n",
    "\n",
    "# Definir vectores\n",
    "a = np.array([2, 3, 4])\n",
    "b = np.array([5, 6, 7])\n",
    "\n",
    "# Producto vectorial\n",
    "cross_product = np.cross(a, b)\n",
    "\n",
    "print(\"Producto vectorial:\", cross_product)\n",
    "print(\"Magnitud:\", np.linalg.norm(cross_product))\n",
    "\n"
   ]
  },
  {
   "cell_type": "markdown",
   "id": "7ac90c39",
   "metadata": {},
   "source": [
    "\n",
    "---\n",
    "\n",
    "## **6. Visualización 3D interactiva en Matplotlib y Plotly**\n",
    "\n",
    "**Matplotlib 3D con animación:**\n",
    "\n",
    "```python\n",
    "import numpy as np\n",
    "import matplotlib.pyplot as plt\n",
    "from mpl_toolkits.mplot3d import Axes3D\n",
    "from IPython.display import HTML\n",
    "import matplotlib.animation as animation\n",
    "\n",
    "# Vectores\n",
    "a = np.array([2, 3, 0])\n",
    "b = np.array([3, 1, 0])\n",
    "c = np.cross(a, b)\n",
    "\n",
    "fig = plt.figure()\n",
    "ax = fig.add_subplot(111, projection='3d')\n",
    "\n",
    "# Dibujar vectores\n",
    "ax.quiver(0, 0, 0, a[0], a[1], a[2], color='r', label='a')\n",
    "ax.quiver(0, 0, 0, b[0], b[1], b[2], color='g', label='b')\n",
    "ax.quiver(0, 0, 0, c[0], c[1], c[2], color='b', label='a × b')\n",
    "\n",
    "ax.set_xlim([0, 4])\n",
    "ax.set_ylim([0, 4])\n",
    "ax.set_zlim([0, 4])\n",
    "ax.legend()\n",
    "\n",
    "plt.show()\n",
    "```\n",
    "\n",
    "**Plotly interactivo:**\n",
    "\n",
    "```python\n",
    "import plotly.graph_objects as go\n",
    "\n",
    "fig = go.Figure()\n",
    "\n",
    "# Vectores\n",
    "for vec, color, name in [(a, 'red', 'a'), (b, 'green', 'b'), (c, 'blue', 'a × b')]:\n",
    "    fig.add_trace(go.Cone(\n",
    "        x=[0], y=[0], z=[0],\n",
    "        u=[vec[0]], v=[vec[1]], w=[vec[2]],\n",
    "        colorscale=[[0, color], [1, color]],\n",
    "        sizemode=\"absolute\", sizeref=0.5, name=name\n",
    "    ))\n",
    "\n",
    "fig.update_layout(scene=dict(aspectmode='cube'))\n",
    "fig.show()\n",
    "```\n",
    "\n",
    "---\n",
    "\n",
    "Si quieres, puedo prepararte **una versión en Jupyter Notebook con estos apartados** lista para que tus estudiantes la usen, con animaciones de rotación de vectores y controles interactivos con `ipywidgets` para manipular los valores de \\$a\\$ y \\$b\\$.\n",
    "\n",
    "¿Quieres que te prepare esa versión lista para el aula invertida?\n"
   ]
  },
  {
   "cell_type": "markdown",
   "id": "488533de",
   "metadata": {},
   "source": [
    "\n",
    "## 6. **Actividades de aprendizaje**\n",
    "\n",
    "* Ejercicios guiados de cálculo a mano.\n",
    "* Simulación de vectores con NumPy.\n",
    "* Animación del producto vectorial con `matplotlib.animation` y `IPython.display`.\n",
    "* Uso de `ipywidgets` para manipular vectores y ver cambios en tiempo real.\n",
    "\n",
    "---\n"
   ]
  },
  {
   "cell_type": "markdown",
   "id": "27c76889",
   "metadata": {},
   "source": [
    "Perfecto, Marco Julio.\n",
    "Te preparo ejemplos **listos para el aula invertida en Jupyter Notebook**, de modo que tus estudiantes puedan ir **del cálculo manual a la simulación interactiva**.\n",
    "\n",
    "---\n",
    "\n",
    "## **Ejemplos ilustrativos de las actividades de aprendizaje**\n",
    "\n",
    "---\n",
    "\n",
    "### **1. Ejercicio guiado de cálculo a mano**\n",
    "\n",
    "**Enunciado:**\n",
    "Calcule a mano el producto vectorial de:\n",
    "\n",
    "$$\n",
    "\\mathbf{a} = (2,\\, -1,\\, 3), \\quad \\mathbf{b} = (4,\\, 0,\\, -2)\n",
    "$$\n",
    "\n",
    "**Solución paso a paso:**\n",
    "\n",
    "$$\n",
    "\\mathbf{a} \\times \\mathbf{b} =\n",
    "\\begin{vmatrix}\n",
    "\\mathbf{i} & \\mathbf{j} & \\mathbf{k} \\\\\n",
    "2 & -1 & 3 \\\\\n",
    "4 & 0 & -2\n",
    "\\end{vmatrix}\n",
    "$$\n",
    "\n",
    "1. Calcular componente \\$i\\$:\n",
    "\n",
    "$$\n",
    "(-1)(-2) - (3)(0) = 2\n",
    "$$\n",
    "\n",
    "2. Calcular componente \\$j\\$ (cambiando el signo):\n",
    "\n",
    "$$\n",
    "- \\left[(2)(-2) - (3)(4)\\right] = -\\left[-4 - 12\\right] = 16\n",
    "$$\n",
    "\n",
    "3. Calcular componente \\$k\\$:\n",
    "\n",
    "$$\n",
    "(2)(0) - (-1)(4) = 4\n",
    "$$\n",
    "\n",
    "**Resultado:**\n",
    "\n",
    "$$\n",
    "\\mathbf{a} \\times \\mathbf{b} = (2,\\, 16,\\, 4)\n",
    "$$\n",
    "\n",
    "---\n",
    "\n",
    "### **2. Simulación de vectores con NumPy**\n",
    "\n",
    "```python\n",
    "import numpy as np\n",
    "\n",
    "# Vectores\n",
    "a = np.array([2, -1, 3])\n",
    "b = np.array([4, 0, -2])\n",
    "\n",
    "# Producto vectorial y magnitud\n",
    "cross_product = np.cross(a, b)\n",
    "magnitude = np.linalg.norm(cross_product)\n",
    "\n",
    "print(\"Producto vectorial:\", cross_product)\n",
    "print(\"Magnitud:\", magnitude)\n",
    "```\n",
    "\n",
    "---\n",
    "\n",
    "### **3. Animación del producto vectorial con `matplotlib.animation` y `IPython.display`**\n",
    "\n",
    "```python\n",
    "import numpy as np\n",
    "import matplotlib.pyplot as plt\n",
    "from mpl_toolkits.mplot3d import Axes3D\n",
    "import matplotlib.animation as animation\n",
    "from IPython.display import HTML\n",
    "\n",
    "# Vectores\n",
    "a = np.array([2, 1, 0])\n",
    "b = np.array([1, 3, 0])\n",
    "c = np.cross(a, b)\n",
    "\n",
    "# Crear figura\n",
    "fig = plt.figure()\n",
    "ax = fig.add_subplot(111, projection='3d')\n",
    "\n",
    "# Configuración de ejes\n",
    "ax.set_xlim([0, 4])\n",
    "ax.set_ylim([0, 4])\n",
    "ax.set_zlim([0, 4])\n",
    "\n",
    "# Dibujar vectores iniciales\n",
    "ax.quiver(0, 0, 0, a[0], a[1], a[2], color='r', label='a')\n",
    "ax.quiver(0, 0, 0, b[0], b[1], b[2], color='g', label='b')\n",
    "ax.quiver(0, 0, 0, c[0], c[1], c[2], color='b', label='a × b')\n",
    "ax.legend()\n",
    "\n",
    "# Función de animación (rotar cámara)\n",
    "def rotate(angle):\n",
    "    ax.view_init(30, angle)\n",
    "\n",
    "ani = animation.FuncAnimation(fig, rotate, frames=np.arange(0, 360, 2), interval=100)\n",
    "HTML(ani.to_jshtml())\n",
    "```\n",
    "\n",
    "---\n",
    "\n",
    "### **4. Uso de `ipywidgets` para manipular vectores y ver cambios en tiempo real**\n",
    "\n",
    "```python\n",
    "import numpy as np\n",
    "import matplotlib.pyplot as plt\n",
    "import ipywidgets as widgets\n",
    "from mpl_toolkits.mplot3d import Axes3D\n",
    "\n",
    "# Función para actualizar el gráfico\n",
    "def actualizar(ax_val, ay_val, az_val, bx_val, by_val, bz_val):\n",
    "    a = np.array([ax_val, ay_val, az_val])\n",
    "    b = np.array([bx_val, by_val, bz_val])\n",
    "    c = np.cross(a, b)\n",
    "\n",
    "    fig = plt.figure()\n",
    "    ax = fig.add_subplot(111, projection='3d')\n",
    "\n",
    "    ax.quiver(0, 0, 0, a[0], a[1], a[2], color='r', label='a')\n",
    "    ax.quiver(0, 0, 0, b[0], b[1], b[2], color='g', label='b')\n",
    "    ax.quiver(0, 0, 0, c[0], c[1], c[2], color='b', label='a × b')\n",
    "\n",
    "    ax.set_xlim([-5, 5])\n",
    "    ax.set_ylim([-5, 5])\n",
    "    ax.set_zlim([-5, 5])\n",
    "    ax.legend()\n",
    "    plt.show()\n",
    "\n",
    "# Controles interactivos\n",
    "widgets.interact(\n",
    "    actualizar,\n",
    "    ax_val=widgets.IntSlider(min=-5, max=5, value=2),\n",
    "    ay_val=widgets.IntSlider(min=-5, max=5, value=1),\n",
    "    az_val=widgets.IntSlider(min=-5, max=5, value=0),\n",
    "    bx_val=widgets.IntSlider(min=-5, max=5, value=1),\n",
    "    by_val=widgets.IntSlider(min=-5, max=5, value=3),\n",
    "    bz_val=widgets.IntSlider(min=-5, max=5, value=0),\n",
    ")\n",
    "```\n",
    "\n",
    "---\n",
    "\n",
    "Si quieres, puedo prepararte **un notebook completo** con:\n",
    "\n",
    "* Estos ejemplos\n",
    "* Espacios para que el estudiante escriba sus respuestas manualmente\n",
    "* Una actividad final que combine **cálculo a mano + NumPy + animación + widgets interactivos**\n",
    "  de manera que encaje con tu enfoque de **Aula Invertida y TRRS de Duval**.\n",
    "\n",
    "¿Quieres que te arme ese notebook listo para tu curso?\n"
   ]
  },
  {
   "cell_type": "markdown",
   "id": "17a1832c",
   "metadata": {},
   "source": [
    "\n",
    "## 7. **Canción/poema**\n",
    "\n",
    "*(Versos sobre el producto vectorial, al estilo de trova paisa)*\n",
    "\n",
    "---\n"
   ]
  },
  {
   "cell_type": "markdown",
   "id": "fd3e3031",
   "metadata": {},
   "source": [
    "Perfecto, Marco Julio, aquí tienes la **trova paisa** que le dará a la clase un toque cultural y recordatorio divertido para el producto vectorial:\n",
    "\n",
    "---\n",
    "\n",
    "## 🎵 **Trova Paisa del Producto Vectorial** 🎵\n",
    "\n",
    "*(Al ritmo de la típica trova antioqueña, con rima y picardía)*\n",
    "\n",
    "---\n",
    "\n",
    "🎶\n",
    "**I**\n",
    "\"Vea pues mijo querido,\n",
    "que en \\$\\mathbb{R}^3\\$ hay un cuento,\n",
    "dos vectores bien metidos\n",
    "se cruzan con fundamento.\n",
    "\n",
    "**II**\n",
    "Se llama producto vectorial,\n",
    "y pa’ que no se me olvide,\n",
    "su resultado es perpendicular,\n",
    "¡eso la regla lo decide!\n",
    "\n",
    "**III**\n",
    "La magnitud es sencilla,\n",
    "mire el seno de ese ángulo,\n",
    "y así calcula la orilla\n",
    "del paralelogramo exacto.\n",
    "\n",
    "**IV**\n",
    "Y si en drones va a trabajar,\n",
    "pa’ medir la luz del trigo,\n",
    "¡use Python pa’ calcular\n",
    "y verá que yo no miento, amigo!\"\n",
    "🎶\n",
    "\n",
    "---\n",
    "\n",
    "💡 **Idea didáctica:**\n",
    "Podrías cantar la trova **después de explicar las propiedades** y antes de pasar a la parte de **animaciones con Matplotlib**, para que los estudiantes tengan en mente la perpendicularidad y el uso práctico del producto vectorial.\n",
    "\n",
    "---\n",
    "\n",
    "Si quieres, también puedo prepararte **la pista en formato .mp3 con voz y ritmo de trova paisa** para usar en clase.\n",
    "¿Quieres que te la cree?\n"
   ]
  },
  {
   "cell_type": "markdown",
   "id": "354124fb",
   "metadata": {},
   "source": [
    "\n",
    "## 8. **Tarea de 20 ejercicios**\n",
    "\n",
    "*(Aquí detallaríamos los 20 problemas siguiendo tu secuencia: descripción geométrica → verbal → Python → cálculo a mano)*\n",
    "Incluiremos una **función Python** que asigna las tareas a cada estudiante desde el Excel que diste.\n",
    "\n",
    "---\n"
   ]
  },
  {
   "cell_type": "markdown",
   "id": "419bfdbb",
   "metadata": {},
   "source": [
    "Perfecto, Marco Julio.\n",
    "Te preparo la **tarea con 20 ejercicios** sobre producto vectorial y aplicaciones, siguiendo la secuencia que pediste:\n",
    "\n",
    "---\n",
    "\n",
    "## **8. Tarea – Producto Vectorial y Aplicaciones**\n",
    "\n",
    "Cada ejercicio debe resolverse en **cuatro etapas**:\n",
    "\n",
    "1. **Descripción geométrica** del problema (dibujo y explicación de la situación).\n",
    "2. **Descripción verbal y secuencial** del algoritmo para resolverlo.\n",
    "3. **Implementación en Python** (usando NumPy y Matplotlib 3D).\n",
    "4. **Cálculo a mano** en el cuaderno, con todos los pasos justificados.\n",
    "\n",
    "---\n",
    "\n",
    "### **Ejercicios propuestos**\n",
    "\n",
    "#### **Parte A – Concepto básico y propiedades (1–5)**\n",
    "\n",
    "1. Calcular \\$\\mathbf{a} \\times \\mathbf{b}\\$ para \\$\\mathbf{a} = (1, 2, 3)\\$ y \\$\\mathbf{b} = (4, 5, 6)\\$.\n",
    "2. Verificar la propiedad \\$\\mathbf{a} \\times \\mathbf{b} = -(\\mathbf{b} \\times \\mathbf{a})\\$ con \\$\\mathbf{a} = (2, -1, 0)\\$ y \\$\\mathbf{b} = (0, 3, 4)\\$.\n",
    "3. Comprobar que \\$\\mathbf{a} \\times \\mathbf{a} = \\mathbf{0}\\$ para \\$\\mathbf{a} = (3, 2, 1)\\$.\n",
    "4. Mostrar que \\$(2\\mathbf{a}) \\times \\mathbf{b} = 2(\\mathbf{a} \\times \\mathbf{b})\\$ usando \\$\\mathbf{a} = (1, 0, -1)\\$ y \\$\\mathbf{b} = (0, 2, 1)\\$.\n",
    "5. Calcular la magnitud de \\$\\mathbf{a} \\times \\mathbf{b}\\$ y verificar que corresponde al área del paralelogramo formado por \\$\\mathbf{a} = (3, 1, 2)\\$ y \\$\\mathbf{b} = (-1, 4, 0)\\$.\n",
    "\n",
    "---\n",
    "\n",
    "#### **Parte B – Interpretación geométrica y áreas (6–10)**\n",
    "\n",
    "6. Hallar el área del triángulo determinado por \\$\\mathbf{a} = (4, 0, 0)\\$ y \\$\\mathbf{b} = (0, 3, 0)\\$.\n",
    "7. Dado \\$\\mathbf{a} = (1, 2, 0)\\$ y \\$\\mathbf{b} = (2, 1, 1)\\$, calcular el vector normal al plano que determinan.\n",
    "8. Verificar que el vector normal encontrado es perpendicular a ambos vectores mediante el producto punto.\n",
    "9. Graficar en 3D el paralelogramo definido por \\$\\mathbf{a} = (2, 2, 0)\\$ y \\$\\mathbf{b} = (0, 3, 2)\\$.\n",
    "10. Representar la regla de la mano derecha para \\$\\mathbf{a} = (1, 0, 0)\\$ y \\$\\mathbf{b} = (0, 1, 0)\\$ en Python con `matplotlib`.\n",
    "\n",
    "---\n",
    "\n",
    "#### **Parte C – Aplicaciones en imágenes y drones (11–15)**\n",
    "\n",
    "11. Simular en Python un conjunto de puntos que representan una superficie plana y calcular un vector normal usando dos vectores de la superficie.\n",
    "12. Determinar el ángulo de inclinación de una hoja de cultivo a partir de dos vectores medidos con sensores de un dron.\n",
    "13. Usar `numpy.cross` para calcular la orientación de una cámara de dron respecto a la horizontal.\n",
    "14. Implementar un script que calcule áreas proyectadas en un mapa topográfico a partir de pares de vectores.\n",
    "15. Analizar el cambio del vector normal cuando se modifica un vértice de un triángulo capturado en imagen 3D.\n",
    "\n",
    "---\n",
    "\n",
    "#### **Parte D – Visualización e interactividad (16–20)**\n",
    "\n",
    "16. Crear un script que permita variar \\$\\mathbf{a}\\$ y \\$\\mathbf{b}\\$ con `ipywidgets` y observar cómo cambia \\$\\mathbf{a} \\times \\mathbf{b}\\$.\n",
    "17. Animar la rotación de \\$\\mathbf{a}\\$ alrededor de \\$\\mathbf{b}\\$ y mostrar la trayectoria del vector producto.\n",
    "18. Graficar simultáneamente los vectores \\$\\mathbf{a}\\$, \\$\\mathbf{b}\\$, y \\$\\mathbf{a} \\times \\mathbf{b}\\$ para 5 pares de vectores aleatorios.\n",
    "19. Programar una función que reciba dos vectores y devuelva: producto vectorial, magnitud, y ángulo entre ellos.\n",
    "20. Usar Plotly para crear una visualización interactiva del producto vectorial en 3D.\n",
    "\n",
    "---\n",
    "\n",
    "## **Función Python para asignar tareas a cada estudiante**\n",
    "\n",
    "Esta función toma la lista de estudiantes del Excel de tu GitHub y asigna **un subconjunto de ejercicios** a cada uno.\n",
    "\n",
    "```python\n",
    "import pandas as pd\n",
    "import random\n",
    "\n",
    "def asignar_tareas(ruta_excel, total_ejercicios=20, ejercicios_por_estudiante=5, salida_csv=\"tareas_asignadas.csv\"):\n",
    "    # Leer lista de estudiantes\n",
    "    df = pd.read_excel(ruta_excel)\n",
    "    \n",
    "    # Crear asignaciones\n",
    "    asignaciones = []\n",
    "    for estudiante in df[\"Nombre\"]:\n",
    "        ejercicios = random.sample(range(1, total_ejercicios+1), ejercicios_por_estudiante)\n",
    "        asignaciones.append({\n",
    "            \"Nombre\": estudiante,\n",
    "            \"Ejercicios asignados\": ejercicios\n",
    "        })\n",
    "    \n",
    "    # Guardar en CSV\n",
    "    df_asignaciones = pd.DataFrame(asignaciones)\n",
    "    df_asignaciones.to_csv(salida_csv, index=False)\n",
    "    print(f\"Tareas asignadas guardadas en {salida_csv}\")\n",
    "\n",
    "# Ejemplo de uso\n",
    "asignar_tareas(\n",
    "    ruta_excel=\"vector_geometry_and_linear_algebra.xlsx\",\n",
    "    ejercicios_por_estudiante=5\n",
    ")\n",
    "```\n",
    "\n",
    "---\n",
    "\n",
    "Si quieres, te puedo preparar **un Jupyter Notebook** con:\n",
    "\n",
    "* Todos estos 20 ejercicios ya listos para que los estudiantes los desarrollen\n",
    "* Espacios para insertar dibujos, código Python y el cálculo manual\n",
    "* La función de asignación para repartir automáticamente las tareas\n",
    "\n",
    "¿Quieres que te lo deje listo en formato `.ipynb` para tu curso?\n"
   ]
  },
  {
   "cell_type": "markdown",
   "id": "14d2f82e",
   "metadata": {},
   "source": [
    "\n",
    "## 9. **Evaluación**\n",
    "\n",
    "* 20 proyectos aplicados a visión por computador agrícola.\n",
    "* Quiz ejemplo (3 ítems).\n",
    "* Parcial ejemplo (5 ítems).\n",
    "\n",
    "---\n"
   ]
  },
  {
   "cell_type": "markdown",
   "id": "de164926",
   "metadata": {},
   "source": [
    "Perfecto, Marco Julio.\n",
    "Aquí tienes la propuesta de **evaluaciones** para la clase sobre **Producto Vectorial** siguiendo exactamente tu estructura y en sintonía con el enfoque de Aula Invertida + ABPP + TRRS.\n",
    "\n",
    "---\n",
    "\n",
    "## **9. Evaluación – Producto Vectorial y Aplicaciones en 3D**\n",
    "\n",
    "---\n",
    "\n",
    "### **A. Proyectos (20) – Visión por Computador Agrícola**\n",
    "\n",
    "Cada proyecto debe incluir:\n",
    "\n",
    "1. **Descripción geométrica** del problema.\n",
    "2. **Explicación verbal y secuencial del algoritmo**.\n",
    "3. **Implementación en Python** (NumPy, Matplotlib 3D, Plotly).\n",
    "4. **Validación de resultados a mano**.\n",
    "5. **Informe técnico** con gráficos, código, y conclusiones.\n",
    "\n",
    "**Lista de proyectos:**\n",
    "\n",
    "1. Calcular la orientación de hojas de plátano a partir de nubes de puntos 3D capturadas por dron.\n",
    "2. Determinar la inclinación del terreno en una parcela de cacao usando vectores tomados de imágenes aéreas.\n",
    "3. Medir el área proyectada de un campo de arroz desde fotos ortogonales y oblicuas.\n",
    "4. Detectar cambios en la orientación de cultivos de maíz por efecto del viento usando secuencias de imágenes.\n",
    "5. Generar mapas de pendientes y normales de un cultivo de café.\n",
    "6. Calcular la orientación óptima de cámaras en drones para maximizar la captura de información de cultivos de caña.\n",
    "7. Identificar zonas planas y zonas inclinadas en parcelas de aguacate.\n",
    "8. Simular la trayectoria de un dron considerando el vector normal de un terreno irregular.\n",
    "9. Comparar áreas calculadas por producto vectorial con áreas medidas por GPS.\n",
    "10. Estimar la inclinación de techos de invernaderos a partir de imágenes satelitales.\n",
    "11. Detectar erosión en un cultivo mediante cambios en los vectores normales de terreno.\n",
    "12. Calcular la dirección de la sombra proyectada por árboles a partir de vectores solares y topográficos.\n",
    "13. Generar modelos 3D de parcelas usando producto vectorial para el cálculo de caras.\n",
    "14. Calcular la posición de paneles solares sobre cultivos según la orientación del terreno.\n",
    "15. Medir la inclinación de hileras de siembra en un cultivo de arroz.\n",
    "16. Determinar la dirección de flujo de agua en canales de riego mediante análisis vectorial.\n",
    "17. Analizar la orientación de taludes y su riesgo de deslizamiento.\n",
    "18. Comparar vectores normales de un mismo cultivo en distintas épocas para estudiar cambios de crecimiento.\n",
    "19. Calcular la inclinación de superficies de almacenamiento de grano.\n",
    "20. Simular interactividad con `ipywidgets` para manipular vectores y analizar cambios en la orientación del terreno.\n",
    "\n",
    "---\n",
    "\n",
    "### **B. Quiz – Ejemplo (3 ítems)**\n",
    "\n",
    "**Tiempo:** 30 minutos\n",
    "**Instrucciones:** Resolver cada problema en las 4 etapas de trabajo (geométrica, verbal, Python, cálculo manual).\n",
    "\n",
    "1. Dados \\$\\mathbf{a} = (2,,1,,0)\\$ y \\$\\mathbf{b} = (0,,3,,1)\\$:\n",
    "\n",
    "   * Calcule \\$\\mathbf{a} \\times \\mathbf{b}\\$.\n",
    "   * Represente gráficamente en 3D los tres vectores.\n",
    "2. Demuestre que \\$\\mathbf{a} \\times \\mathbf{b}\\$ es perpendicular a \\$\\mathbf{a}\\$ y a \\$\\mathbf{b}\\$.\n",
    "3. Interprete el resultado del producto vectorial como área de un paralelogramo y relacione con una aplicación agrícola real.\n",
    "\n",
    "---\n",
    "\n",
    "### **C. Parcial – Ejemplo (5 ítems)**\n",
    "\n",
    "**Tiempo:** 2 horas\n",
    "**Instrucciones:** Resolver en las 4 etapas de trabajo.\n",
    "\n",
    "1. Calcule \\$\\mathbf{a} \\times \\mathbf{b}\\$ para \\$\\mathbf{a} = (3,, -1,, 2)\\$ y \\$\\mathbf{b} = (1,, 4,, -2)\\$.\n",
    "2. Demuestre que \\$(\\mathbf{a} + \\mathbf{b}) \\times \\mathbf{c} = \\mathbf{a} \\times \\mathbf{c} + \\mathbf{b} \\times \\mathbf{c}\\$ para \\$\\mathbf{a} = (1,,0,,0)\\$, \\$\\mathbf{b} = (0,,1,,0)\\$, y \\$\\mathbf{c} = (0,,0,,1)\\$.\n",
    "3. A partir de un conjunto de puntos \\$(x,y,z)\\$ que representan un triángulo en un terreno, calcule el área usando producto vectorial y valide con Python.\n",
    "4. Programe en Python una animación con `matplotlib.animation` que muestre el cambio de \\$\\mathbf{a} \\times \\mathbf{b}\\$ al variar \\$\\mathbf{a}\\$.\n",
    "5. Interprete un caso de aplicación en el que, a partir de datos de inclinación de hojas de cultivo, se determine el estado de estrés hídrico de las plantas.\n",
    "\n",
    "---\n",
    "\n",
    "Si quieres, puedo dejarte **estas evaluaciones ya maquetadas en un Jupyter Notebook** con:\n",
    "\n",
    "* Celdas para la resolución manual\n",
    "* Código preconfigurado para NumPy y Matplotlib\n",
    "* Espacios para graficar y animar\n",
    "  de modo que se integren directo a tu estrategia de aula invertida.\n",
    "\n",
    "¿Quieres que te lo arme en `.ipynb` listo para clase y evaluación?\n"
   ]
  },
  {
   "cell_type": "markdown",
   "id": "a31dbf5d",
   "metadata": {},
   "source": [
    "\n",
    "## 10. **Retroalimentación**\n",
    "\n",
    "* Uso de Jupyter Notebook compartido con comentarios.\n",
    "\n",
    "---\n"
   ]
  },
  {
   "cell_type": "markdown",
   "id": "85e7c39f",
   "metadata": {},
   "source": [
    "Perfecto, Marco Julio.\n",
    "Aquí tienes la propuesta para **las actividades de retroalimentación** adaptadas al enfoque de Aula Invertida y usando herramientas de código y visualización.\n",
    "\n",
    "---\n",
    "\n",
    "## **10. Retroalimentación – Producto Vectorial y Aplicaciones**\n",
    "\n",
    "**Objetivo:** Garantizar que cada estudiante comprenda el concepto, la geometría y la implementación del producto vectorial, corrigiendo errores y reforzando buenas prácticas.\n",
    "\n",
    "---\n",
    "\n",
    "### **1. Uso de Jupyter Notebook colaborativo con comentarios**\n",
    "\n",
    "* Se habilitará un **notebook en GitHub Classroom** donde:\n",
    "\n",
    "  * Cada estudiante subirá su resolución de ejercicios y proyectos.\n",
    "  * El docente insertará comentarios tipo *review* directamente en el código y gráficos.\n",
    "  * Se usarán *Markdown cells* para sugerencias y correcciones puntuales.\n",
    "\n",
    "---\n",
    "\n",
    "### **2. Sesión de revisión guiada**\n",
    "\n",
    "* **Modalidad presencial o en videollamada**:\n",
    "\n",
    "  * Se proyectan ejemplos de soluciones correctas y erróneas.\n",
    "  * Se analizan **los errores más comunes** en cálculo, interpretación geométrica y codificación.\n",
    "  * Los estudiantes, en grupos, corrigen y mejoran las soluciones mostradas.\n",
    "\n",
    "---\n",
    "\n",
    "### **3. Comparación de métodos de resolución**\n",
    "\n",
    "* Los estudiantes comparan:\n",
    "\n",
    "  1. **Resolución manual** (álgebra pura).\n",
    "  2. **Implementación en Python con NumPy**.\n",
    "  3. **Visualización 3D en Matplotlib/Plotly**.\n",
    "* Se discute **cuándo cada método es más eficiente** y se documenta la comparación en el Notebook.\n",
    "\n",
    "---\n",
    "\n",
    "### **4. Actividad de “intercambio de cuadernos”**\n",
    "\n",
    "* Los estudiantes intercambian su notebook Jupyter con otro compañero.\n",
    "* El compañero debe:\n",
    "\n",
    "  * Revisar la lógica de código.\n",
    "  * Probar variaciones de los vectores iniciales.\n",
    "  * Comentar en el notebook qué partes entendió y cuáles no.\n",
    "\n",
    "---\n",
    "\n",
    "### **5. Retroalimentación con ipywidgets**\n",
    "\n",
    "* Implementar un widget interactivo donde:\n",
    "\n",
    "  * Cada estudiante pueda **manipular \\$\\mathbf{a}\\$ y \\$\\mathbf{b}\\$**.\n",
    "  * Observar cómo cambia el producto vectorial y sus propiedades.\n",
    "* El objetivo es **corregir malinterpretaciones visualmente**.\n",
    "\n",
    "---\n",
    "\n",
    "### **6. Cierre con mini–quiz diagnóstico**\n",
    "\n",
    "* Mini-quiz en clase de **3 preguntas rápidas** para medir la mejora después de la retroalimentación.\n",
    "* Se realiza en formato digital y los resultados se analizan inmediatamente en clase.\n",
    "\n",
    "---\n",
    "\n",
    "Si quieres, puedo prepararte **el Jupyter Notebook de retroalimentación** ya configurado con:\n",
    "\n",
    "* Celdas para comentarios.\n",
    "* Plantilla para comparación de métodos.\n",
    "* Widget interactivo para manipular vectores.\n",
    "* Mini–quiz integrado con autoevaluación en SymPy.\n",
    "\n",
    "¿Quieres que te lo deje listo en `.ipynb`?\n"
   ]
  },
  {
   "cell_type": "markdown",
   "id": "d42f2652",
   "metadata": {},
   "source": [
    "\n",
    "## 11. **Vocabulario inglés**\n",
    "\n",
    "* Cross product, determinant, normal vector, 3D visualization, drone imagery, etc.\n",
    "\n",
    "---\n"
   ]
  },
  {
   "cell_type": "markdown",
   "id": "1a788604",
   "metadata": {},
   "source": [
    "\n",
    "## 12. **Apéndice de habilidades socioemocionales**\n",
    "\n",
    "* Trabajo en equipo, empatía, integridad académica.\n",
    "\n",
    "---\n"
   ]
  },
  {
   "cell_type": "markdown",
   "id": "efe83272",
   "metadata": {},
   "source": [
    "Perfecto, Marco Julio.\n",
    "Aquí tienes el **apéndice de habilidades socioemocionales** adaptado a la clase de **Producto Vectorial**, alineado con tu propuesta didáctica y el enfoque de Aula Invertida + ABPP.\n",
    "\n",
    "---\n",
    "\n",
    "## **12. Apéndice de habilidades socioemocionales – Clase: Producto Vectorial y Aplicaciones 3D**\n",
    "\n",
    "---\n",
    "\n",
    "### **A. Trabajo en equipo**\n",
    "\n",
    "**Objetivo:** Fomentar la colaboración, el reparto equitativo de tareas y la comunicación efectiva en la resolución de problemas vectoriales y sus aplicaciones.\n",
    "\n",
    "**Actividades:**\n",
    "\n",
    "1. **Resolución colaborativa de un reto**\n",
    "\n",
    "   * Formar grupos de 3 estudiantes.\n",
    "   * Resolver un problema de cálculo de producto vectorial aplicado a imágenes de drones.\n",
    "   * Cada integrante asume un rol:\n",
    "\n",
    "     * *Analista geométrico*: describe el problema y el modelo matemático.\n",
    "     * *Programador*: implementa el cálculo en Python y genera visualizaciones.\n",
    "     * *Comunicador*: redacta el informe final y presenta los resultados al grupo.\n",
    "2. **Reto cronometrado**: resolver y graficar un producto vectorial en menos de 10 minutos, combinando esfuerzos de los tres roles.\n",
    "3. **Debrief grupal**: reflexionar sobre qué ayudó y qué obstaculizó el trabajo en equipo.\n",
    "\n",
    "---\n",
    "\n",
    "### **B. Empatía**\n",
    "\n",
    "**Objetivo:** Desarrollar la capacidad de escuchar, comprender y valorar las perspectivas de los demás durante la resolución de problemas.\n",
    "\n",
    "**Actividades:**\n",
    "\n",
    "1. **Par académico**\n",
    "\n",
    "   * Cada estudiante revisa el trabajo de otro compañero.\n",
    "   * Se deben escribir *comentarios constructivos* usando lenguaje positivo y propositivo.\n",
    "2. **Ronda de preguntas inversas**\n",
    "\n",
    "   * En lugar de que el docente pregunte, los estudiantes deben formular preguntas sobre el tema que ayuden a un compañero a encontrar el error en su solución.\n",
    "3. **Mapa de perspectivas**\n",
    "\n",
    "   * Identificar cómo diferentes disciplinas (ingeniería, agricultura, ciencias de datos) ven el uso del producto vectorial.\n",
    "\n",
    "---\n",
    "\n",
    "### **C. Integridad académica**\n",
    "\n",
    "**Objetivo:** Fomentar el respeto por el trabajo propio y ajeno, evitando fraude y promoviendo el aprendizaje honesto.\n",
    "\n",
    "**Actividades:**\n",
    "\n",
    "1. **Declaración de autoría**\n",
    "\n",
    "   * Antes de entregar cualquier actividad, los estudiantes deben incluir una nota firmada:\n",
    "     *\"Declaro que este trabajo es de mi autoría y que he citado todas las fuentes utilizadas.\"*\n",
    "2. **Simulación de revisión por pares**\n",
    "\n",
    "   * El docente entrega ejemplos de trabajos con plagio, código copiado o resultados falsos.\n",
    "   * Los estudiantes identifican las faltas y proponen cómo corregirlas.\n",
    "3. **Código ético de la clase**\n",
    "\n",
    "   * Crear en conjunto un documento breve que resuma las reglas de honestidad académica para todo el curso.\n",
    "\n",
    "---\n",
    "\n",
    "💡 **Integración con la clase**\n",
    "Estas actividades se pueden insertar en:\n",
    "\n",
    "* **Inicio de clase** → Dinámica breve de equipo.\n",
    "* **Durante el trabajo en Python** → Intercambio de roles.\n",
    "* **Cierre** → Reflexión sobre integridad y empatía.\n",
    "\n",
    "---\n",
    "\n",
    "Si quieres, puedo prepararte **una plantilla de Jupyter Notebook** para esta sección donde:\n",
    "\n",
    "* Los estudiantes documenten sus roles y reflexiones.\n",
    "* Registren acuerdos del equipo.\n",
    "* Respondan preguntas guiadas sobre integridad y empatía.\n",
    "\n",
    "¿Quieres que te la arme?\n"
   ]
  },
  {
   "cell_type": "markdown",
   "id": "9bfcdf17",
   "metadata": {},
   "source": [
    "\n",
    "## 13. **Referentes APA**\n",
    "\n",
    "Incluyendo Duval y Wing, más 10 referentes de didáctica.\n"
   ]
  },
  {
   "cell_type": "markdown",
   "id": "fe7e1f79",
   "metadata": {},
   "source": [
    "Perfecto, Marco Julio.\n",
    "Aquí tienes los **referentes en formato APA** que fundamentan el diseño de esta clase de **Producto Vectorial y Aplicaciones 3D** con enfoque en didáctica de la matemática y en aplicaciones de **agricultura de precisión**, incluyendo a **Raymond Duval** y **Jeannette Wing** como solicitaste.\n",
    "\n",
    "---\n",
    "\n",
    "## **13. Referentes APA**\n",
    "\n",
    "---\n",
    "\n",
    "### **A. Didáctica de la Matemática**\n",
    "\n",
    "1. Duval, R. (2006). A cognitive analysis of problems of comprehension in a learning of mathematics. *Educational Studies in Mathematics, 61*(1–2), 103–131. [https://doi.org/10.1007/s10649-006-0400-z](https://doi.org/10.1007/s10649-006-0400-z)\n",
    "\n",
    "2. Wing, J. M. (2006). Computational thinking. *Communications of the ACM, 49*(3), 33–35. [https://doi.org/10.1145/1118178.1118215](https://doi.org/10.1145/1118178.1118215)\n",
    "\n",
    "3. Brousseau, G. (1997). *Theory of didactical situations in mathematics*. Dordrecht: Kluwer Academic Publishers.\n",
    "\n",
    "4. Artigue, M. (2002). Learning mathematics in a CAS environment: The genesis of a reflection about instrumentation and the dialectics between technical and conceptual work. *International Journal of Computers for Mathematical Learning, 7*(3), 245–274.\n",
    "\n",
    "5. Hiebert, J., & Grouws, D. A. (2007). The effects of classroom mathematics teaching on students’ learning. In F. Lester (Ed.), *Second handbook of research on mathematics teaching and learning* (pp. 371–404). Charlotte, NC: Information Age Publishing.\n",
    "\n",
    "6. Tall, D. (2013). *How humans learn to think mathematically: Exploring the three worlds of mathematics*. Cambridge: Cambridge University Press.\n",
    "\n",
    "7. Sfard, A. (2008). *Thinking as communicating: Human development, the growth of discourses, and mathematizing*. Cambridge University Press.\n",
    "\n",
    "8. Schoenfeld, A. H. (2016). Learning to think mathematically: Problem solving, metacognition, and sense-making in mathematics. *Journal of Education, 196*(2), 1–38.\n",
    "\n",
    "9. Niss, M., & Højgaard, T. (2011). Competencies and mathematical learning: Ideas and inspiration for the development of mathematics teaching and learning in Denmark. *Roskilde University*.\n",
    "\n",
    "10. Kaput, J. J. (1992). Technology and mathematics education. In D. Grouws (Ed.), *Handbook of research on mathematics teaching and learning* (pp. 515–556). Macmillan.\n",
    "\n",
    "---\n",
    "\n",
    "### **B. Agricultura de Precisión y Ciencia de Datos**\n",
    "\n",
    "11. Zhang, Q., & Kovacs, J. M. (2012). The application of small unmanned aerial systems for precision agriculture: A review. *Precision Agriculture, 13*(6), 693–712. [https://doi.org/10.1007/s11119-012-9274-5](https://doi.org/10.1007/s11119-012-9274-5)\n",
    "\n",
    "12. Mulla, D. J. (2013). Twenty five years of remote sensing in precision agriculture: Key advances and remaining knowledge gaps. *Biosystems Engineering, 114*(4), 358–371. [https://doi.org/10.1016/j.biosystemseng.2012.08.009](https://doi.org/10.1016/j.biosystemseng.2012.08.009)\n",
    "\n",
    "13. Liakos, K. G., et al. (2018). Machine learning in agriculture: A review. *Sensors, 18*(8), 2674. [https://doi.org/10.3390/s18082674](https://doi.org/10.3390/s18082674)\n",
    "\n",
    "14. Maes, W. H., & Steppe, K. (2019). Perspectives for remote sensing with unmanned aerial vehicles in precision agriculture. *Trends in Plant Science, 24*(2), 152–164. [https://doi.org/10.1016/j.tplants.2018.11.007](https://doi.org/10.1016/j.tplants.2018.11.007)\n",
    "\n",
    "---\n",
    "\n",
    "📌 Con estos 14 referentes (10 en didáctica de la matemática + 4 en agricultura de precisión), tu clase queda sustentada tanto en los **principios pedagógicos** como en las **aplicaciones reales de la ciencia de datos y la visión por computador agrícola**.\n",
    "\n",
    "---\n",
    "\n",
    "Si quieres, puedo ahora **integrar estas citas directamente en el diseño completo de la clase** para que cada sección tenga su respaldo teórico explícito.\n",
    "¿Quieres que lo haga?\n"
   ]
  },
  {
   "cell_type": "markdown",
   "id": "6f9843f4",
   "metadata": {},
   "source": [
    "\n",
    "---\n",
    "\n",
    "Si quieres, puedo **desarrollarte la versión completa del punto 8 (los 20 ejercicios + la función de asignación automática desde el Excel de estudiantes)** para que lo tengas listo para tu clase y conectado con el aula invertida.\n",
    "¿Quieres que lo prepare ahora?\n"
   ]
  },
  {
   "cell_type": "markdown",
   "id": "cc539357",
   "metadata": {},
   "source": [
    "# [Programación de programa Regiones](https://lookerstudio.google.com/reporting/44e71da0-d16f-4a51-a51e-d5ae6c19b3f1/page/p_gy4nwf37hd?pli=1)"
   ]
  },
  {
   "cell_type": "markdown",
   "id": "8ba64aed",
   "metadata": {},
   "source": [
    "# Cursos que orienta el profesor Marco Julio Cañas Campillo en 2025  \n",
    "\n",
    "1. Lunes 8 a 12: Fundamentos de Lógica: Licenciatura en Matemáticas . \n",
    "2. Martes de 9 a 10: Curso de ML and DL para Ingeniero Juan Gomez en España.  \n",
    "3. Martes de 2 a 5 PM: Vector Geometry and Linear Algebra.  \n",
    "4. Miércoles: 10 a 11: Reunión equipo investigador SAT Dengue. \n",
    "5. Miércoles 2 a 3 PM: Asesoría Trabajo de Grado Janis (Estudiante de Biología).  \n",
    "6. Viernes 2 a 6 PM: Análisis Numérico: Programa de Licenciatura en Matemáticas."
   ]
  },
  {
   "cell_type": "markdown",
   "id": "8d41fe58",
   "metadata": {
    "slideshow": {
     "slide_type": "slide"
    }
   },
   "source": [
    "# Horario de clases del profesor Marco\n",
    "\n",
    "* Lunes 8-12:   \n",
    "* Lunes 2- 6 PM: Fundamento de Lógica.  \n",
    "* Martes 8-12 M: . \n",
    "* Miércoles 8 a 12 M:   \n",
    "* Miércoles de 2 a 6 PM: \n",
    "* Jueves 2 a 6 PM:  \n",
    "* Viernes 2 - 4 PM: Análisis Numérico. \n",
    "* Sábados 8-12 Asesorías y espacio para retroalimentación y apoyo al trabajo independiente. "
   ]
  },
  {
   "cell_type": "markdown",
   "id": "ae114e14",
   "metadata": {
    "slideshow": {
     "slide_type": "slide"
    }
   },
   "source": [
    "# Horarios de monitoría y asesoría  \n",
    "\n",
    "* Monitor Manuel San Juan Serrano: Contactar escribiendo al correo: manuel.serrano1@udea.edu.co"
   ]
  },
  {
   "cell_type": "markdown",
   "id": "bf0f9dbf",
   "metadata": {},
   "source": [
    "\n",
    "Coordinador de los cursos de la Facultad de Educación para regiones:    \n",
    "\n",
    "Andrés Vélez: regioneducacion.fedu@udea.edu.co  \n",
    "Coordinador Regiones  \n",
    "Facultad de Educación  \n",
    "Universidad de Antioquia  "
   ]
  },
  {
   "cell_type": "markdown",
   "id": "39559692",
   "metadata": {
    "slideshow": {
     "slide_type": "slide"
    }
   },
   "source": [
    "Martes y jueves de 8 - 12  \n",
    "Miércoles 10 - 12 y de 2 a 4 PM  \n",
    "Sábado: 8 - 12"
   ]
  },
  {
   "cell_type": "markdown",
   "id": "10bce0d0",
   "metadata": {
    "slideshow": {
     "slide_type": "slide"
    }
   },
   "source": [
    "## Referentes "
   ]
  },
  {
   "cell_type": "markdown",
   "id": "1db3c468",
   "metadata": {
    "slideshow": {
     "slide_type": "slide"
    }
   },
   "source": [
    "* [CALCULO I DE UNA VARIABLE Ron Larson-Bruce Edwards. Mc Graw Hill. 9º Edición](https://www.academia.edu/42139251/CALCULO_I_DE_UNA_VARIABLE_Ron_Larson_Bruce_Edwards_Mc_Graw_Hill_9o_Edici%C3%B3n)   \n",
    "  \n",
    "\n",
    "* [Grajales Vanegas, L. M., Restrepo Estrada, C. E., Restrepo Ochoa, S. I., & Ruíz De Villalba, F. (2015). Matemáticas I para las ciencias económicas.](https://bibliotecadigital.udea.edu.co/handle/10495/3010)\n",
    "  \n",
    "* R. Duval y Semiosis y pensamiento humano, 2.ª ed. Cali, Colombia: Programa Editorial Universidad del Valle, 2017. [En línea]. Disponible en: https://programaeditorial.univalle.edu.co/gpd-semiosis-y-pensamiento-humano-9789587655278-63324cdb0f6b3.html\n",
    "\n",
    "* [Aylwin, C. U. (2011). Lógica, conjuntos y números. Universidad de los Andes, Consejo de Publicaciones, Colección: Ciencias Básicas, Serie: Matemáticas.](chrome-extension://efaidnbmnnnibpcajpcglclefindmkaj/https://www.u-cursos.cl/ciencias/2011/1/MC110/1/material_docente/bajar?id_material=574722)\n",
    "  \n",
    "* [Chollet, F. (2021). Deep learning with Python. Simon and Schuster.](chrome-extension://efaidnbmnnnibpcajpcglclefindmkaj/https://tanthiamhuat.wordpress.com/wp-content/uploads/2018/03/deeplearningwithpython.pdf)  \n",
    "  \n",
    "* [Watson, S., Stewart, J., & Redlin, L. (2009). Precálculo. Matemáticas para el cálculo.](https://github.com/marco-canas/calculo/blob/main/referents/1_precalculo_stewart/stewart_precalculo.pdf)  \n",
    "\n",
    "* [Purcell, E. J., Varberg, D., & Rigdon, S. E. (2007). Cálculo diferencial e integral. Pearson Educación.](https://github.com/marco-canas/calculo/blob/main/referents/purcell/purcell_calculo.pdf)\n",
    "\n",
    "  \n",
    "\n",
    "* [stewart cálculo](https://udeaeduco-my.sharepoint.com/:b:/g/personal/marco_canas_udea_edu_co/EZgXZjAp8QxPqOAim2hs6LcBNPLGjSHf-xwYnUVYkwa04w?e=RZdTCy)  \n",
    "\n",
    "\n",
    "\n",
    "\n",
    "\n",
    "* [Recomendación de la UNESCO sobre ciencia abierta](https://unesdoc.unesco.org/ark:/48223/pf0000379949_spa)\n",
    "\n",
    "* [chatGPT](https://openai.com/blog/chatgpt)  \n",
    "\n",
    "* [Géron, A. (2017). Hands-on machine learning with scikit-learn and tensorflow: Concepts. Tools, and Techniques to build intelligent systems.](chrome-extension://efaidnbmnnnibpcajpcglclefindmkaj/http://14.139.161.31/OddSem-0822-1122/Hands-On_Machine_Learning_with_Scikit-Learn-Keras-and-TensorFlow-2nd-Edition-Aurelien-Geron.pdf)   \n"
   ]
  },
  {
   "cell_type": "markdown",
   "id": "df925560",
   "metadata": {},
   "source": [
    "\n",
    "* [McKinney, W. (2012). Python for data analysis: Data wrangling with Pandas, NumPy, and IPython. \" O'Reilly Media, Inc.\".](https://wesmckinney.com/book/) "
   ]
  },
  {
   "cell_type": "markdown",
   "id": "8e65d6f9",
   "metadata": {},
   "source": [
    "# Como estudiante, encuentro que...   \n",
    "\n",
    "F: Mis Fortalezas son:     \n",
    "O: Mis Oportunidades son:    \n",
    "D: Mis Debilidades son:    \n",
    "A: Lo que Amenazas mi aprendizaje es:  "
   ]
  },
  {
   "cell_type": "markdown",
   "id": "6b9e56a8",
   "metadata": {
    "slideshow": {
     "slide_type": "slide"
    }
   },
   "source": [
    "### [Evaluamos al profesor Marco Cañas Aquí](https://forms.office.com/Pages/ResponsePage.aspx?id=IefhmYRxjkmK_7KtTlPBwkanXIs1i1FEujpsZgO6dXpUREJPV1kxUk1JV1ozTFJIQVNIQjY5WEY3US4u)"
   ]
  },
  {
   "cell_type": "markdown",
   "id": "4e8e8ccb",
   "metadata": {},
   "source": [
    "Basado en el diseño de investigación con enfoque IAE (Investigación-Acción Educativa) que compartiste, aquí tienes una propuesta de **sistema de evaluación bidireccional** para el curso *\"Vector Geometry and Linear Algebra\"*, implementable mediante Google Forms y alineado con los ciclos reflexivos de Kemmis & McTaggart:\n",
    "\n",
    "---\n",
    "\n",
    "### **Diseño de Evaluación para Ciclo IAE**  \n",
    "*(Para implementar en Google Forms cada 4 semanas)*  \n",
    "\n",
    "#### **1. Encuesta de Autoevaluación Estudiantil**  \n",
    "**Objetivo**: Monitorear progreso en competencias y percepción del enfoque investigativo.  \n",
    "\n",
    "**Secciones**:  \n",
    "1. **Adquisición de Competencias** (Escala Likert 1-5):  \n",
    "   - *\"¿Cómo evalúas tu dominio actual de:\"*  \n",
    "     - Operaciones con vectores/matrices aplicadas a datasets agrícolas  \n",
    "     - Implementación de PCA/SVD para análisis de imágenes satelitales  \n",
    "     - Interpretación de resultados matemáticos en contextos agropecuarios  \n",
    "\n",
    "2. **Evaluación de Metodología IAE**:  \n",
    "   - *\"El aprendizaje basado en problemas reales del Bajo Cauca me ha ayudado a:\"*  \n",
    "     - Comprender mejor los conceptos abstractos (1-5)  \n",
    "     - Desarrollar habilidades útiles para mi futuro profesional (1-5)  \n",
    "   - *Espacio abierto*: *\"Describe un momento donde la conexión teoría-práctica fue especialmente significativa para ti\"*  \n",
    "\n",
    "3. **Recursos y Herramientas**:  \n",
    "   - *\"Valora la utilidad de:\"*  \n",
    "     - Cuadernos Jupyter adaptados (ej. Géron 2022)  \n",
    "     - Sesiones con agricultores/ingenieros invitados  \n",
    "     - Plataforma GitHub para colaboración  \n",
    "\n",
    "---\n",
    "\n",
    "#### **2. Evaluación del Profesor**  \n",
    "**Objetivo**: Retroalimentación para ajustar didáctica según necesidades emergentes.  \n",
    "\n",
    "**Secciones**:  \n",
    "1. **Habilidades Docentes** (Escala 1-5):  \n",
    "   - *\"El profesor facilita la conexión entre álgebra lineal y problemas agrícolas mediante:\"*  \n",
    "     - Explicaciones claras de conceptos abstractos  \n",
    "     - Ejemplos contextualizados (ej. optimización de fertilizantes)  \n",
    "     - Retroalimentación constructiva en proyectos  \n",
    "\n",
    "2. **Seguimiento a Proyectos**:  \n",
    "   - *\"Las tutorías para los proyectos aplicados son:\"*  \n",
    "     - Suficientes en frecuencia y duración  \n",
    "     - Orientadas a resolver dudas técnicas específicas  \n",
    "     - Útiles para vincular matemáticas con agronomía  \n",
    "\n",
    "3. **Espacio cualitativo**:  \n",
    "   - *\"Sugiere un ajuste específico que mejoraría tu experiencia de aprendizaje\"*  \n",
    "\n",
    "---\n",
    "\n",
    "#### **3. Evaluación de Impacto Social** *(Opcional para proyectos con agricultores)*  \n",
    "**Objetivo**: Medir transferencia de conocimiento al sector productivo.  \n",
    "\n",
    "**Preguntas clave**:  \n",
    "- *\"¿Cómo ha influido el proyecto estudiantil en el que participaste en tus prácticas agrícolas?\"* (Ej.: reducción de costos, mejora en predicciones)  \n",
    "- *\"¿Recomendarías esta colaboración a otros productores?\"* (Sí/No + justificación)  \n",
    "\n",
    "---\n"
   ]
  },
  {
   "cell_type": "markdown",
   "id": "d2b6a2c7",
   "metadata": {},
   "source": [
    "\n",
    "### **Implementación en Google Forms**  \n",
    "1. **Configuración**:  \n",
    "   - Formulario anónimo (excepto evaluación de proyectos con agricultores)  \n",
    "   - Sección obligatoria (competencia + 1 pregunta abierta)  \n",
    "   - Opción de subir archivos (ej.: fotos de trabajos de campo)  \n",
    "\n",
    "2. **Ejemplo de Pregunta con Lógica Condicional**:  \n",
    "   ``` \n",
    "   Si respondiste 1-3 en \"Dominio de PCA aplicado\": \n",
    "   ¿Qué tipo de apoyo adicional necesitarías? (Taller práctico, material adicional, tutoría personalizada)  \n",
    "   ```\n",
    "\n",
    "3. **Enlace accesible**:  \n",
    "   - QR en presentaciones  \n",
    "   - Link en la cabecera del repositorio GitHub  \n",
    "\n",
    "---\n"
   ]
  },
  {
   "cell_type": "markdown",
   "id": "36872955",
   "metadata": {},
   "source": [
    "\n",
    "### **Análisis para Ciclo IAE**  \n",
    "**Herramientas**:  \n",
    "- **NVivo**: Para análisis temático de respuestas cualitativas  \n",
    "- **Google Data Studio**: Dashboard automático con:  \n",
    "  - Evolución temporal de competencias  \n",
    "  - Nube de palabras de sugerencias frecuentes  \n",
    "\n",
    "**Integración con Fases IAE**:  \n",
    "1. **Diagnóstico**: Identificar brechas recurrentes (ej.: dificultad con SVD)  \n",
    "2. **Acción**: Ajustar próximas clases (ej.: taller extra de descomposición matricial)  \n",
    "3. **Reflexión**: Comparar resultados entre ciclos (ej.: mejora en % de dominio de vectores)  \n",
    "\n",
    "**Ejemplo de Pregunta Clave para el Análisis**:  \n",
    "*\"¿Qué tema del módulo actual requirió más tiempo de práctica para su comprensión?\"*  \n",
    "\n",
    "---\n"
   ]
  },
  {
   "cell_type": "markdown",
   "id": "6d92b57d",
   "metadata": {},
   "source": [
    "\n",
    "### **Modelo de Informe Parcial** *(Para socializar con estudiantes)*  \n",
    "```markdown\n",
    "## Resultados Evaluación Ciclo 3 (2025-1)  \n",
    "- **85%** mejoró en interpretación de matrices aplicadas  \n",
    "- **Solicitud principal**: Más ejemplos con datos reales de cacaoteros  \n",
    "- **Ajustes implementados**:  \n",
    "  - Sesión extra con ingeniero de Agrosavia (25/05)  \n",
    "  - Dataset público de nutrientes en suelos arroceros añadido a GitHub  \n",
    "```\n"
   ]
  },
  {
   "cell_type": "markdown",
   "id": "b5c7eb34",
   "metadata": {},
   "source": [
    "\n",
    "Este diseño asegura que las evaluaciones:  \n",
    "✅ Sean **ágiles** (máx. 5 min por estudiante)  \n",
    "✅ Generen **datos accionables** para cada fase IAE  \n",
    "✅ Fomenten la **corresponsabilidad** en el proceso educativo  \n"
   ]
  },
  {
   "cell_type": "markdown",
   "id": "e2a5a506",
   "metadata": {},
   "source": [
    "\n",
    "¿Te gustaría que desarrolle las plantillas específicas de Google Forms o algún ajuste adicional para alinearlo mejor con tus módulos?"
   ]
  },
  {
   "cell_type": "markdown",
   "id": "10f43536",
   "metadata": {
    "slideshow": {
     "slide_type": "slide"
    }
   },
   "source": [
    "### Continue su aprendizaje en la siguiente clase a través del siguiente [vínculo]()"
   ]
  },
  {
   "cell_type": "markdown",
   "id": "53cc9115",
   "metadata": {
    "slideshow": {
     "slide_type": "slide"
    }
   },
   "source": [
    "## Agradecimientos  \n",
    "\n",
    "Doy gracias a Dios por la vida de mi Hijo Joseph Cañas Osorio y la madurez que ha alcanzado. Este hijo me enorgullece y me hace falta abrazarlo cada día. \n",
    "\n",
    "Y a mi esposa Yasmira Emperatriz Barboza Mogollón por su apoyo, orientación y acompañamiento. "
   ]
  },
  {
   "cell_type": "markdown",
   "id": "b6ba1c23",
   "metadata": {},
   "source": [
    "# Apéndice sobre calendarios y coordinaciones \n"
   ]
  },
  {
   "cell_type": "markdown",
   "id": "bf8b6499",
   "metadata": {},
   "source": [
    "## Calendario del semestre académico 2025-2  \n",
    "\n",
    "* Oferta de cursos: 29 de julio de 2025  \n",
    "\n",
    "Matrícula: 30 de julio de 2025  \n",
    "\n",
    "Ajustes de matrícula: 01 al 08 de agosto de 2025  \n",
    "\n",
    "Inicio de clases: 04 de agosto de 2025  \n",
    "\n",
    "Límite evaluación del 40%: 27 de septiembre de 2025  \n",
    "\n",
    "Terminación de clases: 22 de noviembre de 2025\n",
    "\n",
    "Exámenes finales: 24 al 29 de noviembre de 2025\n",
    "\n",
    "Habilitación y validación: 01 al 06 de diciembre 2025\n",
    "\n",
    "Terminación oficial del semestre: 09 de diciembre de 2025  "
   ]
  },
  {
   "cell_type": "markdown",
   "id": "667b9504",
   "metadata": {},
   "source": [
    "\n",
    "A continuación le envío el horario de la asignatura Cálculo Vectorial  \n",
    "\n",
    "Días:  \n",
    "Lunes - Hora: 7:00 a 12:00M  \n",
    "Fechas:  \n",
    "Febrero: 10-17-24                                          \n",
    " Marzo: 3-10-17-31                                                  \n",
    "Abril:7-21-28                                                   \n",
    "Mayo:5-12-19  \n",
    "\n",
    "Agradezco su apoyo, y si presenta alguna dificultad puede contactarme.  \n",
    "\n",
    "Cordialmente,  \n",
    "Juan Felipe Rivera Hernández  \n",
    "Contacto: 3106314300  "
   ]
  }
 ],
 "metadata": {
  "celltoolbar": "Slideshow",
  "kernelspec": {
   "display_name": ".venv",
   "language": "python",
   "name": "python3"
  },
  "language_info": {
   "codemirror_mode": {
    "name": "ipython",
    "version": 3
   },
   "file_extension": ".py",
   "mimetype": "text/x-python",
   "name": "python",
   "nbconvert_exporter": "python",
   "pygments_lexer": "ipython3",
   "version": "3.11.9"
  },
  "rise": {
   "enable_chalkboard": true,
   "theme": "sky",
   "transition": "zoom"
  }
 },
 "nbformat": 4,
 "nbformat_minor": 5
}
