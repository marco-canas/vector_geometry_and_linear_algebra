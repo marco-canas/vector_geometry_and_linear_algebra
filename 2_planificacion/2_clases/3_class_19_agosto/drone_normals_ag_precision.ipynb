{
  "cells": [
    {
      "cell_type": "markdown",
      "metadata": {},
      "source": [
        "# Aplicación en imágenes de drones para agricultura de precisión\n",
        "**Producto vectorial en 3D: normales, orientación foliar y áreas proyectadas**  \n",
        "Este cuaderno muestra cómo:\n",
        "1. Calcular **vectores normales** en una nube de puntos/mesh reconstruida desde drones (SfM/photogrametría) usando `Open3D`.\n",
        "2. Estimar **orientación foliar** con respecto al **vector solar**.\n",
        "3. Calcular **áreas proyectadas** en mapas topográficos (proyección al plano XY) y hacia el Sol.\n",
        "Incluye una nube de puntos sintética `drone_sample_leaves.ply` para que puedas ejecutar sin datos externos."
      ]
    },
    {
      "cell_type": "markdown",
      "metadata": {},
      "source": [
        "## 0) Instalación (si hace falta)"
      ]
    },
    {
      "cell_type": "code",
      "metadata": {},
      "outputs": [],
      "execution_count": null,
      "source": [
        "# Si estás en Colab, descomenta:\n",
        "# !pip -q install open3d plotly numpy"
      ]
    },
    {
      "cell_type": "markdown",
      "metadata": {},
      "source": [
        "## 1) Cargar datos (PLY)"
      ]
    },
    {
      "cell_type": "code",
      "metadata": {},
      "outputs": [],
      "execution_count": null,
      "source": [
        "import numpy as np\n",
        "import open3d as o3d\n",
        "import plotly.graph_objects as go\n",
        "\n",
        "# Cambia esta ruta si tienes tus propios datos (e.g., .ply exportado de Metashape, Meshroom, COLMAP, etc.)\n",
        "ply_path = r\"/mnt/data/drone_sample_leaves.ply\"\n",
        "pcd = o3d.io.read_point_cloud(ply_path)\n",
        "print(pcd)\n",
        "\n",
        "# Visual rápido en Open3D (opcional)\n",
        "# o3d.visualization.draw_geometries([pcd])"
      ]
    },
    {
      "cell_type": "markdown",
      "metadata": {},
      "source": [
        "## 2) Estimar normales con Open3D"
      ]
    },
    {
      "cell_type": "code",
      "metadata": {},
      "outputs": [],
      "execution_count": null,
      "source": [
        "# Estima normales mediante vecinos más cercanos (KDTree)\n",
        "pcd.estimate_normals(search_param=o3d.geometry.KDTreeSearchParamHybrid(radius=0.05, max_nn=30))\n",
        "\n",
        "# Orienta las normales apuntándolas \"hacia la cámara\" situada por encima\n",
        "pcd.orient_normals_towards_camera_location(camera_location=np.array([0,0,10.0]))\n",
        "\n",
        "normals = np.asarray(pcd.normals)\n",
        "points  = np.asarray(pcd.points)\n",
        "\n",
        "print(\"Puntos:\", points.shape, \"Normales:\", normals.shape)"
      ]
    },
    {
      "cell_type": "markdown",
      "metadata": {},
      "source": [
        "## 3) Visualización 3D con Plotly (puntos + conos de normales)"
      ]
    },
    {
      "cell_type": "code",
      "metadata": {},
      "outputs": [],
      "execution_count": null,
      "source": [
        "# Submuestrea para no saturar la escena con demasiados conos\n",
        "idx = np.random.choice(points.shape[0], size=min(400, points.shape[0]), replace=False)\n",
        "P = points[idx]\n",
        "N = normals[idx]\n",
        "\n",
        "# Escala de los conos\n",
        "scale = 0.05\n",
        "\n",
        "scatter = go.Scatter3d(\n",
        "    x=points[:,0], y=points[:,1], z=points[:,2],\n",
        "    mode=\"markers\",\n",
        "    marker=dict(size=2),\n",
        "    name=\"Nube de puntos\"\n",
        ")\n",
        "\n",
        "cones = go.Cone(\n",
        "    x=P[:,0], y=P[:,1], z=P[:,2],\n",
        "    u=N[:,0], v=N[:,1], w=N[:,2],\n",
        "    sizemode=\"scaled\",\n",
        "    sizeref=scale,\n",
        "    anchor=\"tail\",\n",
        "    showscale=False,\n",
        "    name=\"Normales (a × b locales)\"\n",
        ")\n",
        "\n",
        "fig = go.Figure(data=[scatter, cones])\n",
        "fig.update_layout(\n",
        "    title=\"Nube de puntos con normales (producto vectorial local)\",\n",
        "    scene=dict(aspectmode=\"data\",\n",
        "               xaxis_title=\"x\", yaxis_title=\"y\", zaxis_title=\"z\")\n",
        ")\n",
        "fig.show()"
      ]
    },
    {
      "cell_type": "markdown",
      "metadata": {},
      "source": [
        "## 4) Orientación foliar respecto al Sol (incidencia)"
      ]
    },
    {
      "cell_type": "code",
      "metadata": {},
      "outputs": [],
      "execution_count": null,
      "source": [
        "# Define el vector solar a partir de azimut (° desde el Norte hacia el Este) y altura solar (° sobre el horizonte)\n",
        "# Ajusta según tu ubicación y hora (puedes integrar librerías solares si lo deseas).\n",
        "az_deg   = 135.0  # sureste\n",
        "alt_deg  = 45.0   # 45° de altura\n",
        "az = np.deg2rad(az_deg)\n",
        "alt = np.deg2rad(alt_deg)\n",
        "\n",
        "# Convención: x = Este, y = Norte, z = vertical (UP)\n",
        "# Vector solar apuntando desde el punto hacia el Sol\n",
        "s = np.array([\n",
        "    np.sin(az)*np.cos(alt),  # Este\n",
        "    np.cos(az)*np.cos(alt),  # Norte\n",
        "    np.sin(alt)              # Up\n",
        "], dtype=float)\n",
        "s = s / np.linalg.norm(s)\n",
        "\n",
        "# Coseno del ángulo de incidencia: dot(normal, s). Asumimos normales apuntando fuera de la hoja.\n",
        "cos_inc = (normals @ s).clip(min=0)  # restringe a [0,1] para irradiancia efectiva\n",
        "print(\"cos(incidencia):\", cos_inc.min(), cos_inc.max())\n",
        "\n",
        "# Visualiza puntos coloreados por cos(incidencia) (mayor es mejor alineación a la luz)\n",
        "col = cos_inc\n",
        "scatter_col = go.Scatter3d(\n",
        "    x=points[:,0], y=points[:,1], z=points[:,2],\n",
        "    mode=\"markers\",\n",
        "    marker=dict(size=2, color=col, colorscale=\"Viridis\", showscale=True, colorbar=dict(title=\"cos θ\")),\n",
        "    name=\"Incidencia solar\"\n",
        ")\n",
        "\n",
        "# Dibuja el vector solar en la escena\n",
        "origin = points.mean(axis=0)\n",
        "s_len = 0.5\n",
        "solar_vec = go.Scatter3d(\n",
        "    x=[origin[0], origin[0]+s_len*s[0]],\n",
        "    y=[origin[1], origin[1]+s_len*s[1]],\n",
        "    z=[origin[2], origin[2]+s_len*s[2]],\n",
        "    mode=\"lines+markers+text\",\n",
        "    line=dict(width=8),\n",
        "    marker=dict(size=3),\n",
        "    text=[\"\", \"Sol\"],\n",
        "    name=\"Vector solar\"\n",
        ")\n",
        "\n",
        "fig2 = go.Figure(data=[scatter_col, solar_vec])\n",
        "fig2.update_layout(\n",
        "    title=f\"Orientación foliar vs Sol (az={az_deg}°, alt={alt_deg}°)\",\n",
        "    scene=dict(aspectmode=\"data\",\n",
        "               xaxis_title=\"x\", yaxis_title=\"y\", zaxis_title=\"z\")\n",
        ")\n",
        "fig2.show()"
      ]
    },
    {
      "cell_type": "markdown",
      "metadata": {},
      "source": [
        "## 5) Áreas proyectadas en mapas topográficos y hacia el Sol"
      ]
    },
    {
      "cell_type": "code",
      "metadata": {},
      "outputs": [],
      "execution_count": null,
      "source": [
        "# Si no dispones de una malla, aproximamos áreas con triangulación de Delaunay en XY\n",
        "from scipy.spatial import Delaunay\n",
        "\n",
        "xy = points[:, :2]\n",
        "tri = Delaunay(xy)\n",
        "tris = tri.simplices  # índices de triángulos en 'points'\n",
        "\n",
        "def triangle_area_and_normal(p0, p1, p2):\n",
        "    v1 = p1 - p0\n",
        "    v2 = p2 - p0\n",
        "    n = np.cross(v1, v2)\n",
        "    area = 0.5 * np.linalg.norm(n)\n",
        "    n_hat = n / (np.linalg.norm(n) + 1e-12)\n",
        "    return area, n_hat\n",
        "\n",
        "A = 0.0          # área de la superficie (suma de triángulos 3D)\n",
        "A_xy = 0.0       # área proyectada al plano XY (mapa topográfico)\n",
        "A_sun = 0.0      # área proyectada ortogonal al Sol\n",
        "\n",
        "k = np.array([0,0,1.0])    # normal del plano XY (mapa)\n",
        "k = k / np.linalg.norm(k)\n",
        "\n",
        "for t in tris:\n",
        "    p0, p1, p2 = points[t[0]], points[t[1]], points[t[2]]\n",
        "    area, n_hat = triangle_area_and_normal(p0, p1, p2)\n",
        "    A += area\n",
        "    A_xy += area * abs(np.dot(n_hat, k))     # proyección al plano XY\n",
        "    A_sun += area * abs(np.dot(n_hat, s))    # proyección perpendicular a dirección solar\n",
        "\n",
        "print(f\"Área 3D (aprox): {A:.4f} m^2\")\n",
        "print(f\"Área proyectada en XY (mapa): {A_xy:.4f} m^2\")\n",
        "print(f\"Área proyectada hacia el Sol: {A_sun:.4f} m^2\")"
      ]
    },
    {
      "cell_type": "markdown",
      "metadata": {},
      "source": [
        "## 6) Exportar resultados (opcionales)"
      ]
    },
    {
      "cell_type": "code",
      "metadata": {},
      "outputs": [],
      "execution_count": null,
      "source": [
        "# Guardar normales y cos(incidencia) como atributos CSV\n",
        "import pandas as pd\n",
        "df = pd.DataFrame({\n",
        "    \"x\": points[:,0], \"y\": points[:,1], \"z\": points[:,2],\n",
        "    \"nx\": normals[:,0], \"ny\": normals[:,1], \"nz\": normals[:,2]\n",
        "})\n",
        "df[\"cos_inc\"] = (normals @ s).clip(min=0)\n",
        "csv_path = \"/mnt/data/normals_incidence.csv\"\n",
        "df.to_csv(csv_path, index=False)\n",
        "csv_path"
      ]
    }
  ],
  "metadata": {
    "kernelspec": {
      "display_name": "Python 3",
      "language": "python",
      "name": "python3"
    },
    "language_info": {
      "name": "python",
      "version": "3.x"
    }
  },
  "nbformat": 4,
  "nbformat_minor": 5
}