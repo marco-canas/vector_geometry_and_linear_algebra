{
 "cells": [
  {
   "cell_type": "markdown",
   "id": "dc06dec7",
   "metadata": {
    "slideshow": {
     "slide_type": "slide"
    }
   },
   "source": [
    "<table align=\"left\">\n",
    "  <td>\n",
    "    <a href=\"https://colab.research.google.com/github/marco-canas/vector_geometry_and_linear_algebra/blob/main/2_planificacion/2_clases/2_class/2_class.ipynb\" target=\"_parent\"><img src=\"https://colab.research.google.com/assets/colab-badge.svg\" alt=\"Open In Colab\"/></a>\n",
    "  </td>\n",
    "  <td>\n",
    "    <a target=\"_blank\" href=\"https://kaggle.com/kernels/welcome?src=https://github.com/marco-canas/vector_geometry_and_linear_algebra/blob/main/2_planificacion/2_clases/2_class/2_class.ipynb\"><img src=\"https://kaggle.com/static/images/open-in-kaggle.svg\" /></a>\n",
    "  </td>\n",
    "</table>"
   ]
  },
  {
   "cell_type": "markdown",
   "id": "e0c5b198",
   "metadata": {
    "slideshow": {
     "slide_type": "slide"
    }
   },
   "source": [
    "### [Video de apoyo a la lectura interactiva y experimental de este cuaderno]()"
   ]
  },
  {
   "cell_type": "markdown",
   "id": "41e82203",
   "metadata": {
    "slideshow": {
     "slide_type": "slide"
    }
   },
   "source": [
    "### [Vínculo al programa del curso:  ]()\n",
    "\n"
   ]
  },
  {
   "cell_type": "markdown",
   "id": "d11ab06d",
   "metadata": {
    "slideshow": {
     "slide_type": "slide"
    }
   },
   "source": [
    "Un reconocimiento a mis estudiantes que han construido conmigo este saber pedagógico:\n",
    "\n",
    "<img src = ''> \n",
    "\n"
   ]
  },
  {
   "cell_type": "markdown",
   "id": "8a74a56c-0ce6-4ad6-b985-553fd7fb68bb",
   "metadata": {},
   "source": [
    "Reconocimiento a las profesoras destacadas en enseñanza de la matemática en Colombia\n"
   ]
  },
  {
   "cell_type": "code",
   "execution_count": 3,
   "id": "7604880f",
   "metadata": {
    "slideshow": {
     "slide_type": "slide"
    }
   },
   "outputs": [
    {
     "data": {
      "application/vnd.microsoft.datawrangler.viewer.v0+json": {
       "columns": [
        {
         "name": "index",
         "rawType": "int64",
         "type": "integer"
        },
        {
         "name": "Cedula",
         "rawType": "object",
         "type": "string"
        },
        {
         "name": "Nombre",
         "rawType": "object",
         "type": "string"
        }
       ],
       "ref": "3ab8ebdd-021f-443f-8395-4faad0c284fc",
       "rows": [],
       "shape": {
        "columns": 2,
        "rows": 0
       }
      },
      "text/html": [
       "<div>\n",
       "<style scoped>\n",
       "    .dataframe tbody tr th:only-of-type {\n",
       "        vertical-align: middle;\n",
       "    }\n",
       "\n",
       "    .dataframe tbody tr th {\n",
       "        vertical-align: top;\n",
       "    }\n",
       "\n",
       "    .dataframe thead th {\n",
       "        text-align: right;\n",
       "    }\n",
       "</style>\n",
       "<table border=\"1\" class=\"dataframe\">\n",
       "  <thead>\n",
       "    <tr style=\"text-align: right;\">\n",
       "      <th></th>\n",
       "      <th>Cedula</th>\n",
       "      <th>Nombre</th>\n",
       "    </tr>\n",
       "  </thead>\n",
       "  <tbody>\n",
       "  </tbody>\n",
       "</table>\n",
       "</div>"
      ],
      "text/plain": [
       "Empty DataFrame\n",
       "Columns: [Cedula, Nombre]\n",
       "Index: []"
      ]
     },
     "execution_count": 3,
     "metadata": {},
     "output_type": "execute_result"
    }
   ],
   "source": [
    "import pandas as pd\n",
    "import numpy as np\n",
    "\n",
    "# Cargar la lista de estudiantes desde el archivo CSV\n",
    "path = 'C:/Users/marco/Documentos/docencia/groups_list/vector_geometry_and_linear_algebra.xlsx'\n",
    "df = pd.read_excel(path)\n",
    "df.head() \n"
   ]
  },
  {
   "cell_type": "markdown",
   "id": "d7598d0a-d9b7-4ae0-b029-a0ed6ed1130b",
   "metadata": {},
   "source": [
    "\n",
    "# Principios de mi labor docente"
   ]
  },
  {
   "cell_type": "markdown",
   "id": "4f9d8cf9",
   "metadata": {
    "slideshow": {
     "slide_type": "slide"
    }
   },
   "source": [
    "## Modelo general de clase: [aula invertida](https://www3.gobiernodecanarias.org/medusa/ecoescuela/pedagotic/aprendizaje-invertido-flipped-classroom/)"
   ]
  },
  {
   "cell_type": "markdown",
   "id": "eb6ed03a",
   "metadata": {},
   "source": [
    "<img src = 'https://resources.maneuveringthemiddle.com/wp-content/uploads/2020/07/04212706/1-5.png' width = 200>  \n",
    "\n"
   ]
  },
  {
   "cell_type": "markdown",
   "id": "34319cce-a71b-4f64-aab8-b53e521efa40",
   "metadata": {},
   "source": [
    "# Metodología de Aprendizaje Basado en Problemas y Proyectos (ABPP)\n"
   ]
  },
  {
   "cell_type": "markdown",
   "id": "c4f73d81",
   "metadata": {},
   "source": [
    "\n",
    "<img src = 'https://www.unir.net/wp-content/uploads/2020/07/aprendizaje-problemas2-1-1-1-1.jpeg' width = 200>"
   ]
  },
  {
   "cell_type": "markdown",
   "id": "841a985c-bd9b-4dd3-8e4c-893983980af2",
   "metadata": {},
   "source": [
    "# Desarrollo del pensamiento computacional con Lenguajes Python y R, y con archivos Markdown orientado a la formación en ciencia de datos \n",
    "\n"
   ]
  },
  {
   "cell_type": "markdown",
   "id": "3d0eba94",
   "metadata": {},
   "source": [
    "\n",
    "<img src = 'https://i.ytimg.com/vi/mcG_wcR4e6M/maxresdefault.jpg' width = 200>"
   ]
  },
  {
   "cell_type": "markdown",
   "id": "65aa0404-f7ae-495e-864c-1aec01b4255e",
   "metadata": {},
   "source": [
    "# Principio de fomento a la ciencia abierta, enseñar en el acceso a los datos públicos y el uso de software de código abierto  \n"
   ]
  },
  {
   "cell_type": "markdown",
   "id": "18ae9b87",
   "metadata": {},
   "source": [
    "\n",
    "<img src = 'https://unesdoc.unesco.org/in/rest/Thumb/image?id=p%3A%3Ausmarcdef_0000379949_spa&author=UNESCO&title=Recomendaci%C3%B3n+de+la+UNESCO+sobre+la+Ciencia+Abierta&year=2021&publisher=UNESCO&TypeOfDocument=UnescoPhysicalDocument&mat=PGD&ct=true&size=512&isPhysical=1' width = 200>"
   ]
  },
  {
   "cell_type": "markdown",
   "id": "d9559f85",
   "metadata": {},
   "source": [
    "El enfoque STEAMS en educación preescolar, primaria y secundaria es una extensión del enfoque STEM (Ciencia, Tecnología, Ingeniería y Matemáticas) y su variante STEAM, que incorpora el Arte. "
   ]
  },
  {
   "cell_type": "markdown",
   "id": "0130ec1b",
   "metadata": {},
   "source": [
    "\n",
    "<img src = 'https://www.campuseducacion.com/blog/wp-content/uploads/2023/03/foto01-1.jpg' width = 200>"
   ]
  },
  {
   "cell_type": "markdown",
   "id": "37a6a091",
   "metadata": {},
   "source": [
    "# Y el enfoque de Teoría de Registros de Representación Semiótica de Duval  "
   ]
  },
  {
   "cell_type": "code",
   "execution_count": 4,
   "id": "28bae6cb",
   "metadata": {},
   "outputs": [],
   "source": [
    "def save_fig(nombre_archivo_imagen):\n",
    "    import os \n",
    "    import matplotlib.pyplot as plt\n",
    "    ubicacion_para_imagenes = r\"C:/Users/marco/Downloads\"\n",
    "    imagen_path = os.path.join(ubicacion_para_imagenes, nombre_archivo_imagen)\n",
    "    plt.savefig(imagen_path, bbox_inches='tight')"
   ]
  },
  {
   "cell_type": "markdown",
   "id": "10e55ccf",
   "metadata": {},
   "source": [
    "# Estructura general para todas las clases\n"
   ]
  },
  {
   "cell_type": "markdown",
   "id": "ddd73417",
   "metadata": {},
   "source": [
    "\n",
    "Dame, por favor, un diseño de clase, con el enfoque: \"Aula Invertida, STEAMS, de Aprendizaje Basado en Problemas y Proyectos (ABPP) y de Teoría de Registros de Representación Semiótica (TRRS) de Duval\" sobre: \"Matrices: representación, suma y multiplicación.<br>- Sistemas de coordenadas en drones agrícolas. | - **Práctica:** Operaciones matriciales con NumPy (datos climáticos IDEAM).\", siguiendo la estructura:  \n",
    "\n",
    "Ubicación del proyecto investigativo: [aquí](https://github.com/marco-canas/linea_invest_didact_math_data/blob/main/1_estrategia_comunicacion/3_humanos_xxi/propuesta_en_20_paginas.md) \n",
    "Ubicación del programa del curso: [aquí](https://github.com/marco-canas/vector_geometry_and_linear_algebra/blob/main/2_planificacion/0_programa_curso/programa_curso_geo_vectorial_algebra_lineal_iae_python_data_science_2025_2.docx)\n",
    "Ubicación de la lista de estudiantes matriculados: [Aquí](https://github.com/marco-canas/groups_list/blob/main/vector_geometry_and_linear_algebra.xlsx)  \n",
    "\n",
    "1. Título de la clase   \n",
    "   \n",
    "2. Objetivo de aprendizaje que incluyan los indicadores del logro de estos objetivos. \n",
    "   \n",
    "3. Un mapa conceptual que resuma la clase elaborado en Graphviz de python con nodos y edges de diferentes formas, colores y rellenos y renderizado en la siguiente ubicación: `\"C:\\Users\\marco\\Downloads\"`.  No olvides el parámetro `view = True` para el método `render()` de Graphviz. Para este mapa controla las superposiciones de los nodos con: graph [overlap=false]; // Elimina superposiciones (puede aumentar el espacio)\n",
    "graph [overlap=\"scalexy\"]; // Escala el gráfico para evitar overlaps\n",
    "graph [overlap=\"compress\"]; // Comprime el grafo sin overlaps  \n",
    "   \n",
    "4. Elementos históricos y epistemológicos relevantes para la clase, pero narrados como una historieta al estilo de un cuentero antioqueño en Colombia. Incluye imágenes de los protagonistas históricos de esta clase.  \n",
    "   \n",
    "5. Contenido de la clase:     \n",
    "   \n",
    "          \n",
    "        \n",
    "6. Actividades de aprendizaje:   \n",
    "   \n",
    "7. Incluye una canción o un poema que ayude a interiorizar y fijar los conceptos asociados a esta clase.   \n",
    "   \n",
    "8.  Tarea o actividades de ejercitación y fijación. Incluye 20 ejercicios de tarea en las que los estudiantes empiecen con la descripción geométrica del algoritmo, luego la descripción verbal y secuencial del algoritmo, después la implementación en lenguaje python editado a través de la terminal powershell de su computador y finalmente con el cálculo a mano y en su cuaderno. Crea una función de usuario de Python que asigne esta tareas a cada uno de los estudiantes matriculados en este curso tomando la ubicación de los estudiantes dada en este prompt.  \n",
    "    \n",
    "9. Evaluación incluyendo 20 proyectos, un ejemplo de quiz (con tres items) y un ejemplo de parcial (con 5 items). Incluye evaluaciones en las que los estudiantes empiecen con la descripción geométrica del algoritmo, luego la descripción verbal y secuencial del algoritmo, después la implementación en lenguaje python editado a través de la terminal powershell de su computador, y finalmente con el cálculo algebraico y numérico a mano y en su cuaderno. \n",
    "    \n",
    "10. Diseño de actividad de retroalimentación.   \n",
    "    \n",
    "11. Dame un vocabulario y frases del idioma inglés asociadas a esta clase.    \n",
    "     \n",
    "12. Incluye apéndice para la clase sobre desarrollo de habilidades para trabajar en equipo y de asertividad y empatía para relacionarnos. También elementos de la inteligencia emocional para presentar pruebas sin temor y sin realizar fraude en ellas.    \n",
    "     \n",
    "13. Incluye 10 referentes en didáctica de la matemática que estén de acuerdo a la propuesta didáctica de esta clase. Adiciona a estos referentes a Raymond Duval (Representaciones y cambios de representación para la adquisición de conceptos matemáticos) y a [Jeannette Wing](https://es.wikipedia.org/wiki/Jeannette_Wing) (Desarrollo del pensamiento computacional). Déjame todos estos referentes ordenados de acuerdo a las normas APA. Al crear la clase, introduce las citas de estos autores en el texto de la clase.\n",
    "\n",
    "\n",
    "Pero  que este diseño sea para que el estudiante pueda aprender experimentando en cuadernos Jupyter con funciones de usuario y animaciones y visualizaciones en python.   \n",
    "\n",
    "En particular utiliza para el diseño de clase a Numpy, Pandas, SymPy, Matplotlib.pyplot, Seaborn, Plotly, ipywidgets, matplotlib.animation, TensorFlow, Keras y Jupyter Notebook.    \n",
    "\n",
    "Cada vez que utilices `matplotlib.animacion` no olvides incluir el uso de `IPython. display` para la rederización de estas animaciones a través de Jupyter Notebook. No olvides darme los diseños de clase con las ecuaciones matemáticas delimitadas con signo de dolar $ para que VS Code si me renderize estas expresiones del lenguaje latex. Cuando vallas a utilizar ipywidgets ten en cuenta la siguiente importación inicial para garantizar que la visualización interactiva si se renderize en VS Code:   \n",
    "\n",
    "Esta clase la debes diseñar de acuerdo a las siguientes 4 directivas: \n",
    "1. La propuesta investigativa para este curso: https://github.com/marco-canas/linea_invest_didact_math_data/blob/main/1_estrategia_comunicacion/3_humanos_xxi/propuesta_humanos.md\n",
    "2. El programa para este curso: https://github.com/marco-canas/vector_geometry_and_linear_algebra/blob/main/2_planificacion/0_programa_curso/programa_curso_vector_geometry_and_linear_algebra.md   \n",
    "3. El cronograma por semanas para este curso (\"Clase a Clase\"): https://github.com/marco-canas/vector_geometry_and_linear_algebra/blob/main/2_planificacion/0_programa_curso/cronograma_curso_clase_a_clase.md\n",
    "4. Vectores con Numpy de Géron: https://github.com/ageron/handson-ml3/blob/main/tools_numpy.ipynb\n",
    "5. Algebra Linear según Géron: https://github.com/ageron/handson-ml3/blob/main/math_linear_algebra.ipynb\n",
    "\n",
    "\n",
    "\n"
   ]
  },
  {
   "cell_type": "markdown",
   "id": "596bbb56",
   "metadata": {},
   "source": [
    "# Clase del Martes 12 ago 2025  de 2 a 5 PM  \n",
    "\n"
   ]
  },
  {
   "cell_type": "markdown",
   "id": "06658f3b",
   "metadata": {},
   "source": [
    "# **Diseño de Clase: Álgebra Matricial Aplicada a Drones Agrícolas**\n"
   ]
  },
  {
   "cell_type": "markdown",
   "id": "2b45abc3",
   "metadata": {},
   "source": [
    "\n",
    "## 1. Título de la Clase\n",
    "**\"Matrices que Vuelan: Álgebra Lineal para la Agricultura de Precisión\"**\n"
   ]
  },
  {
   "cell_type": "markdown",
   "id": "9405c7ad",
   "metadata": {},
   "source": [
    "\n",
    "## 2. Objetivos e Indicadores de Logro\n",
    "### Objetivos:\n",
    "1. Representar operaciones matriciales en registros semióticos (simbólico, numérico, concreto)\n",
    "2. Modelar sistemas de coordenadas de drones agrícolas usando transformaciones lineales\n",
    "3. Implementar operaciones con matrices en Python para procesar datos climáticos\n"
   ]
  },
  {
   "cell_type": "markdown",
   "id": "23854894",
   "metadata": {},
   "source": [
    "\n",
    "### Indicadores:\n",
    "- Construye matrices de transformación para rutas de drones\n",
    "- Resuelve problemas de optimización de vuelo usando multiplicación matricial\n",
    "- Visualiza datos IDEAM mediante operaciones matriciales con NumPy\n"
   ]
  },
  {
   "cell_type": "markdown",
   "id": "15da8717",
   "metadata": {},
   "source": [
    "\n",
    "## 3. Mapa Conceptual (Graphviz)\n"
   ]
  },
  {
   "cell_type": "code",
   "execution_count": null,
   "id": "e80b907e",
   "metadata": {},
   "outputs": [],
   "source": [
    "\n",
    "```python\n",
    "from graphviz import Digraph\n",
    "\n",
    "# Configuración del gráfico\n",
    "graph = Digraph('MatricesDrones', format='png',\n",
    "                graph_attr={'overlap': 'scalexy', 'rankdir': 'TB', 'bgcolor': '#f0f8ff'})\n",
    "graph.attr(nodesep='0.5', ranksep='0.8')\n",
    "\n",
    "# Nodos\n",
    "graph.node('A', 'Álgebra Matricial', shape='ellipse', style='filled', fillcolor='#ffddcc')\n",
    "graph.node('B', 'Suma/Producto', shape='box', style='filled', fillcolor='#ccffcc')\n",
    "graph.node('C', 'Sistemas Coordenadas', shape='hexagon', style='filled', fillcolor='#ccccff')\n",
    "graph.node('D', 'Drones Agrícolas', shape='doubleoctagon', style='filled', fillcolor='#ffffcc')\n",
    "graph.node('E', 'Datos IDEAM', shape='pentagon', style='filled', fillcolor='#ffcc99')\n",
    "graph.node('F', 'Registros Semióticos', shape='diamond', style='filled', fillcolor='#99ccff')\n",
    "\n",
    "# Conexiones\n",
    "graph.edges(['AB', 'AC', 'AD', 'BE', 'CE', 'DE', 'AF', 'BF', 'CF', 'DF'])\n",
    "\n",
    "# Renderizar\n",
    "graph.render(directory='C:/Users/marco/Downloads', view=True, cleanup=True)\n",
    "```\n"
   ]
  },
  {
   "cell_type": "markdown",
   "id": "d3fbb881",
   "metadata": {},
   "source": [
    "\n",
    "## 4. Historia Epistemológica\n",
    "**\"El Cuento de Cayley y el Drone Antioqueño\"**\n",
    "\n",
    "*\"En 1855, Arthur Cayley, un inglés de bigotes imponentes, escribió las reglas del álgebra matricial. Pero nunca imaginó que, siglo y medio después, don Jacinto, un agricultor de Caucasia, usaría esas mismas matrices para programar su drone...\"*\n",
    "\n",
    "*\"Hoy, las matrices que Cayley dibujaba en papel gobiernan el vuelo de drones que monitorean cultivos. 'Antes era pura vista, ahora con estas matrices y Python hasta sé dónde falta fertilizante', dice don Jacinto mientras observa el mapa térmico de su finca.\"*\n",
    "\n",
    "[Imagen de Cayley](https://upload.wikimedia.org/wikipedia/commons/5/5a/Arthur_Cayley.jpg)  \n",
    "[Imagen de drone agrícola](https://www.agronegocios.co/uploads/2021/03/09/6047b0a1f2a6a.jpeg)\n"
   ]
  },
  {
   "cell_type": "markdown",
   "id": "21567450",
   "metadata": {},
   "source": [
    "\n",
    "## 5. Contenido de la Clase\n"
   ]
  },
  {
   "cell_type": "markdown",
   "id": "700b527f",
   "metadata": {},
   "source": [
    "\n",
    "### Conceptos Clave:\n",
    "- **Representación matricial**: $A_{m×n} = [a_{ij}]$\n",
    "- **Operaciones**:\n",
    "  - Suma: $C = A + B$ donde $c_{ij} = a_{ij} + b_{ij}$\n",
    "  - Producto: $C = AB$ donde $c_{ij} = \\sum_{k=1}^n a_{ik}b_{kj}$\n",
    "- **Sistemas de coordenadas**:\n",
    "  - Matriz de transformación para drones: $\\begin{bmatrix} cosθ & -sinθ \\\\ sinθ & cosθ \\end{bmatrix}$\n",
    "\n",
    "### Ejemplo en Python:\n",
    "```python\n",
    "import numpy as np\n",
    "from matplotlib.animation import FuncAnimation\n",
    "from IPython.display import HTML\n",
    "\n",
    "# Configuración de animación\n",
    "fig, ax = plt.subplots(figsize=(10,6))\n",
    "ax.set_xlim(0, 10); ax.set_ylim(0, 10)\n",
    "\n",
    "# Matriz de rotación para drone\n",
    "def rotacion(theta):\n",
    "    return np.array([[np.cos(theta), -np.sin(theta)], \n",
    "                    [np.sin(theta), np.cos(theta)]])\n",
    "\n",
    "def animate(i):\n",
    "    ax.clear()\n",
    "    theta = i/10\n",
    "    R = rotacion(theta)\n",
    "    # Trayectoria del drone\n",
    "    pos = np.array([5,5]) + R @ np.array([3,0])\n",
    "    ax.scatter(*pos, color='red', s=100)\n",
    "    ax.set_title(f'Ángulo: {theta:.1f} rad')\n",
    "    \n",
    "anim = FuncAnimation(fig, animate, frames=63)\n",
    "HTML(anim.to_jshtml())\n",
    "```\n",
    "\n",
    "## 6. Actividades de Aprendizaje\n",
    "\n",
    "### a) Calculadora Casio:\n",
    "- Calcular productos matriciales para matrices de transformación\n",
    "\n",
    "### b) ABPP con Crocodile Clips:\n",
    "- Simular sistema de navegación de drone con matrices de rotación\n",
    "\n",
    "### c) Python (Jupyter):\n",
    "```python\n",
    "import pandas as pd\n",
    "import plotly.express as px\n",
    "from sklearn.datasets import make_blobs\n",
    "\n",
    "# Generar datos climáticos sintéticos (simulando IDEAM)\n",
    "n_puntos = 100\n",
    "centros = [[2,2], [8,8]]\n",
    "datos, _ = make_blobs(n_samples=n_puntos, centers=centros, cluster_std=1.5)\n",
    "df = pd.DataFrame(datos, columns=['Temperatura', 'Humedad'])\n",
    "df['Precipitación'] = np.random.gamma(2, 2, n_puntos)\n",
    "\n",
    "# Matriz de correlación climática\n",
    "matriz_corr = df.corr()\n",
    "\n",
    "# Visualización interactiva\n",
    "fig = px.imshow(matriz_corr, \n",
    "                labels=dict(x=\"Variable\", y=\"Variable\", color=\"Correlación\"),\n",
    "                x=matriz_corr.columns, y=matriz_corr.columns,\n",
    "                title=\"Matriz de Correlación Climática (Simulación IDEAM)\")\n",
    "fig.show()\n",
    "```\n",
    "\n",
    "## 7. Poema de Aprendizaje\n",
    "**\"Las Matrices del Drone\"**\n",
    "```\n",
    "Filas y columnas van,\n",
    "en el cielo a volar.\n",
    "Suma aquí, producto allá,\n",
    "el drone sabe dónde estar.\n",
    "\n",
    "Con números y con arte,\n",
    "la agricultura es más fácil,\n",
    "¡Las matrices son clave,\n",
    "para el campo digital!\n",
    "```\n",
    "\n",
    "## 8. Tareas Automatizadas\n"
   ]
  },
  {
   "cell_type": "markdown",
   "id": "a5833f85",
   "metadata": {},
   "source": [
    "\n",
    "## 9. Evaluación\n"
   ]
  },
  {
   "cell_type": "markdown",
   "id": "97defcb1",
   "metadata": {},
   "source": [
    "\n",
    "### Quiz Ejemplo:\n",
    "1. **Contexto cotidiano**: Calcula la nueva posición de un drone tras rotación 30°\n",
    "2. **Matemático**: Demuestra propiedad no conmutativa del producto matricial\n",
    "3. **Programación**: Implementa función que genere matriz de rotación\n"
   ]
  },
  {
   "cell_type": "markdown",
   "id": "4d9280ec",
   "metadata": {},
   "source": [
    "\n",
    "### Parcial Ejemplo:\n"
   ]
  },
  {
   "cell_type": "markdown",
   "id": "838c8d17",
   "metadata": {},
   "source": [
    "1. Optimiza ruta de drone entre 3 cultivos usando matrices\n"
   ]
  },
  {
   "cell_type": "markdown",
   "id": "852052c7",
   "metadata": {},
   "source": [
    "# **Optimización de Ruta de Drones entre Cultivos usando Álgebra Matricial**\n",
    "\n",
    "A continuación te muestro una implementación completa en Python que combina:\n",
    "- Matrices de transformación para movimiento de drones\n",
    "- Cálculo de distancias entre cultivos\n",
    "- Visualización interactiva con Plotly\n",
    "\n",
    "```python\n",
    "import numpy as np\n",
    "import plotly.graph_objects as go\n",
    "from ipywidgets import interact, FloatSlider\n",
    "from IPython.display import display\n",
    "\n",
    "# 1. Configuración inicial\n",
    "cultivos = {\n",
    "    \"Maíz\": np.array([2, 5]),\n",
    "    \"Frijol\": np.array([8, 3]),\n",
    "    \"Ñame\": np.array([5, 9])\n",
    "}\n",
    "\n",
    "# 2. Matriz de distancias entre cultivos\n",
    "def matriz_distancias(puntos):\n",
    "    n = len(puntos)\n",
    "    distancias = np.zeros((n, n))\n",
    "    nombres = list(puntos.keys())\n",
    "    \n",
    "    for i in range(n):\n",
    "        for j in range(n):\n",
    "            if i != j:\n",
    "                distancias[i,j] = np.linalg.norm(puntos[nombres[i]] - puntos[nombres[j]])\n",
    "    \n",
    "    return distancias, nombres\n",
    "\n",
    "distancias, nombres = matriz_distancias(cultivos)\n",
    "print(\"Matriz de distancias (km):\")\n",
    "print(pd.DataFrame(distancias, index=nombres, columns=nombres))\n",
    "\n",
    "# 3. Función para calcular ruta óptima\n",
    "def calcular_ruta_optima(puntos):\n",
    "    # Algoritmo del vecino más cercano\n",
    "    ruta = [0]  # Empezamos con el primer cultivo\n",
    "    no_visitados = set(range(1, len(puntos)))\n",
    "    \n",
    "    while no_visitados:\n",
    "        ultimo = ruta[-1]\n",
    "        proximo = min(no_visitados, key=lambda x: distancias[ultimo, x])\n",
    "        ruta.append(proximo)\n",
    "        no_visitados.remove(proximo)\n",
    "    \n",
    "    return ruta\n",
    "\n",
    "ruta_optima_indices = calcular_ruta_optima(cultivos)\n",
    "ruta_optima = [nombres[i] for i in ruta_optima_indices]\n",
    "print(f\"\\nRuta óptima: {' → '.join(ruta_optima)}\")\n",
    "\n",
    "# 4. Visualización interactiva con transformaciones matriciales\n",
    "def rotacion(theta):\n",
    "    return np.array([[np.cos(theta), -np.sin(theta)], \n",
    "                    [np.sin(theta), np.cos(theta)]])\n",
    "\n",
    "def escalado(sx, sy):\n",
    "    return np.array([[sx, 0], [0, sy]])\n",
    "\n",
    "@interact(\n",
    "    angulo=FloatSlider(value=0, min=0, max=6.28, step=0.1, description='Ángulo (rad)'),\n",
    "    escala_x=FloatSlider(value=1, min=0.1, max=2, step=0.1, description='Escala X'),\n",
    "    escala_y=FloatSlider(value=1, min=0.1, max=2, step=0.1, description='Escala Y')\n",
    ")\n",
    "def visualizar_ruta(angulo, escala_x, escala_y):\n",
    "    # Crear figura\n",
    "    fig = go.Figure()\n",
    "    \n",
    "    # Añadir puntos de cultivos\n",
    "    for nombre, punto in cultivos.items():\n",
    "        fig.add_trace(go.Scatter(\n",
    "            x=[punto[0]], y=[punto[1]],\n",
    "            mode='markers+text',\n",
    "            name=nombre,\n",
    "            text=nombre,\n",
    "            textposition=\"top center\",\n",
    "            marker=dict(size=12)\n",
    "        ))\n",
    "    \n",
    "    # Calcular transformación\n",
    "    T = rotacion(angulo) @ escalado(escala_x, escala_y)\n",
    "    \n",
    "    # Añadir ruta transformada\n",
    "    ruta_puntos = np.array([cultivos[n] for n in ruta_optima])\n",
    "    ruta_transformada = (T @ ruta_puntos.T).T\n",
    "    \n",
    "    fig.add_trace(go.Scatter(\n",
    "        x=ruta_transformada[:,0], y=ruta_transformada[:,1],\n",
    "        mode='lines+markers',\n",
    "        name='Ruta Drone',\n",
    "        line=dict(color='red', width=2),\n",
    "        marker=dict(symbol='triangle-up', size=10)\n",
    "    ))\n",
    "    \n",
    "    # Configurar layout\n",
    "    fig.update_layout(\n",
    "        title=\"Optimización de Ruta de Drones entre Cultivos\",\n",
    "        xaxis_title=\"Coordenada X (km)\",\n",
    "        yaxis_title=\"Coordenada Y (km)\",\n",
    "        hovermode='closest',\n",
    "        width=800,\n",
    "        height=600\n",
    "    )\n",
    "    \n",
    "    fig.show()\n",
    "\n",
    "# 5. Cálculo de eficiencia\n",
    "distancia_total = sum(distancias[ruta_optima_indices[i], ruta_optima_indices[i+1]] \n",
    "                  for i in range(len(ruta_optima_indices)-1))\n",
    "print(f\"\\nDistancia total de la ruta óptima: {distancia_total:.2f} km\")\n",
    "\n",
    "# 6. Exportar matriz de transformación para drones\n",
    "print(\"\\nMatriz de transformación recomendada para drone:\")\n",
    "T_recomendada = rotacion(np.pi/4) @ escalado(1.2, 0.8)\n",
    "print(T_recomendada)\n",
    "```\n",
    "\n",
    "## **Explicación Didáctica:**\n",
    "\n",
    "### 1. **Conceptos Matemáticos Aplicados**\n",
    "- **Matriz de distancias**: Calcula las distancias euclidianas entre cultivos usando $d = \\sqrt{(x_2-x_1)^2 + (y_2-y_1)^2}$\n",
    "- **Transformaciones lineales**: \n",
    "  - Rotación: $R = \\begin{bmatrix} \\cosθ & -\\sinθ \\\\ \\sinθ & \\cosθ \\end{bmatrix}$\n",
    "  - Escalado: $S = \\begin{bmatrix} s_x & 0 \\\\ 0 & s_y \\end{bmatrix}$\n",
    "\n",
    "### 2. **Algoritmo de Optimización**\n",
    "Implementamos el **algoritmo del vecino más cercano** (una heurística para el problema del viajante):\n",
    "1. Comienza en un cultivo aleatorio\n",
    "2. En cada paso, visita el cultivo no visitado más cercano\n",
    "3. Repite hasta visitar todos los cultivos\n",
    "\n",
    "### 3. **Aplicación a Agricultura de Precisión**\n",
    "- Los parámetros interactivos permiten simular:\n",
    "  - Condiciones de viento (rotación)\n",
    "  - Eficiencia de batería (escalado)\n",
    "- La visualización muestra cómo afectan estas variables a la ruta\n",
    "\n",
    "### 4. **Resultados de Aprendizaje**\n",
    "- Los estudiantes podrán:\n",
    "  - Calcular matrices de transformación\n",
    "  - Implementar algoritmos de optimización\n",
    "  - Visualizar el impacto del álgebra lineal en agricultura real\n"
   ]
  },
  {
   "cell_type": "markdown",
   "id": "e4e48c72",
   "metadata": {},
   "source": [
    "\n",
    "## **Ejercicio de Extensión:**\n"
   ]
  },
  {
   "cell_type": "code",
   "execution_count": 11,
   "id": "eae0219c",
   "metadata": {},
   "outputs": [
    {
     "ename": "NameError",
     "evalue": "name 'np' is not defined",
     "output_type": "error",
     "traceback": [
      "\u001b[31m---------------------------------------------------------------------------\u001b[39m",
      "\u001b[31mNameError\u001b[39m                                 Traceback (most recent call last)",
      "\u001b[36mCell\u001b[39m\u001b[36m \u001b[39m\u001b[32mIn[11]\u001b[39m\u001b[32m, line 2\u001b[39m\n\u001b[32m      1\u001b[39m \u001b[38;5;66;03m# Reto para estudiantes: Modificar para incluir un 4to cultivo\u001b[39;00m\n\u001b[32m----> \u001b[39m\u001b[32m2\u001b[39m nuevo_cultivo = {\u001b[33m\"\u001b[39m\u001b[33mArroz\u001b[39m\u001b[33m\"\u001b[39m: \u001b[43mnp\u001b[49m.array([\u001b[32m7\u001b[39m, \u001b[32m7\u001b[39m])}\n\u001b[32m      3\u001b[39m cultivos_extendidos = {**cultivos, **nuevo_cultivo}\n\u001b[32m      5\u001b[39m \u001b[38;5;66;03m# Calcular nueva ruta óptima\u001b[39;00m\n",
      "\u001b[31mNameError\u001b[39m: name 'np' is not defined"
     ]
    }
   ],
   "source": [
    "# Reto para estudiantes: Modificar para incluir un 4to cultivo\n",
    "nuevo_cultivo = {\"Arroz\": np.array([7, 7])}\n",
    "cultivos_extendidos = {**cultivos, **nuevo_cultivo}\n",
    "\n",
    "# Calcular nueva ruta óptima\n",
    "distancias_ext, nombres_ext = matriz_distancias(cultivos_extendidos)\n",
    "ruta_ext = calcular_ruta_optima(cultivos_extendidos)\n",
    "print(f\"\\nRuta extendida: {' → '.join([nombres_ext[i] for i in ruta_ext])}\")\n",
    "\n"
   ]
  },
  {
   "cell_type": "markdown",
   "id": "feff4b80",
   "metadata": {},
   "source": [
    "\n",
    "Esta implementación conecta directamente con los contenidos de la clase, mostrando aplicaciones reales del álgebra matricial en agricultura de precisión, tal como propone el enfoque STEAMS y ABPP."
   ]
  },
  {
   "cell_type": "markdown",
   "id": "ea4527d8",
   "metadata": {},
   "source": [
    "2. Implementa animación de vuelo con transformaciones\n",
    "3. Diseña protocolo para agricultores usando álgebra matricial\n",
    "4. Explica cómo las matrices ayudan en análisis climático\n",
    "5. Propone modelo predictivo basado en matrices de correlación\n"
   ]
  },
  {
   "cell_type": "code",
   "execution_count": 10,
   "id": "6b0ad217",
   "metadata": {},
   "outputs": [
    {
     "name": "stdout",
     "output_type": "stream",
     "text": [
      "\n",
      "==================================================\n",
      "Asignando tareas a 8 estudiantes\n",
      "==================================================\n"
     ]
    },
    {
     "data": {
      "text/markdown": [
       "\n",
       "    **Tarea para ARROYAVE ECHAVARRIA LAURA SOFIA (ID: 1038547924)**\n",
       "    1. **Geometría**: Dibuja la transformación de la matriz $A = \begin{bmatrix} 5 & 0 \\ 0 & 5 \\end{bmatrix}$\n",
       "    2. **Algoritmo**: Describe cómo multiplicarías esta matriz con coordenadas de drone [x, y]\n",
       "    3. **Python**: Implementa en PowerShell:\n",
       "    ```python\n",
       "    import numpy as np\n",
       "    A = np.array([[5, 0], [0, 5]])\n",
       "    v = np.array([2, 3])\n",
       "    print(\"Resultado Axv:\", A @ v)\n",
       "    ```\n",
       "    4. **Cálculo manual**: Calcula $A \\cdot \begin{bmatrix} 2 \\ 3 \\end{bmatrix}$ y verifica con Python\n",
       "    "
      ],
      "text/plain": [
       "<IPython.core.display.Markdown object>"
      ]
     },
     "metadata": {},
     "output_type": "display_data"
    },
    {
     "data": {
      "text/markdown": [
       "\n",
       "    **Tarea para AYALA MENDOZA MARISOL YACIRA (ID: 1007528664)**\n",
       "    1. **Geometría**: Dibuja la transformación de la matriz $A = \begin{bmatrix} 5 & 0 \\ 0 & 5 \\end{bmatrix}$\n",
       "    2. **Algoritmo**: Describe cómo multiplicarías esta matriz con coordenadas de drone [x, y]\n",
       "    3. **Python**: Implementa en PowerShell:\n",
       "    ```python\n",
       "    import numpy as np\n",
       "    A = np.array([[5, 0], [0, 5]])\n",
       "    v = np.array([2, 3])\n",
       "    print(\"Resultado Axv:\", A @ v)\n",
       "    ```\n",
       "    4. **Cálculo manual**: Calcula $A \\cdot \begin{bmatrix} 2 \\ 3 \\end{bmatrix}$ y verifica con Python\n",
       "    "
      ],
      "text/plain": [
       "<IPython.core.display.Markdown object>"
      ]
     },
     "metadata": {},
     "output_type": "display_data"
    },
    {
     "data": {
      "text/markdown": [
       "\n",
       "    **Tarea para LONDONO CUADRADO CRISTIAN ALBERTO (ID: 1007566510)**\n",
       "    1. **Geometría**: Dibuja la transformación de la matriz $A = \begin{bmatrix} 1 & 0 \\ 0 & 1 \\end{bmatrix}$\n",
       "    2. **Algoritmo**: Describe cómo multiplicarías esta matriz con coordenadas de drone [x, y]\n",
       "    3. **Python**: Implementa en PowerShell:\n",
       "    ```python\n",
       "    import numpy as np\n",
       "    A = np.array([[1, 0], [0, 1]])\n",
       "    v = np.array([2, 3])\n",
       "    print(\"Resultado Axv:\", A @ v)\n",
       "    ```\n",
       "    4. **Cálculo manual**: Calcula $A \\cdot \begin{bmatrix} 2 \\ 3 \\end{bmatrix}$ y verifica con Python\n",
       "    "
      ],
      "text/plain": [
       "<IPython.core.display.Markdown object>"
      ]
     },
     "metadata": {},
     "output_type": "display_data"
    },
    {
     "data": {
      "text/markdown": [
       "\n",
       "    **Tarea para NORIEGA JIMENEZ GABRIELA (ID: 1038099623)**\n",
       "    1. **Geometría**: Dibuja la transformación de la matriz $A = \begin{bmatrix} 4 & 0 \\ 0 & 4 \\end{bmatrix}$\n",
       "    2. **Algoritmo**: Describe cómo multiplicarías esta matriz con coordenadas de drone [x, y]\n",
       "    3. **Python**: Implementa en PowerShell:\n",
       "    ```python\n",
       "    import numpy as np\n",
       "    A = np.array([[4, 0], [0, 4]])\n",
       "    v = np.array([2, 3])\n",
       "    print(\"Resultado Axv:\", A @ v)\n",
       "    ```\n",
       "    4. **Cálculo manual**: Calcula $A \\cdot \begin{bmatrix} 2 \\ 3 \\end{bmatrix}$ y verifica con Python\n",
       "    "
      ],
      "text/plain": [
       "<IPython.core.display.Markdown object>"
      ]
     },
     "metadata": {},
     "output_type": "display_data"
    },
    {
     "data": {
      "text/markdown": [
       "\n",
       "    **Tarea para PEREZ THERAN ERLINDA (ID: 1129805618)**\n",
       "    1. **Geometría**: Dibuja la transformación de la matriz $A = \begin{bmatrix} 4 & 0 \\ 0 & 4 \\end{bmatrix}$\n",
       "    2. **Algoritmo**: Describe cómo multiplicarías esta matriz con coordenadas de drone [x, y]\n",
       "    3. **Python**: Implementa en PowerShell:\n",
       "    ```python\n",
       "    import numpy as np\n",
       "    A = np.array([[4, 0], [0, 4]])\n",
       "    v = np.array([2, 3])\n",
       "    print(\"Resultado Axv:\", A @ v)\n",
       "    ```\n",
       "    4. **Cálculo manual**: Calcula $A \\cdot \begin{bmatrix} 2 \\ 3 \\end{bmatrix}$ y verifica con Python\n",
       "    "
      ],
      "text/plain": [
       "<IPython.core.display.Markdown object>"
      ]
     },
     "metadata": {},
     "output_type": "display_data"
    },
    {
     "data": {
      "text/markdown": [
       "\n",
       "    **Tarea para QUINONEZ CERVANTES MARIANA (ID: 1038101968)**\n",
       "    1. **Geometría**: Dibuja la transformación de la matriz $A = \begin{bmatrix} 4 & 0 \\ 0 & 4 \\end{bmatrix}$\n",
       "    2. **Algoritmo**: Describe cómo multiplicarías esta matriz con coordenadas de drone [x, y]\n",
       "    3. **Python**: Implementa en PowerShell:\n",
       "    ```python\n",
       "    import numpy as np\n",
       "    A = np.array([[4, 0], [0, 4]])\n",
       "    v = np.array([2, 3])\n",
       "    print(\"Resultado Axv:\", A @ v)\n",
       "    ```\n",
       "    4. **Cálculo manual**: Calcula $A \\cdot \begin{bmatrix} 2 \\ 3 \\end{bmatrix}$ y verifica con Python\n",
       "    "
      ],
      "text/plain": [
       "<IPython.core.display.Markdown object>"
      ]
     },
     "metadata": {},
     "output_type": "display_data"
    },
    {
     "data": {
      "text/markdown": [
       "\n",
       "    **Tarea para RAMOS PEREZ YANINE (ID: 1007318378)**\n",
       "    1. **Geometría**: Dibuja la transformación de la matriz $A = \begin{bmatrix} 4 & 0 \\ 0 & 4 \\end{bmatrix}$\n",
       "    2. **Algoritmo**: Describe cómo multiplicarías esta matriz con coordenadas de drone [x, y]\n",
       "    3. **Python**: Implementa en PowerShell:\n",
       "    ```python\n",
       "    import numpy as np\n",
       "    A = np.array([[4, 0], [0, 4]])\n",
       "    v = np.array([2, 3])\n",
       "    print(\"Resultado Axv:\", A @ v)\n",
       "    ```\n",
       "    4. **Cálculo manual**: Calcula $A \\cdot \begin{bmatrix} 2 \\ 3 \\end{bmatrix}$ y verifica con Python\n",
       "    "
      ],
      "text/plain": [
       "<IPython.core.display.Markdown object>"
      ]
     },
     "metadata": {},
     "output_type": "display_data"
    },
    {
     "data": {
      "text/markdown": [
       "\n",
       "    **Tarea para TREJO CORDOBA DUVAN STEVEN (ID: 1038093492)**\n",
       "    1. **Geometría**: Dibuja la transformación de la matriz $A = \begin{bmatrix} 3 & 0 \\ 0 & 3 \\end{bmatrix}$\n",
       "    2. **Algoritmo**: Describe cómo multiplicarías esta matriz con coordenadas de drone [x, y]\n",
       "    3. **Python**: Implementa en PowerShell:\n",
       "    ```python\n",
       "    import numpy as np\n",
       "    A = np.array([[3, 0], [0, 3]])\n",
       "    v = np.array([2, 3])\n",
       "    print(\"Resultado Axv:\", A @ v)\n",
       "    ```\n",
       "    4. **Cálculo manual**: Calcula $A \\cdot \begin{bmatrix} 2 \\ 3 \\end{bmatrix}$ y verifica con Python\n",
       "    "
      ],
      "text/plain": [
       "<IPython.core.display.Markdown object>"
      ]
     },
     "metadata": {},
     "output_type": "display_data"
    }
   ],
   "source": [
    "import pandas as pd\n",
    "from IPython.display import Markdown\n",
    "import requests\n",
    "from io import BytesIO\n",
    "\n",
    "# Solución 1: Descargar el archivo Excel directamente desde GitHub raw\n",
    "url = 'https://github.com/marco-canas/groups_list/raw/main/vector_geometry_and_linear_algebra.xlsx'\n",
    "\n",
    "try:\n",
    "    # Descargar el archivo\n",
    "    response = requests.get(url)\n",
    "    response.raise_for_status()  # Verificar que la descarga fue exitosa\n",
    "    \n",
    "    # Cargar el Excel desde el contenido descargado\n",
    "    estudiantes = pd.read_excel(BytesIO(response.content), engine='openpyxl')\n",
    "    \n",
    "    # Alternativa si falla openpyxl:\n",
    "    # estudiantes = pd.read_excel(BytesIO(response.content), engine='xlrd')\n",
    "\n",
    "except Exception as e:\n",
    "    print(f\"Error al descargar el archivo: {e}\")\n",
    "    # Crear datos de ejemplo como fallback\n",
    "    estudiantes = pd.DataFrame({\n",
    "        'Cedula': range(1, 21),\n",
    "        'Nombre': [f'Estudiante_{i}' for i in range(1, 21)],\n",
    "        'Email': [f'estudiante{i}@udea.edu.co' for i in range(1, 21)]\n",
    "    })\n",
    "\n",
    "def asignar_tarea(estudiante):\n",
    "    id_mod = estudiante['Cedula'] % 5 + 1\n",
    "    problema = f\"\"\"\n",
    "    **Tarea para {estudiante['Nombre']} (ID: {estudiante['Cedula']})**\n",
    "    1. **Geometría**: Dibuja la transformación de la matriz $A = \\begin{{bmatrix}} {id_mod} & 0 \\\\ 0 & {id_mod} \\end{{bmatrix}}$\n",
    "    2. **Algoritmo**: Describe cómo multiplicarías esta matriz con coordenadas de drone [x, y]\n",
    "    3. **Python**: Implementa en PowerShell:\n",
    "    ```python\n",
    "    import numpy as np\n",
    "    A = np.array([[{id_mod}, 0], [0, {id_mod}]])\n",
    "    v = np.array([2, 3])\n",
    "    print(\"Resultado Axv:\", A @ v)\n",
    "    ```\n",
    "    4. **Cálculo manual**: Calcula $A \\cdot \\begin{{bmatrix}} 2 \\\\ 3 \\end{{bmatrix}}$ y verifica con Python\n",
    "    \"\"\"\n",
    "    return Markdown(problema)\n",
    "\n",
    "# Asignar a todos los estudiantes\n",
    "print(f\"\\n{'='*50}\\nAsignando tareas a {len(estudiantes)} estudiantes\\n{'='*50}\")\n",
    "for _, row in estudiantes.iterrows():\n",
    "    display(asignar_tarea(row))"
   ]
  },
  {
   "cell_type": "markdown",
   "id": "95c8d9b2",
   "metadata": {},
   "source": [
    "\n",
    "## 10. Vocabulario Inglés\n",
    "- Matrix multiplication: Multiplicación matricial\n",
    "- Coordinate system: Sistema de coordenadas\n",
    "- Row/Column: Fila/Columna\n",
    "- Transformation matrix: Matriz de transformación\n"
   ]
  },
  {
   "cell_type": "markdown",
   "id": "7b571ed5",
   "metadata": {},
   "source": [
    "\n",
    "## 11. Referentes APA\n",
    "1. Duval, R. (1999). *Semiosis y pensamiento humano*. Universidad del Valle.\n",
    "2. Wing, J. M. (2006). Computational thinking. *Communications of the ACM*, 49(3), 33-35.\n",
    "3. Géron, A. (2022). *Hands-On Machine Learning*. O'Reilly.\n"
   ]
  },
  {
   "cell_type": "markdown",
   "id": "1f432b58",
   "metadata": {},
   "source": [
    "\n",
    "*\"Como señala Duval (1999), la comprensión de matrices requiere transitar entre representaciones simbólicas y concretas, lo que aplicamos al vincular álgebra abstracta con drones reales.\"*\n"
   ]
  },
  {
   "cell_type": "markdown",
   "id": "0a014ccf",
   "metadata": {},
   "source": [
    "\n",
    "## 12. Apéndice: Habilidades Blandas\n",
    "- **Trabajo en equipo**: Roles en proyectos ABPP con agricultores\n",
    "- **Presentación de resultados**: Rúbrica para exposiciones técnicas\n",
    "- **Ética académica**: Protocolo antiplagio en códigos matriciales\n"
   ]
  },
  {
   "cell_type": "markdown",
   "id": "03b7b4c2",
   "metadata": {},
   "source": [
    "\n",
    "## 13. Evaluación Metacognitiva\n",
    "**Rúbrica de Autoevaluación:**\n",
    "1. ¿Cómo relacioné las matrices con problemas reales de agricultura?\n",
    "2. ¿Qué estrategias usé para entender la multiplicación matricial?\n",
    "3. ¿Cómo puedo mejorar mi implementación en Python?\n",
    "\n",
    "*\"El verdadero aprendizaje ocurre cuando las matrices dejan el cuaderno y vuelan hacia los cultivos\" - Adaptado de Géron (2022)*"
   ]
  },
  {
   "cell_type": "markdown",
   "id": "cc539357",
   "metadata": {},
   "source": [
    "# [Programación de programa Regiones](https://lookerstudio.google.com/reporting/44e71da0-d16f-4a51-a51e-d5ae6c19b3f1/page/p_gy4nwf37hd?pli=1)"
   ]
  },
  {
   "cell_type": "markdown",
   "id": "8ba64aed",
   "metadata": {},
   "source": [
    "# Cursos que orienta el profesor Marco Julio Cañas Campillo en 2025  \n",
    "\n",
    "1. Lunes 8 a 12: Fundamentos de Lógica: Licenciatura en Matemáticas . \n",
    "2. Martes de 9 a 10: Curso de ML and DL para Ingeniero Juan Gomez en España.  \n",
    "3. Martes de 2 a 5 PM: Vector Geometry and Linear Algebra.  \n",
    "4. Miércoles: 10 a 11: Reunión equipo investigador SAT Dengue. \n",
    "5. Miércoles 2 a 3 PM: Asesoría Trabajo de Grado Janis (Estudiante de Biología).  \n",
    "6. Viernes 2 a 6 PM: Análisis Numérico: Programa de Licenciatura en Matemáticas."
   ]
  },
  {
   "cell_type": "markdown",
   "id": "8d41fe58",
   "metadata": {
    "slideshow": {
     "slide_type": "slide"
    }
   },
   "source": [
    "# Horario de clases del profesor Marco\n",
    "\n",
    "* Lunes 8-12:   \n",
    "* Lunes 2- 6 PM: Fundamento de Lógica.  \n",
    "* Martes 8-12 M: . \n",
    "* Miércoles 8 a 12 M:   \n",
    "* Miércoles de 2 a 6 PM: \n",
    "* Jueves 2 a 6 PM:  \n",
    "* Viernes 2 - 4 PM: Análisis Numérico. \n",
    "* Sábados 8-12 Asesorías y espacio para retroalimentación y apoyo al trabajo independiente. "
   ]
  },
  {
   "cell_type": "markdown",
   "id": "ae114e14",
   "metadata": {
    "slideshow": {
     "slide_type": "slide"
    }
   },
   "source": [
    "# Horarios de monitoría y asesoría  \n",
    "\n",
    "* Monitor Manuel San Juan Serrano: Contactar escribiendo al correo: manuel.serrano1@udea.edu.co"
   ]
  },
  {
   "cell_type": "markdown",
   "id": "bf0f9dbf",
   "metadata": {},
   "source": [
    "\n",
    "Coordinador de los cursos de la Facultad de Educación para regiones:    \n",
    "\n",
    "Andrés Vélez: regioneducacion.fedu@udea.edu.co  \n",
    "Coordinador Regiones  \n",
    "Facultad de Educación  \n",
    "Universidad de Antioquia  "
   ]
  },
  {
   "cell_type": "markdown",
   "id": "39559692",
   "metadata": {
    "slideshow": {
     "slide_type": "slide"
    }
   },
   "source": [
    "Martes y jueves de 8 - 12  \n",
    "Miércoles 10 - 12 y de 2 a 4 PM  \n",
    "Sábado: 8 - 12"
   ]
  },
  {
   "cell_type": "markdown",
   "id": "10bce0d0",
   "metadata": {
    "slideshow": {
     "slide_type": "slide"
    }
   },
   "source": [
    "## Referentes "
   ]
  },
  {
   "cell_type": "markdown",
   "id": "1db3c468",
   "metadata": {
    "slideshow": {
     "slide_type": "slide"
    }
   },
   "source": [
    "* [CALCULO I DE UNA VARIABLE Ron Larson-Bruce Edwards. Mc Graw Hill. 9º Edición](https://www.academia.edu/42139251/CALCULO_I_DE_UNA_VARIABLE_Ron_Larson_Bruce_Edwards_Mc_Graw_Hill_9o_Edici%C3%B3n)   \n",
    "  \n",
    "\n",
    "* [Grajales Vanegas, L. M., Restrepo Estrada, C. E., Restrepo Ochoa, S. I., & Ruíz De Villalba, F. (2015). Matemáticas I para las ciencias económicas.](https://bibliotecadigital.udea.edu.co/handle/10495/3010)\n",
    "  \n",
    "* R. Duval y Semiosis y pensamiento humano, 2.ª ed. Cali, Colombia: Programa Editorial Universidad del Valle, 2017. [En línea]. Disponible en: https://programaeditorial.univalle.edu.co/gpd-semiosis-y-pensamiento-humano-9789587655278-63324cdb0f6b3.html\n",
    "\n",
    "* [Aylwin, C. U. (2011). Lógica, conjuntos y números. Universidad de los Andes, Consejo de Publicaciones, Colección: Ciencias Básicas, Serie: Matemáticas.](chrome-extension://efaidnbmnnnibpcajpcglclefindmkaj/https://www.u-cursos.cl/ciencias/2011/1/MC110/1/material_docente/bajar?id_material=574722)\n",
    "  \n",
    "* [Chollet, F. (2021). Deep learning with Python. Simon and Schuster.](chrome-extension://efaidnbmnnnibpcajpcglclefindmkaj/https://tanthiamhuat.wordpress.com/wp-content/uploads/2018/03/deeplearningwithpython.pdf)  \n",
    "  \n",
    "* [Watson, S., Stewart, J., & Redlin, L. (2009). Precálculo. Matemáticas para el cálculo.](https://github.com/marco-canas/calculo/blob/main/referents/1_precalculo_stewart/stewart_precalculo.pdf)  \n",
    "\n",
    "* [Purcell, E. J., Varberg, D., & Rigdon, S. E. (2007). Cálculo diferencial e integral. Pearson Educación.](https://github.com/marco-canas/calculo/blob/main/referents/purcell/purcell_calculo.pdf)\n",
    "\n",
    "  \n",
    "\n",
    "* [stewart cálculo](https://udeaeduco-my.sharepoint.com/:b:/g/personal/marco_canas_udea_edu_co/EZgXZjAp8QxPqOAim2hs6LcBNPLGjSHf-xwYnUVYkwa04w?e=RZdTCy)  \n",
    "\n",
    "\n",
    "\n",
    "\n",
    "\n",
    "* [Recomendación de la UNESCO sobre ciencia abierta](https://unesdoc.unesco.org/ark:/48223/pf0000379949_spa)\n",
    "\n",
    "* [chatGPT](https://openai.com/blog/chatgpt)  \n",
    "\n",
    "* [Géron, A. (2017). Hands-on machine learning with scikit-learn and tensorflow: Concepts. Tools, and Techniques to build intelligent systems.](chrome-extension://efaidnbmnnnibpcajpcglclefindmkaj/http://14.139.161.31/OddSem-0822-1122/Hands-On_Machine_Learning_with_Scikit-Learn-Keras-and-TensorFlow-2nd-Edition-Aurelien-Geron.pdf)   \n"
   ]
  },
  {
   "cell_type": "markdown",
   "id": "df925560",
   "metadata": {},
   "source": [
    "\n",
    "* [McKinney, W. (2012). Python for data analysis: Data wrangling with Pandas, NumPy, and IPython. \" O'Reilly Media, Inc.\".](https://wesmckinney.com/book/) "
   ]
  },
  {
   "cell_type": "markdown",
   "id": "8e65d6f9",
   "metadata": {},
   "source": [
    "# Como estudiante, encuentro que...   \n",
    "\n",
    "F: Mis Fortalezas son:     \n",
    "O: Mis Oportunidades son:    \n",
    "D: Mis Debilidades son:    \n",
    "A: Lo que Amenazas mi aprendizaje es:  "
   ]
  },
  {
   "cell_type": "markdown",
   "id": "6b9e56a8",
   "metadata": {
    "slideshow": {
     "slide_type": "slide"
    }
   },
   "source": [
    "### [Evaluamos al profesor Marco Cañas Aquí](https://forms.office.com/Pages/ResponsePage.aspx?id=IefhmYRxjkmK_7KtTlPBwkanXIs1i1FEujpsZgO6dXpUREJPV1kxUk1JV1ozTFJIQVNIQjY5WEY3US4u)"
   ]
  },
  {
   "cell_type": "markdown",
   "id": "4e8e8ccb",
   "metadata": {},
   "source": [
    "Basado en el diseño de investigación con enfoque IAE (Investigación-Acción Educativa) que compartiste, aquí tienes una propuesta de **sistema de evaluación bidireccional** para el curso *\"Vector Geometry and Linear Algebra\"*, implementable mediante Google Forms y alineado con los ciclos reflexivos de Kemmis & McTaggart:\n",
    "\n",
    "---\n",
    "\n",
    "### **Diseño de Evaluación para Ciclo IAE**  \n",
    "*(Para implementar en Google Forms cada 4 semanas)*  \n",
    "\n",
    "#### **1. Encuesta de Autoevaluación Estudiantil**  \n",
    "**Objetivo**: Monitorear progreso en competencias y percepción del enfoque investigativo.  \n",
    "\n",
    "**Secciones**:  \n",
    "1. **Adquisición de Competencias** (Escala Likert 1-5):  \n",
    "   - *\"¿Cómo evalúas tu dominio actual de:\"*  \n",
    "     - Operaciones con vectores/matrices aplicadas a datasets agrícolas  \n",
    "     - Implementación de PCA/SVD para análisis de imágenes satelitales  \n",
    "     - Interpretación de resultados matemáticos en contextos agropecuarios  \n",
    "\n",
    "2. **Evaluación de Metodología IAE**:  \n",
    "   - *\"El aprendizaje basado en problemas reales del Bajo Cauca me ha ayudado a:\"*  \n",
    "     - Comprender mejor los conceptos abstractos (1-5)  \n",
    "     - Desarrollar habilidades útiles para mi futuro profesional (1-5)  \n",
    "   - *Espacio abierto*: *\"Describe un momento donde la conexión teoría-práctica fue especialmente significativa para ti\"*  \n",
    "\n",
    "3. **Recursos y Herramientas**:  \n",
    "   - *\"Valora la utilidad de:\"*  \n",
    "     - Cuadernos Jupyter adaptados (ej. Géron 2022)  \n",
    "     - Sesiones con agricultores/ingenieros invitados  \n",
    "     - Plataforma GitHub para colaboración  \n",
    "\n",
    "---\n",
    "\n",
    "#### **2. Evaluación del Profesor**  \n",
    "**Objetivo**: Retroalimentación para ajustar didáctica según necesidades emergentes.  \n",
    "\n",
    "**Secciones**:  \n",
    "1. **Habilidades Docentes** (Escala 1-5):  \n",
    "   - *\"El profesor facilita la conexión entre álgebra lineal y problemas agrícolas mediante:\"*  \n",
    "     - Explicaciones claras de conceptos abstractos  \n",
    "     - Ejemplos contextualizados (ej. optimización de fertilizantes)  \n",
    "     - Retroalimentación constructiva en proyectos  \n",
    "\n",
    "2. **Seguimiento a Proyectos**:  \n",
    "   - *\"Las tutorías para los proyectos aplicados son:\"*  \n",
    "     - Suficientes en frecuencia y duración  \n",
    "     - Orientadas a resolver dudas técnicas específicas  \n",
    "     - Útiles para vincular matemáticas con agronomía  \n",
    "\n",
    "3. **Espacio cualitativo**:  \n",
    "   - *\"Sugiere un ajuste específico que mejoraría tu experiencia de aprendizaje\"*  \n",
    "\n",
    "---\n",
    "\n",
    "#### **3. Evaluación de Impacto Social** *(Opcional para proyectos con agricultores)*  \n",
    "**Objetivo**: Medir transferencia de conocimiento al sector productivo.  \n",
    "\n",
    "**Preguntas clave**:  \n",
    "- *\"¿Cómo ha influido el proyecto estudiantil en el que participaste en tus prácticas agrícolas?\"* (Ej.: reducción de costos, mejora en predicciones)  \n",
    "- *\"¿Recomendarías esta colaboración a otros productores?\"* (Sí/No + justificación)  \n",
    "\n",
    "---\n"
   ]
  },
  {
   "cell_type": "markdown",
   "id": "d2b6a2c7",
   "metadata": {},
   "source": [
    "\n",
    "### **Implementación en Google Forms**  \n",
    "1. **Configuración**:  \n",
    "   - Formulario anónimo (excepto evaluación de proyectos con agricultores)  \n",
    "   - Sección obligatoria (competencia + 1 pregunta abierta)  \n",
    "   - Opción de subir archivos (ej.: fotos de trabajos de campo)  \n",
    "\n",
    "2. **Ejemplo de Pregunta con Lógica Condicional**:  \n",
    "   ``` \n",
    "   Si respondiste 1-3 en \"Dominio de PCA aplicado\": \n",
    "   ¿Qué tipo de apoyo adicional necesitarías? (Taller práctico, material adicional, tutoría personalizada)  \n",
    "   ```\n",
    "\n",
    "3. **Enlace accesible**:  \n",
    "   - QR en presentaciones  \n",
    "   - Link en la cabecera del repositorio GitHub  \n",
    "\n",
    "---\n"
   ]
  },
  {
   "cell_type": "markdown",
   "id": "36872955",
   "metadata": {},
   "source": [
    "\n",
    "### **Análisis para Ciclo IAE**  \n",
    "**Herramientas**:  \n",
    "- **NVivo**: Para análisis temático de respuestas cualitativas  \n",
    "- **Google Data Studio**: Dashboard automático con:  \n",
    "  - Evolución temporal de competencias  \n",
    "  - Nube de palabras de sugerencias frecuentes  \n",
    "\n",
    "**Integración con Fases IAE**:  \n",
    "1. **Diagnóstico**: Identificar brechas recurrentes (ej.: dificultad con SVD)  \n",
    "2. **Acción**: Ajustar próximas clases (ej.: taller extra de descomposición matricial)  \n",
    "3. **Reflexión**: Comparar resultados entre ciclos (ej.: mejora en % de dominio de vectores)  \n",
    "\n",
    "**Ejemplo de Pregunta Clave para el Análisis**:  \n",
    "*\"¿Qué tema del módulo actual requirió más tiempo de práctica para su comprensión?\"*  \n",
    "\n",
    "---\n"
   ]
  },
  {
   "cell_type": "markdown",
   "id": "6d92b57d",
   "metadata": {},
   "source": [
    "\n",
    "### **Modelo de Informe Parcial** *(Para socializar con estudiantes)*  \n",
    "```markdown\n",
    "## Resultados Evaluación Ciclo 3 (2025-1)  \n",
    "- **85%** mejoró en interpretación de matrices aplicadas  \n",
    "- **Solicitud principal**: Más ejemplos con datos reales de cacaoteros  \n",
    "- **Ajustes implementados**:  \n",
    "  - Sesión extra con ingeniero de Agrosavia (25/05)  \n",
    "  - Dataset público de nutrientes en suelos arroceros añadido a GitHub  \n",
    "```\n"
   ]
  },
  {
   "cell_type": "markdown",
   "id": "b5c7eb34",
   "metadata": {},
   "source": [
    "\n",
    "Este diseño asegura que las evaluaciones:  \n",
    "✅ Sean **ágiles** (máx. 5 min por estudiante)  \n",
    "✅ Generen **datos accionables** para cada fase IAE  \n",
    "✅ Fomenten la **corresponsabilidad** en el proceso educativo  \n"
   ]
  },
  {
   "cell_type": "markdown",
   "id": "e2a5a506",
   "metadata": {},
   "source": [
    "\n",
    "¿Te gustaría que desarrolle las plantillas específicas de Google Forms o algún ajuste adicional para alinearlo mejor con tus módulos?"
   ]
  },
  {
   "cell_type": "markdown",
   "id": "10f43536",
   "metadata": {
    "slideshow": {
     "slide_type": "slide"
    }
   },
   "source": [
    "### Continue su aprendizaje en la siguiente clase a través del siguiente [vínculo]()"
   ]
  },
  {
   "cell_type": "markdown",
   "id": "53cc9115",
   "metadata": {
    "slideshow": {
     "slide_type": "slide"
    }
   },
   "source": [
    "## Agradecimientos  \n",
    "\n",
    "Doy gracias a Dios por la vida de mi Hijo Joseph Cañas Osorio y la madurez que ha alcanzado. Este hijo me enorgullece y me hace falta abrazarlo cada día. \n",
    "\n",
    "Y a mi esposa Yasmira Emperatriz Barboza Mogollón por su apoyo, orientación y acompañamiento. "
   ]
  },
  {
   "cell_type": "markdown",
   "id": "b6ba1c23",
   "metadata": {},
   "source": [
    "# Apéndice sobre calendarios y coordinaciones \n"
   ]
  },
  {
   "cell_type": "markdown",
   "id": "bf8b6499",
   "metadata": {},
   "source": [
    "## Calendario del semestre académico 2025-2  \n",
    "\n",
    "* Oferta de cursos: 29 de julio de 2025  \n",
    "\n",
    "Matrícula: 30 de julio de 2025  \n",
    "\n",
    "Ajustes de matrícula: 01 al 08 de agosto de 2025  \n",
    "\n",
    "Inicio de clases: 04 de agosto de 2025  \n",
    "\n",
    "Límite evaluación del 40%: 27 de septiembre de 2025  \n",
    "\n",
    "Terminación de clases: 22 de noviembre de 2025\n",
    "\n",
    "Exámenes finales: 24 al 29 de noviembre de 2025\n",
    "\n",
    "Habilitación y validación: 01 al 06 de diciembre 2025\n",
    "\n",
    "Terminación oficial del semestre: 09 de diciembre de 2025  "
   ]
  },
  {
   "cell_type": "markdown",
   "id": "667b9504",
   "metadata": {},
   "source": [
    "\n",
    "A continuación le envío el horario de la asignatura Cálculo Vectorial  \n",
    "\n",
    "Días:  \n",
    "Lunes - Hora: 7:00 a 12:00M  \n",
    "Fechas:  \n",
    "Febrero: 10-17-24                                          \n",
    " Marzo: 3-10-17-31                                                  \n",
    "Abril:7-21-28                                                   \n",
    "Mayo:5-12-19  \n",
    "\n",
    "Agradezco su apoyo, y si presenta alguna dificultad puede contactarme.  \n",
    "\n",
    "Cordialmente,  \n",
    "Juan Felipe Rivera Hernández  \n",
    "Contacto: 3106314300  "
   ]
  }
 ],
 "metadata": {
  "celltoolbar": "Slideshow",
  "kernelspec": {
   "display_name": ".venv",
   "language": "python",
   "name": "python3"
  },
  "language_info": {
   "codemirror_mode": {
    "name": "ipython",
    "version": 3
   },
   "file_extension": ".py",
   "mimetype": "text/x-python",
   "name": "python",
   "nbconvert_exporter": "python",
   "pygments_lexer": "ipython3",
   "version": "3.11.9"
  },
  "rise": {
   "enable_chalkboard": true,
   "theme": "sky",
   "transition": "zoom"
  }
 },
 "nbformat": 4,
 "nbformat_minor": 5
}
