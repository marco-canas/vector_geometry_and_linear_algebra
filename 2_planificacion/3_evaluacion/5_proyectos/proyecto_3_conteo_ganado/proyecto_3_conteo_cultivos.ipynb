{
 "cells": [
  {
   "cell_type": "markdown",
   "id": "60e48dc9",
   "metadata": {},
   "source": []
  },
  {
   "cell_type": "markdown",
   "id": "f6bae1f8",
   "metadata": {},
   "source": []
  },
  {
   "cell_type": "code",
   "execution_count": 1,
   "id": "7243f4fe",
   "metadata": {},
   "outputs": [
    {
     "ename": "ModuleNotFoundError",
     "evalue": "No module named 'cv2'",
     "output_type": "error",
     "traceback": [
      "\u001b[31m---------------------------------------------------------------------------\u001b[39m",
      "\u001b[31mModuleNotFoundError\u001b[39m                       Traceback (most recent call last)",
      "\u001b[36mCell\u001b[39m\u001b[36m \u001b[39m\u001b[32mIn[1]\u001b[39m\u001b[32m, line 1\u001b[39m\n\u001b[32m----> \u001b[39m\u001b[32m1\u001b[39m \u001b[38;5;28;01mimport\u001b[39;00m\u001b[38;5;250m \u001b[39m\u001b[34;01mcv2\u001b[39;00m\n\u001b[32m      2\u001b[39m \u001b[38;5;28;01mimport\u001b[39;00m\u001b[38;5;250m \u001b[39m\u001b[34;01mnumpy\u001b[39;00m\u001b[38;5;250m \u001b[39m\u001b[38;5;28;01mas\u001b[39;00m\u001b[38;5;250m \u001b[39m\u001b[34;01mnp\u001b[39;00m\n\u001b[32m      3\u001b[39m \u001b[38;5;28;01mimport\u001b[39;00m\u001b[38;5;250m \u001b[39m\u001b[34;01mmatplotlib\u001b[39;00m\u001b[34;01m.\u001b[39;00m\u001b[34;01mpyplot\u001b[39;00m\u001b[38;5;250m \u001b[39m\u001b[38;5;28;01mas\u001b[39;00m\u001b[38;5;250m \u001b[39m\u001b[34;01mplt\u001b[39;00m\n",
      "\u001b[31mModuleNotFoundError\u001b[39m: No module named 'cv2'"
     ]
    }
   ],
   "source": [
    "import cv2\n",
    "import numpy as np\n",
    "import matplotlib.pyplot as plt\n",
    "\n",
    "# 1. Cargar la imagen\n",
    "img = cv2.imread(\"cultivo platano.webp\")\n",
    "\n",
    "# Convertir de BGR (OpenCV) a RGB (para visualización)\n",
    "img_rgb = cv2.cvtColor(img, cv2.COLOR_BGR2RGB)\n",
    "\n",
    "# 2. Convertir a HSV para segmentar el color verde\n",
    "hsv = cv2.cvtColor(img, cv2.COLOR_BGR2HSV)\n",
    "\n",
    "# Rango de verdes (puede ajustarse según la iluminación)\n",
    "lower_green = np.array([30, 40, 40])\n",
    "upper_green = np.array([85, 255, 255])\n",
    "\n",
    "# 3. Crear máscara para lo verde\n",
    "mask = cv2.inRange(hsv, lower_green, upper_green)\n",
    "\n",
    "# 4. Aplicar operaciones morfológicas para limpiar ruido\n",
    "kernel = np.ones((7,7), np.uint8)\n",
    "mask_clean = cv2.morphologyEx(mask, cv2.MORPH_OPEN, kernel)\n",
    "mask_clean = cv2.morphologyEx(mask_clean, cv2.MORPH_CLOSE, kernel)\n",
    "\n",
    "# 5. Detectar contornos de las plantas\n",
    "contours, _ = cv2.findContours(mask_clean, cv2.RETR_EXTERNAL, cv2.CHAIN_APPROX_SIMPLE)\n",
    "\n",
    "# 6. Dibujar contornos y contar plantas\n",
    "output = img_rgb.copy()\n",
    "for i, cnt in enumerate(contours):\n",
    "    x, y, w, h = cv2.boundingRect(cnt)\n",
    "    if w*h > 300:  # filtro para evitar ruido muy pequeño\n",
    "        cv2.rectangle(output, (x,y), (x+w, y+h), (255,0,0), 2)\n",
    "        cv2.putText(output, str(i+1), (x, y-5), cv2.FONT_HERSHEY_SIMPLEX, \n",
    "                    0.7, (255,0,0), 2)\n",
    "\n",
    "print(\"Número de plantas detectadas:\", len(contours))\n",
    "\n",
    "# 7. Mostrar resultados\n",
    "plt.figure(figsize=(15,5))\n",
    "plt.subplot(1,3,1); plt.title(\"Imagen Original\"); plt.imshow(img_rgb); plt.axis(\"off\")\n",
    "plt.subplot(1,3,2); plt.title(\"Máscara Verde\"); plt.imshow(mask_clean, cmap=\"gray\"); plt.axis(\"off\")\n",
    "plt.subplot(1,3,3); plt.title(\"Plantas Detectadas\"); plt.imshow(output); plt.axis(\"off\")\n",
    "plt.show()\n"
   ]
  }
 ],
 "metadata": {
  "kernelspec": {
   "display_name": ".venv",
   "language": "python",
   "name": "python3"
  },
  "language_info": {
   "codemirror_mode": {
    "name": "ipython",
    "version": 3
   },
   "file_extension": ".py",
   "mimetype": "text/x-python",
   "name": "python",
   "nbconvert_exporter": "python",
   "pygments_lexer": "ipython3",
   "version": "3.11.9"
  }
 },
 "nbformat": 4,
 "nbformat_minor": 5
}
