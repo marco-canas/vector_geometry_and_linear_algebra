{
 "cells": [
  {
   "cell_type": "markdown",
   "id": "d3589c7e",
   "metadata": {},
   "source": [
    "[Registro de asistencia a asesoría](https://forms.gle/FNg7WMenKvcgEh2T6)"
   ]
  },
  {
   "cell_type": "markdown",
   "id": "25307769",
   "metadata": {},
   "source": [
    "# Prompt para el diseño de este curso sobre OpenCV para vincular geometría vectorial al Agro Caucasiano \n",
    "\n",
    "Dame, por favor, el diseño de un curso de formación en el uso de la librería CV2 de Python para análisis de imágenes de cultivos en Ingeniería agropecuaria para Caucasia - Antioquia, en Colombia. Pero diseñando el curso, de tal manera que se forme en los conceptos de Geometría Vectorial y Álgebra Lineal involucrados en el análisis de imágenes asociadas a la Ingeniería Agropecuaria en Caucasia - Antioquia. "
   ]
  },
  {
   "cell_type": "markdown",
   "id": "f570810d",
   "metadata": {},
   "source": [
    "# Curso de **uso de OpenCV (CV2) en Python**   \n",
    "\n",
    "\n",
    "con los **conceptos matemáticos de geometría vectorial y álgebra lineal** aplicados al **análisis de imágenes de cultivos en Ingeniería Agropecuaria**, con un enfoque adaptado a Caucasia – Antioquia.\n",
    "\n",
    "---\n"
   ]
  },
  {
   "cell_type": "markdown",
   "id": "ab39c4c4",
   "metadata": {},
   "source": [
    "\n",
    "# Diseño del Curso\n",
    "\n",
    "**Título del curso:**\n",
    "*Geometría Vectorial, Álgebra Lineal y Análisis de Imágenes con OpenCV para Ingeniería Agropecuaria en Caucasia – Antioquia*\n"
   ]
  },
  {
   "cell_type": "markdown",
   "id": "cba996c8",
   "metadata": {},
   "source": [
    "\n",
    "**Duración:**\n",
    "40 horas (20 horas teóricas + 20 horas prácticas en laboratorio con Python y análisis de imágenes de cultivos locales).\n"
   ]
  },
  {
   "cell_type": "markdown",
   "id": "7e23bf4e",
   "metadata": {},
   "source": [
    "\n",
    "**Modalidad:**\n",
    "Semipresencial (clases en aula y prácticas con cuadernos Jupyter en Anaconda/Google Colab + trabajo de campo con imágenes reales de cultivos).\n"
   ]
  },
  {
   "cell_type": "markdown",
   "id": "75b9a1f4",
   "metadata": {},
   "source": [
    "\n",
    "**Público objetivo:**\n",
    "Estudiantes de Ingeniería Agropecuaria, investigadores de GIBACC, y productores rurales interesados en el uso de ciencia de datos para mejorar la productividad y sostenibilidad de cultivos en Bajo Cauca.\n",
    "\n",
    "---\n"
   ]
  },
  {
   "cell_type": "markdown",
   "id": "5cd66c88",
   "metadata": {},
   "source": [
    "\n",
    "## Objetivos\n",
    "\n",
    "### Objetivo general\n",
    "\n",
    "Formar a los estudiantes en el uso de Python y la librería OpenCV para el análisis de imágenes de cultivos, fortaleciendo a la vez las bases conceptuales en geometría vectorial y álgebra lineal aplicadas a la ingeniería agropecuaria.\n"
   ]
  },
  {
   "cell_type": "markdown",
   "id": "618d191c",
   "metadata": {},
   "source": [
    "\n",
    "### Objetivos específicos\n",
    "\n",
    "1. Introducir los fundamentos de **geometría vectorial y álgebra lineal** como herramientas para la interpretación y procesamiento de imágenes.\n",
    "2. Desarrollar competencias en el manejo de la librería **OpenCV (cv2)** para la lectura, preprocesamiento y análisis de imágenes agrícolas.\n",
    "3. Aplicar técnicas de análisis de imágenes a **cultivos de importancia local** (arroz, maíz, plátano, yuca).\n",
    "4. Fortalecer el pensamiento computacional para que los estudiantes conecten la matemática con la práctica agropecuaria.\n",
    "5. Promover el uso de **ciencia abierta y replicabilidad** con repositorios en GitHub y videos en YouTube.\n",
    "\n",
    "---\n"
   ]
  },
  {
   "cell_type": "markdown",
   "id": "c21a8589",
   "metadata": {},
   "source": [
    "\n",
    "## 📚 Estructura de contenidos\n",
    "\n",
    "### **Módulo 1. Contexto y fundamentos (4h teoría, 2h práctica)**\n",
    "\n",
    "* Importancia del análisis de imágenes en la agroindustria y en Caucasia.\n",
    "* Breve historia y aplicaciones de **visión por computador en agricultura** (detección de plagas, monitoreo de crecimiento, clasificación de cultivos).\n",
    "* Introducción a Python y entorno Jupyter para el análisis de datos.\n",
    "* Primer contacto con imágenes de cultivos en OpenCV: lectura y visualización.\n",
    "\n",
    "---\n"
   ]
  },
  {
   "cell_type": "markdown",
   "id": "3a2b7280",
   "metadata": {},
   "source": [
    "\n",
    "### **Módulo 2. Fundamentos matemáticos: Geometría Vectorial (4h teoría, 3h práctica)**\n",
    "\n",
    "* Concepto de vector en el plano y en el espacio.\n",
    "* Operaciones vectoriales: suma, resta, producto escalar y vectorial.\n",
    "* Representación de píxeles como vectores en espacios de color (RGB, HSV, LAB).\n",
    "* Aplicaciones:\n",
    "\n",
    "  * Filtrado de imágenes usando vectores de color.\n",
    "  * Separación de cultivos de fondo mediante espacios vectoriales.\n",
    "\n",
    "---\n"
   ]
  },
  {
   "cell_type": "markdown",
   "id": "a3e3e698",
   "metadata": {},
   "source": [
    "\n",
    "### **Módulo 3. Fundamentos matemáticos: Álgebra Lineal (4h teoría, 3h práctica)**\n",
    "\n",
    "* Matrices y transformaciones lineales.\n",
    "* Rotaciones, traslaciones y escalados en imágenes.\n",
    "* Operaciones con kernels (convoluciones) en procesamiento de imágenes.\n",
    "* Descomposición en valores singulares (SVD) aplicada a compresión de imágenes.\n",
    "* Aplicaciones:\n",
    "\n",
    "  * Corrección geométrica de imágenes de drones.\n",
    "  * Realce de bordes y texturas en hojas de cultivos.\n",
    "\n",
    "---\n"
   ]
  },
  {
   "cell_type": "markdown",
   "id": "fe84edff",
   "metadata": {},
   "source": [
    "\n",
    "### **Módulo 4. Procesamiento digital de imágenes en OpenCV (3h teoría, 5h práctica)**\n",
    "\n",
    "* Preprocesamiento: conversión de color, umbralización, ecualización de histograma.\n",
    "* Operaciones morfológicas (dilatación, erosión, apertura, cierre).\n",
    "* Detección de bordes (Canny, Sobel, Laplaciano).\n",
    "* Aplicaciones:\n",
    "\n",
    "  * Segmentación de hojas de cultivos para detección de plagas.\n",
    "  * Identificación de surcos en cultivos de arroz o maíz.\n",
    "\n",
    "---\n"
   ]
  },
  {
   "cell_type": "markdown",
   "id": "3688e617",
   "metadata": {},
   "source": [
    "\n",
    "### **Módulo 5. Aplicaciones agropecuarias con casos reales (2h teoría, 5h práctica)**\n",
    "\n",
    "* Clasificación de cultivos a partir de texturas y colorimetría.\n",
    "* Estimación de índices de vegetación (NDVI y variantes usando imágenes RGB).\n",
    "* Reconocimiento de frutos maduros vs. inmaduros en plátano y yuca.\n",
    "* Proyecto aplicado: análisis de imágenes de cultivos locales en Caucasia.\n",
    "\n",
    "---\n"
   ]
  },
  {
   "cell_type": "markdown",
   "id": "42afe103",
   "metadata": {},
   "source": [
    "\n",
    "## 📑 Metodología\n",
    "\n",
    "* **Aula invertida (flipped classroom):** Lecturas y videos en GitHub/YouTube antes de cada clase.\n",
    "* **Aprendizaje Basado en Problemas (ABP):** Cada módulo se articula con un problema real de la agroindustria en Caucasia.\n",
    "* **Trabajo en Jupyter notebooks:** Desarrollo de código documentado y replicable.\n",
    "* **Campo:** Captura de imágenes reales de cultivos locales para análisis.\n",
    "\n",
    "---\n"
   ]
  },
  {
   "cell_type": "markdown",
   "id": "3297da69",
   "metadata": {},
   "source": [
    "\n",
    "## 📊 Evaluación\n",
    "\n",
    "* **Talleres prácticos en notebooks (40%)**\n",
    "* **Proyecto de análisis de imágenes de cultivos locales (30%)**\n",
    "* **Examen corto sobre fundamentos matemáticos (20%)**\n",
    "* **Participación en clase y presentaciones (10%)**\n",
    "\n",
    "---\n"
   ]
  },
  {
   "cell_type": "markdown",
   "id": "f3463651",
   "metadata": {},
   "source": [
    "\n",
    "## 🔧 Recursos\n",
    "\n",
    "* Python (Anaconda, JupyterLab, Google Colab).\n",
    "* Librerías: OpenCV (cv2), NumPy, Matplotlib, scikit-image.\n",
    "* Imágenes locales (capturadas en campo con drones o cámaras).\n",
    "* GitHub (repositorio abierto) y YouTube (playlist del curso).\n",
    "\n",
    "---\n"
   ]
  },
  {
   "cell_type": "markdown",
   "id": "0aa1512b",
   "metadata": {},
   "source": [
    "\n",
    "## 🌱 Impacto esperado\n",
    "\n",
    "* Fortalecer en los estudiantes de Ingeniería Agropecuaria la capacidad de **usar herramientas matemáticas y computacionales** para resolver problemas reales.\n",
    "* Generar un **semillero de investigación en visión computacional agropecuaria** en el Bajo Cauca.\n",
    "* Fomentar la apropiación tecnológica en el territorio, conectando universidad, productores y comunidad.\n",
    "\n",
    "---\n"
   ]
  },
  {
   "cell_type": "markdown",
   "id": "4288955e",
   "metadata": {},
   "source": [
    "\n",
    "¿Quieres que te prepare también un **primer notebook introductorio (Módulo 1)** donde se cargue y visualice una imagen de cultivo con OpenCV, y a la vez se explique cómo cada píxel se interpreta como un vector en ℝ³ (espacio RGB)?\n"
   ]
  },
  {
   "cell_type": "markdown",
   "id": "2f0bffbb",
   "metadata": {},
   "source": [
    "Te dejo aquí el **primer notebook introductorio (Módulo 1)**. La idea es que el estudiante **vea cómo se carga y muestra una imagen de un cultivo con OpenCV** y, al mismo tiempo, comprenda que **cada píxel es un vector en ℝ³** (espacio de color RGB).\n"
   ]
  },
  {
   "cell_type": "markdown",
   "id": "8de9d95b",
   "metadata": {},
   "source": [
    "\n",
    "Lo escribo en formato listo para Jupyter Notebook (puedes guardarlo como `modulo1_intro_cv2.ipynb`).\n",
    "\n",
    "---\n"
   ]
  },
  {
   "cell_type": "code",
   "execution_count": null,
   "id": "fa53cf3e",
   "metadata": {},
   "outputs": [
    {
     "ename": "error",
     "evalue": "OpenCV(4.12.0) D:\\a\\opencv-python\\opencv-python\\opencv\\modules\\imgproc\\src\\color.cpp:199: error: (-215:Assertion failed) !_src.empty() in function 'cv::cvtColor'\n",
     "output_type": "error",
     "traceback": [
      "\u001b[31m---------------------------------------------------------------------------\u001b[39m",
      "\u001b[31merror\u001b[39m                                     Traceback (most recent call last)",
      "\u001b[36mCell\u001b[39m\u001b[36m \u001b[39m\u001b[32mIn[1]\u001b[39m\u001b[32m, line 15\u001b[39m\n\u001b[32m     12\u001b[39m img = cv2.imread(\u001b[33m\"\u001b[39m\u001b[33mhoja_cultivo.jpg\u001b[39m\u001b[33m\"\u001b[39m)\n\u001b[32m     14\u001b[39m \u001b[38;5;66;03m# 🔹 OpenCV carga imágenes en formato BGR. Convertimos a RGB para visualización en matplotlib\u001b[39;00m\n\u001b[32m---> \u001b[39m\u001b[32m15\u001b[39m img_rgb = \u001b[43mcv2\u001b[49m\u001b[43m.\u001b[49m\u001b[43mcvtColor\u001b[49m\u001b[43m(\u001b[49m\u001b[43mimg\u001b[49m\u001b[43m,\u001b[49m\u001b[43m \u001b[49m\u001b[43mcv2\u001b[49m\u001b[43m.\u001b[49m\u001b[43mCOLOR_BGR2RGB\u001b[49m\u001b[43m)\u001b[49m\n\u001b[32m     17\u001b[39m \u001b[38;5;66;03m# 🔹 Mostrar la imagen\u001b[39;00m\n\u001b[32m     18\u001b[39m plt.figure(figsize=(\u001b[32m6\u001b[39m,\u001b[32m6\u001b[39m))\n",
      "\u001b[31merror\u001b[39m: OpenCV(4.12.0) D:\\a\\opencv-python\\opencv-python\\opencv\\modules\\imgproc\\src\\color.cpp:199: error: (-215:Assertion failed) !_src.empty() in function 'cv::cvtColor'\n"
     ]
    }
   ],
   "source": [
    "\n",
    "\n",
    "# Módulo 1: Introducción al análisis de imágenes con OpenCV y Geometría Vectorial\n",
    "# Autor: Marco Julio Cañas\n",
    "# Universidad de Antioquia - Campus Caucasia\n",
    "\n",
    "# 🔹 Importar librerías\n",
    "import cv2\n",
    "import numpy as np\n",
    "import matplotlib.pyplot as plt\n",
    "\n",
    "# 🔹 Cargar una imagen (ejemplo: hoja de cultivo, cambiar ruta según tu imagen local)\n",
    "# Si trabajas en Colab, súbela con: from google.colab import files; files.upload()\n",
    "img = cv2.imread(\"hoja_cultivo.jpg\")\n",
    "\n",
    "# 🔹 OpenCV carga imágenes en formato BGR. Convertimos a RGB para visualización en matplotlib\n",
    "img_rgb = cv2.cvtColor(img, cv2.COLOR_BGR2RGB)\n",
    "\n",
    "# 🔹 Mostrar la imagen\n",
    "plt.figure(figsize=(6,6))\n",
    "plt.imshow(img_rgb)\n",
    "plt.title(\"Imagen de cultivo en RGB\")\n",
    "plt.axis(\"off\")\n",
    "plt.savefig(r\"C:\\Users\\marco\\Downloads\\hoja_cultivo.png\")\n",
    "plt.show()\n"
   ]
  },
  {
   "cell_type": "markdown",
   "id": "7dcaa3a8",
   "metadata": {},
   "source": [
    "```\n",
    "\n",
    "---\n",
    "\n",
    "## 📐 Explicación Matemática: Vectores en imágenes\n",
    "\n",
    "```python\n",
    "# 🔹 Seleccionar un píxel específico (por ejemplo, en la fila 100, columna 150)\n",
    "pixel = img_rgb[100, 150]  # Esto retorna [R, G, B]\n",
    "\n",
    "print(\"Vector del píxel en ℝ³ (RGB):\", pixel)\n",
    "\n",
    "# 🔹 Explicación\n",
    "print(f\"Este píxel se representa como el vector v = ({pixel[0]}, {pixel[1]}, {pixel[2]}) en ℝ³\")\n",
    "```\n",
    "\n",
    "---\n",
    "\n",
    "## 🔎 Explorando píxeles como vectores\n",
    "\n",
    "Podemos graficar **los vectores de color** de algunos píxeles para entenderlos en el espacio ℝ³.\n",
    "\n",
    "```python\n"
   ]
  },
  {
   "cell_type": "markdown",
   "id": "aad986e4",
   "metadata": {},
   "source": [
    "from mpl_toolkits.mplot3d import Axes3D\n",
    "\n",
    "# 🔹 Tomar una muestra de 500 píxeles al azar de la imagen\n",
    "indices = np.random.randint(0, img_rgb.shape[0], 500), np.random.randint(0, img_rgb.shape[1], 500)\n",
    "pixels = img_rgb[indices]\n",
    "\n",
    "# 🔹 Graficar en el espacio RGB (ℝ³)\n",
    "fig = plt.figure(figsize=(8,6))\n",
    "ax = fig.add_subplot(111, projection='3d')\n",
    "ax.scatter(pixels[:,0], pixels[:,1], pixels[:,2], c=pixels/255.0, marker='o', alpha=0.6)\n",
    "\n",
    "ax.set_xlabel(\"R (Rojo)\")\n",
    "ax.set_ylabel(\"G (Verde)\")\n",
    "ax.set_zlabel(\"B (Azul)\")\n",
    "ax.set_title(\"Representación de píxeles como vectores en ℝ³ (RGB)\")\n",
    "plt.show()\n"
   ]
  },
  {
   "cell_type": "markdown",
   "id": "c04320d0",
   "metadata": {},
   "source": [
    "```\n",
    "\n",
    "---\n",
    "\n",
    "## 💡 Actividad propuesta para los estudiantes\n",
    "\n",
    "1. Cargar una imagen propia de un cultivo en Caucasia (arroz, plátano, maíz, yuca).\n",
    "2. Seleccionar 3 píxeles de la imagen y escribir sus vectores en ℝ³.\n",
    "3. Calcular el **producto escalar** entre dos de esos vectores y analizar qué significa en términos de similitud de color.\n",
    "4. Explicar cómo la geometría vectorial ayuda a separar plantas del fondo en una imagen.\n",
    "\n",
    "---\n",
    "\n",
    "👉 Con este notebook, el estudiante **ya empieza a unir OpenCV con geometría vectorial** (cada píxel es un vector en ℝ³) y lo conecta con aplicaciones agropecuarias.\n",
    "\n",
    "---\n",
    "\n",
    "¿Quieres que el siguiente **notebook (Módulo 2)** incluya ya un **ejemplo práctico de separación de hojas del fondo usando operaciones vectoriales en el espacio de color**? 🌱\n"
   ]
  }
 ],
 "metadata": {
  "kernelspec": {
   "display_name": ".venv",
   "language": "python",
   "name": "python3"
  },
  "language_info": {
   "codemirror_mode": {
    "name": "ipython",
    "version": 3
   },
   "file_extension": ".py",
   "mimetype": "text/x-python",
   "name": "python",
   "nbconvert_exporter": "python",
   "pygments_lexer": "ipython3",
   "version": "3.11.9"
  }
 },
 "nbformat": 4,
 "nbformat_minor": 5
}
