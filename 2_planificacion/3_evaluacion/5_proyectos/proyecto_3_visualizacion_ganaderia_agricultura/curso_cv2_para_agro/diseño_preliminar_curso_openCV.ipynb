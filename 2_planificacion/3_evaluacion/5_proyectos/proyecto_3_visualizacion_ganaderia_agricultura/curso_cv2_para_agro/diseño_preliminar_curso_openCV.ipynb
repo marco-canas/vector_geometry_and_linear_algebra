{
 "cells": [
  {
   "cell_type": "markdown",
   "id": "d3589c7e",
   "metadata": {},
   "source": [
    "[Registro de asistencia a asesoría](https://forms.gle/FNg7WMenKvcgEh2T6)"
   ]
  },
  {
   "cell_type": "markdown",
   "id": "25307769",
   "metadata": {},
   "source": [
    "# Prompt para el diseño de este curso sobre OpenCV para vincular geometría vectorial al Agro Caucasiano \n",
    "\n",
    "Dame, por favor, el diseño de un curso de formación en el uso de la librería CV2 de Python para análisis de imágenes de cultivos en Ingeniería agropecuaria para Caucasia - Antioquia, en Colombia. Pero diseñando el curso, de tal manera que se forme en los conceptos de Geometría Vectorial y Álgebra Lineal involucrados en el análisis de imágenes asociadas a la Ingeniería Agropecuaria en Caucasia - Antioquia. "
   ]
  },
  {
   "cell_type": "markdown",
   "id": "f570810d",
   "metadata": {},
   "source": [
    "# Curso de **uso de OpenCV (CV2) en Python**   \n",
    "\n",
    "\n",
    "Este es un curso sobre el uso de OpenCV con los **conceptos matemáticos de geometría vectorial y álgebra lineal** aplicados al **análisis de imágenes de cultivos en Ingeniería Agropecuaria**, con un enfoque adaptado a Caucasia – Antioquia.\n",
    "\n",
    "---\n"
   ]
  },
  {
   "cell_type": "markdown",
   "id": "ab39c4c4",
   "metadata": {},
   "source": [
    "\n",
    "# Diseño del Curso\n",
    "\n",
    "**Título del curso:**\n",
    "*Geometría Vectorial, Álgebra Lineal y Análisis de Imágenes con OpenCV para Ingeniería Agropecuaria en Caucasia – Antioquia*\n"
   ]
  },
  {
   "cell_type": "markdown",
   "id": "cba996c8",
   "metadata": {},
   "source": [
    "\n",
    "**Duración:**\n",
    "40 horas (20 horas teóricas + 20 horas prácticas en laboratorio con Python y análisis de imágenes de cultivos locales).\n"
   ]
  },
  {
   "cell_type": "markdown",
   "id": "7e23bf4e",
   "metadata": {},
   "source": [
    "\n",
    "**Modalidad:**\n",
    "Semipresencial (clases en aula y prácticas con cuadernos Jupyter en Anaconda/Google Colab + trabajo de campo con imágenes reales de cultivos).\n"
   ]
  },
  {
   "cell_type": "markdown",
   "id": "75b9a1f4",
   "metadata": {},
   "source": [
    "\n",
    "**Público objetivo:**\n",
    "Estudiantes de Ingeniería Agropecuaria, investigadores de GIBACC, y productores rurales interesados en el uso de ciencia de datos para mejorar la productividad y sostenibilidad de cultivos en Bajo Cauca.\n",
    "\n",
    "---\n"
   ]
  },
  {
   "cell_type": "markdown",
   "id": "5cd66c88",
   "metadata": {},
   "source": [
    "\n",
    "## Objetivos\n",
    "\n",
    "### Objetivo general\n",
    "\n",
    "Formar a los estudiantes en el uso de Python y la librería OpenCV para el análisis de imágenes de cultivos, fortaleciendo a la vez las bases conceptuales en geometría vectorial y álgebra lineal aplicadas a la ingeniería agropecuaria.\n"
   ]
  },
  {
   "cell_type": "markdown",
   "id": "618d191c",
   "metadata": {},
   "source": [
    "\n",
    "### Objetivos específicos\n"
   ]
  },
  {
   "cell_type": "markdown",
   "id": "77401fb6",
   "metadata": {},
   "source": [
    "\n",
    "1. Introducir los fundamentos de **geometría vectorial y álgebra lineal** como herramientas para la interpretación y procesamiento de imágenes.\n"
   ]
  },
  {
   "cell_type": "markdown",
   "id": "3c06c9ff",
   "metadata": {},
   "source": [
    "2. Desarrollar competencias en el manejo de la librería **OpenCV (cv2)** para la lectura, preprocesamiento y análisis de imágenes agrícolas.\n"
   ]
  },
  {
   "cell_type": "markdown",
   "id": "938192d2",
   "metadata": {},
   "source": [
    "3. Aplicar técnicas de análisis de imágenes a **cultivos de importancia local** (arroz, maíz, plátano, yuca).\n"
   ]
  },
  {
   "cell_type": "markdown",
   "id": "b4da5974",
   "metadata": {},
   "source": [
    "4. Fortalecer el pensamiento computacional para que los estudiantes conecten la matemática con la práctica agropecuaria.\n"
   ]
  },
  {
   "cell_type": "markdown",
   "id": "6b28b37f",
   "metadata": {},
   "source": [
    "5. Promover el uso de **ciencia abierta y replicabilidad** con repositorios en GitHub y videos en YouTube.\n",
    "\n",
    "---\n"
   ]
  },
  {
   "cell_type": "markdown",
   "id": "c21a8589",
   "metadata": {},
   "source": [
    "\n",
    "## Estructura de contenidos\n"
   ]
  },
  {
   "cell_type": "markdown",
   "id": "83a763c6",
   "metadata": {},
   "source": [
    "\n",
    "### **Módulo 1. Contexto y fundamentos (4h teoría, 2h práctica)**\n"
   ]
  },
  {
   "cell_type": "markdown",
   "id": "ef228258",
   "metadata": {},
   "source": [
    "\n",
    "* Importancia del análisis de imágenes en la agroindustria y en Caucasia.\n"
   ]
  },
  {
   "cell_type": "markdown",
   "id": "5d60886d",
   "metadata": {},
   "source": [
    "* Breve historia y aplicaciones de **visión por computador en agricultura** (detección de plagas, monitoreo de crecimiento, clasificación de cultivos).\n"
   ]
  },
  {
   "cell_type": "markdown",
   "id": "9711b4c5",
   "metadata": {},
   "source": [
    "* Introducción a Python y entorno Jupyter para el análisis de datos.\n"
   ]
  },
  {
   "cell_type": "markdown",
   "id": "e4be1d8e",
   "metadata": {},
   "source": [
    "* Primer contacto con imágenes de cultivos en OpenCV: lectura y visualización.\n",
    "\n",
    "---\n"
   ]
  },
  {
   "cell_type": "markdown",
   "id": "3a2b7280",
   "metadata": {},
   "source": [
    "\n",
    "### **Módulo 2. Fundamentos matemáticos: Geometría Vectorial (4h teoría, 3h práctica)**\n"
   ]
  },
  {
   "cell_type": "markdown",
   "id": "4ffa5100",
   "metadata": {},
   "source": [
    "\n",
    "* Concepto de vector en el plano y en el espacio.\n"
   ]
  },
  {
   "cell_type": "markdown",
   "id": "065ad6d2",
   "metadata": {},
   "source": [
    "* Operaciones vectoriales: suma, resta, producto escalar y vectorial.\n"
   ]
  },
  {
   "cell_type": "markdown",
   "id": "cdd3d37e",
   "metadata": {},
   "source": [
    "* Representación de píxeles como vectores en espacios de color (RGB, HSV, LAB).\n"
   ]
  },
  {
   "cell_type": "markdown",
   "id": "87ce3dba",
   "metadata": {},
   "source": [
    "* Aplicaciones:\n",
    "\n",
    "  * Filtrado de imágenes usando vectores de color.\n",
    "  * Separación de cultivos de fondo mediante espacios vectoriales.\n",
    "\n",
    "---\n"
   ]
  },
  {
   "cell_type": "markdown",
   "id": "a3e3e698",
   "metadata": {},
   "source": [
    "\n",
    "### **Módulo 3. Fundamentos matemáticos: Álgebra Lineal (4h teoría, 3h práctica)**\n",
    "\n",
    "* Matrices y transformaciones lineales.\n",
    "* Rotaciones, traslaciones y escalados en imágenes.\n",
    "* Operaciones con kernels (convoluciones) en procesamiento de imágenes.\n",
    "* Descomposición en valores singulares (SVD) aplicada a compresión de imágenes.\n",
    "* Aplicaciones:\n",
    "\n",
    "  * Corrección geométrica de imágenes de drones.\n",
    "  * Realce de bordes y texturas en hojas de cultivos.\n",
    "\n",
    "---\n"
   ]
  },
  {
   "cell_type": "markdown",
   "id": "fe84edff",
   "metadata": {},
   "source": [
    "\n",
    "### **Módulo 4. Procesamiento digital de imágenes en OpenCV (3h teoría, 5h práctica)**\n",
    "\n",
    "* Preprocesamiento: conversión de color, umbralización, ecualización de histograma.\n",
    "* Operaciones morfológicas (dilatación, erosión, apertura, cierre).\n",
    "* Detección de bordes (Canny, Sobel, Laplaciano).\n",
    "* Aplicaciones:\n",
    "\n",
    "  * Segmentación de hojas de cultivos para detección de plagas.\n",
    "  * Identificación de surcos en cultivos de arroz o maíz.\n",
    "\n",
    "---\n"
   ]
  },
  {
   "cell_type": "markdown",
   "id": "3688e617",
   "metadata": {},
   "source": [
    "\n",
    "### **Módulo 5. Aplicaciones agropecuarias con casos reales (2h teoría, 5h práctica)**\n",
    "\n",
    "* Clasificación de cultivos a partir de texturas y colorimetría.\n",
    "* Estimación de índices de vegetación (NDVI y variantes usando imágenes RGB).\n",
    "* Reconocimiento de frutos maduros vs. inmaduros en plátano y yuca.\n",
    "* Proyecto aplicado: análisis de imágenes de cultivos locales en Caucasia.\n",
    "\n",
    "---\n"
   ]
  },
  {
   "cell_type": "markdown",
   "id": "42afe103",
   "metadata": {},
   "source": [
    "\n",
    "## 📑 Metodología\n",
    "\n",
    "* **Aula invertida (flipped classroom):** Lecturas y videos en GitHub/YouTube antes de cada clase.\n",
    "* **Aprendizaje Basado en Problemas (ABP):** Cada módulo se articula con un problema real de la agroindustria en Caucasia.\n",
    "* **Trabajo en Jupyter notebooks:** Desarrollo de código documentado y replicable.\n",
    "* **Campo:** Captura de imágenes reales de cultivos locales para análisis.\n",
    "\n",
    "---\n"
   ]
  },
  {
   "cell_type": "markdown",
   "id": "3297da69",
   "metadata": {},
   "source": [
    "\n",
    "## 📊 Evaluación\n",
    "\n",
    "* **Talleres prácticos en notebooks (40%)**\n",
    "* **Proyecto de análisis de imágenes de cultivos locales (30%)**\n",
    "* **Examen corto sobre fundamentos matemáticos (20%)**\n",
    "* **Participación en clase y presentaciones (10%)**\n",
    "\n",
    "---\n"
   ]
  },
  {
   "cell_type": "markdown",
   "id": "f3463651",
   "metadata": {},
   "source": [
    "\n",
    "## 🔧 Recursos\n",
    "\n",
    "* Python (Anaconda, JupyterLab, Google Colab).\n",
    "* Librerías: OpenCV (cv2), NumPy, Matplotlib, scikit-image.\n",
    "* Imágenes locales (capturadas en campo con drones o cámaras).\n",
    "* GitHub (repositorio abierto) y YouTube (playlist del curso).\n",
    "\n",
    "---\n"
   ]
  },
  {
   "cell_type": "markdown",
   "id": "0aa1512b",
   "metadata": {},
   "source": [
    "\n",
    "## Impacto esperado\n",
    "\n",
    "* Fortalecer en los estudiantes de Ingeniería Agropecuaria la capacidad de **usar herramientas matemáticas y computacionales** para resolver problemas reales.\n",
    "* Generar un **semillero de investigación en visión computacional agropecuaria** en el Bajo Cauca.\n",
    "* Fomentar la apropiación tecnológica en el territorio, conectando universidad, productores y comunidad.\n",
    "\n",
    "---\n"
   ]
  },
  {
   "cell_type": "markdown",
   "id": "4288955e",
   "metadata": {},
   "source": [
    "\n",
    "¿Quieres que te prepare también un **primer notebook introductorio (Módulo 1)** donde se cargue y visualice una imagen de cultivo con OpenCV, y a la vez se explique cómo cada píxel se interpreta como un vector en ℝ³ (espacio RGB)?\n"
   ]
  },
  {
   "cell_type": "markdown",
   "id": "2f0bffbb",
   "metadata": {},
   "source": [
    "Te dejo aquí el **primer notebook introductorio (Módulo 1)**. La idea es que el estudiante **vea cómo se carga y muestra una imagen de un cultivo con OpenCV** y, al mismo tiempo, comprenda que **cada píxel es un vector en ℝ³** (espacio de color RGB).\n"
   ]
  },
  {
   "cell_type": "markdown",
   "id": "8de9d95b",
   "metadata": {},
   "source": [
    "\n",
    "Lo escribo en formato listo para Jupyter Notebook (puedes guardarlo como `modulo1_intro_cv2.ipynb`).\n",
    "\n",
    "---\n"
   ]
  },
  {
   "cell_type": "markdown",
   "id": "fa53cf3e",
   "metadata": {},
   "source": [
    "# Módulo 1: Introducción al análisis de imágenes con OpenCV y Geometría Vectorial\n"
   ]
  },
  {
   "cell_type": "markdown",
   "id": "4a8f93bf",
   "metadata": {},
   "source": [
    "## Autor: Marco Julio Cañas\n",
    "## Universidad de Antioquia - Campus Caucasia\n",
    "\n",
    "[Video de apoyo a la presentación de este curso](https://www.youtube.com/watch?v=OmR4EJkuteI)"
   ]
  },
  {
   "cell_type": "code",
   "execution_count": 16,
   "id": "b6674fb1",
   "metadata": {},
   "outputs": [
    {
     "data": {
      "image/png": "[encoded data removed]",
      "text/plain": [
       "<Figure size 200x200 with 1 Axes>"
      ]
     },
     "metadata": {},
     "output_type": "display_data"
    }
   ],
   "source": [
    "\n",
    "#  Importar librerías\n",
    "import cv2\n",
    "import numpy as np\n",
    "import matplotlib.pyplot as plt\n",
    "\n",
    "# 🔹 Cargar una imagen (ejemplo: hoja de cultivo, cambiar ruta según tu imagen local)\n",
    "# Si trabajas en Colab, súbela con: from google.colab import files; files.upload()\n",
    "img = cv2.imread(\"cada_pixel_vectos_r3_14 oct 2025_1.png\")\n",
    "\n",
    "# 🔹 OpenCV carga imágenes en formato BGR. Convertimos a RGB para visualización en matplotlib\n",
    "img_rgb = cv2.cvtColor(img, cv2.COLOR_BGR2RGB)\n",
    "\n",
    "# 🔹 Mostrar la imagen\n",
    "plt.figure(figsize=(2,2))\n",
    "plt.imshow(img_rgb)\n",
    "plt.title(\"Imagen de cultivo en RGB\")\n",
    "plt.axis(\"off\")\n",
    "plt.savefig(r\"C:\\Users\\marco\\Downloads\\hoja_cultivo.png\")\n",
    "plt.show()\n"
   ]
  },
  {
   "cell_type": "markdown",
   "id": "7dcaa3a8",
   "metadata": {},
   "source": [
    "\n",
    "## Explicación Matemática: Vectores en imágenes\n"
   ]
  },
  {
   "cell_type": "code",
   "execution_count": 14,
   "id": "fb01c997",
   "metadata": {},
   "outputs": [
    {
     "data": {
      "text/plain": [
       "array([[[254, 254, 254],\n",
       "        [253, 253, 254],\n",
       "        [254, 255, 254],\n",
       "        ...,\n",
       "        [255, 254, 254],\n",
       "        [255, 255, 255],\n",
       "        [254, 253, 254]],\n",
       "\n",
       "       [[255, 255, 254],\n",
       "        [254, 255, 255],\n",
       "        [254, 254, 254],\n",
       "        ...,\n",
       "        [254, 254, 255],\n",
       "        [255, 254, 255],\n",
       "        [253, 254, 255]],\n",
       "\n",
       "       [[254, 254, 255],\n",
       "        [254, 254, 254],\n",
       "        [255, 253, 254],\n",
       "        ...,\n",
       "        [254, 255, 254],\n",
       "        [254, 253, 253],\n",
       "        [253, 254, 254]],\n",
       "\n",
       "       ...,\n",
       "\n",
       "       [[255, 254, 255],\n",
       "        [252, 254, 253],\n",
       "        [254, 255, 254],\n",
       "        ...,\n",
       "        [254, 254, 254],\n",
       "        [253, 255, 255],\n",
       "        [253, 254, 254]],\n",
       "\n",
       "       [[254, 253, 253],\n",
       "        [254, 254, 255],\n",
       "        [255, 255, 255],\n",
       "        ...,\n",
       "        [253, 254, 253],\n",
       "        [254, 255, 253],\n",
       "        [253, 254, 255]],\n",
       "\n",
       "       [[254, 253, 253],\n",
       "        [253, 254, 253],\n",
       "        [253, 255, 255],\n",
       "        ...,\n",
       "        [254, 252, 254],\n",
       "        [254, 254, 254],\n",
       "        [254, 253, 254]]], shape=(1024, 1536, 3), dtype=uint8)"
      ]
     },
     "execution_count": 14,
     "metadata": {},
     "output_type": "execute_result"
    }
   ],
   "source": [
    "img_rgb"
   ]
  },
  {
   "cell_type": "code",
   "execution_count": null,
   "id": "0cfe07b4",
   "metadata": {},
   "outputs": [
    {
     "data": {
      "text/plain": [
       "(1024, 1536, 3)"
      ]
     },
     "execution_count": 15,
     "metadata": {},
     "output_type": "execute_result"
    }
   ],
   "source": [
    "img_rgb.shape # el orden del la matriz es (alto, ancho, canales)"
   ]
  },
  {
   "cell_type": "code",
   "execution_count": 17,
   "id": "f6a4f428",
   "metadata": {},
   "outputs": [
    {
     "data": {
      "text/plain": [
       "1572864"
      ]
     },
     "execution_count": 17,
     "metadata": {},
     "output_type": "execute_result"
    }
   ],
   "source": [
    "1024*1536"
   ]
  },
  {
   "cell_type": "code",
   "execution_count": 20,
   "id": "78888be3",
   "metadata": {},
   "outputs": [
    {
     "data": {
      "text/plain": [
       "array([254, 255, 255], dtype=uint8)"
      ]
     },
     "execution_count": 20,
     "metadata": {},
     "output_type": "execute_result"
    }
   ],
   "source": [
    "img_rgb[10, 5]"
   ]
  },
  {
   "cell_type": "code",
   "execution_count": 23,
   "id": "77558ea1",
   "metadata": {},
   "outputs": [
    {
     "data": {
      "text/plain": [
       "np.uint8(255)"
      ]
     },
     "execution_count": 23,
     "metadata": {},
     "output_type": "execute_result"
    }
   ],
   "source": [
    "img_rgb[10, 5][2]"
   ]
  },
  {
   "cell_type": "code",
   "execution_count": 3,
   "id": "0d55b387",
   "metadata": {},
   "outputs": [
    {
     "ename": "NameError",
     "evalue": "name 'img_rgb' is not defined",
     "output_type": "error",
     "traceback": [
      "\u001b[31m---------------------------------------------------------------------------\u001b[39m",
      "\u001b[31mNameError\u001b[39m                                 Traceback (most recent call last)",
      "\u001b[36mCell\u001b[39m\u001b[36m \u001b[39m\u001b[32mIn[3]\u001b[39m\u001b[32m, line 2\u001b[39m\n\u001b[32m      1\u001b[39m \u001b[38;5;66;03m# 🔹 Seleccionar un píxel específico (por ejemplo, en la fila 100, columna 150)\u001b[39;00m\n\u001b[32m----> \u001b[39m\u001b[32m2\u001b[39m pixel = \u001b[43mimg_rgb\u001b[49m[\u001b[32m100\u001b[39m, \u001b[32m150\u001b[39m]  \u001b[38;5;66;03m# Esto retorna [R, G, B]\u001b[39;00m\n\u001b[32m      4\u001b[39m \u001b[38;5;28mprint\u001b[39m(\u001b[33m\"\u001b[39m\u001b[33mVector del píxel en ℝ³ (RGB):\u001b[39m\u001b[33m\"\u001b[39m, pixel)\n\u001b[32m      6\u001b[39m \u001b[38;5;66;03m# 🔹 Explicación\u001b[39;00m\n",
      "\u001b[31mNameError\u001b[39m: name 'img_rgb' is not defined"
     ]
    }
   ],
   "source": [
    "\n",
    "\n",
    "# 🔹 Seleccionar un píxel específico (por ejemplo, en la fila 100, columna 150)\n",
    "pixel = img_rgb[100, 150]  # Esto retorna [R, G, B]\n",
    "\n",
    "print(\"Vector del píxel en ℝ³ (RGB):\", pixel)\n",
    "\n",
    "# 🔹 Explicación\n",
    "print(f\"Este píxel se representa como el vector v = ({pixel[0]}, {pixel[1]}, {pixel[2]}) en ℝ³\")\n",
    "\n"
   ]
  },
  {
   "cell_type": "markdown",
   "id": "0ed22549",
   "metadata": {},
   "source": [
    "\n",
    "## Explorando píxeles como vectores\n",
    "\n",
    "Podemos graficar **los vectores de color** de algunos píxeles para entenderlos en el espacio ℝ³.\n",
    "\n"
   ]
  },
  {
   "cell_type": "code",
   "execution_count": 25,
   "id": "aad986e4",
   "metadata": {},
   "outputs": [],
   "source": [
    "import numpy as np \n",
    "from mpl_toolkits.mplot3d import Axes3D\n"
   ]
  },
  {
   "cell_type": "code",
   "execution_count": 30,
   "id": "482cd990",
   "metadata": {},
   "outputs": [],
   "source": [
    "mariana_edad = 19 "
   ]
  },
  {
   "cell_type": "code",
   "execution_count": 33,
   "id": "402f8644",
   "metadata": {},
   "outputs": [
    {
     "data": {
      "text/plain": [
       "8"
      ]
     },
     "execution_count": 33,
     "metadata": {},
     "output_type": "execute_result"
    }
   ],
   "source": [
    "np.random.randint(1, 11)"
   ]
  },
  {
   "cell_type": "code",
   "execution_count": 29,
   "id": "3a4e3565",
   "metadata": {},
   "outputs": [],
   "source": [
    "\n",
    "# 🔹 Tomar una muestra de 500 píxeles al azar de la imagen\n",
    "indices = np.random.randint(0, img_rgb.shape[0], 500), \\\n",
    "    np.random.randint(0, img_rgb.shape[1], 500)"
   ]
  },
  {
   "cell_type": "code",
   "execution_count": null,
   "id": "e47ceeb3",
   "metadata": {},
   "outputs": [],
   "source": [
    "\n",
    "pixels = img_rgb[indices]\n",
    "\n",
    "# 🔹 Graficar en el espacio RGB (ℝ³)\n",
    "fig = plt.figure(figsize=(8,6))\n",
    "ax = fig.add_subplot(111, projection='3d')\n",
    "ax.scatter(pixels[:,0], pixels[:,1], pixels[:,2], c=pixels/255.0, marker='o', alpha=0.6)\n",
    "\n",
    "ax.set_xlabel(\"R (Rojo)\")\n",
    "ax.set_ylabel(\"G (Verde)\")\n",
    "ax.set_zlabel(\"B (Azul)\")\n",
    "ax.set_title(\"Representación de píxeles como vectores en ℝ³ (RGB)\")\n",
    "plt.savefig(r\"C:\\Users\\marco\\Downloads\\representacion_pixeles.png\")\n",
    "plt.show()\n"
   ]
  },
  {
   "cell_type": "markdown",
   "id": "c04320d0",
   "metadata": {},
   "source": [
    "```\n",
    "\n",
    "---\n",
    "\n",
    "## 💡 Actividad propuesta para los estudiantes\n",
    "\n",
    "1. Cargar una imagen propia de un cultivo en Caucasia (arroz, plátano, maíz, yuca).\n",
    "2. Seleccionar 3 píxeles de la imagen y escribir sus vectores en ℝ³.\n",
    "3. Calcular el **producto escalar** entre dos de esos vectores y analizar qué significa en términos de similitud de color.\n",
    "4. Explicar cómo la geometría vectorial ayuda a separar plantas del fondo en una imagen.\n",
    "\n",
    "---\n",
    "\n",
    "👉 Con este notebook, el estudiante **ya empieza a unir OpenCV con geometría vectorial** (cada píxel es un vector en ℝ³) y lo conecta con aplicaciones agropecuarias.\n",
    "\n",
    "---\n",
    "\n",
    "¿Quieres que el siguiente **notebook (Módulo 2)** incluya ya un **ejemplo práctico de separación de hojas del fondo usando operaciones vectoriales en el espacio de color**? 🌱\n"
   ]
  }
 ],
 "metadata": {
  "kernelspec": {
   "display_name": ".venv",
   "language": "python",
   "name": "python3"
  },
  "language_info": {
   "codemirror_mode": {
    "name": "ipython",
    "version": 3
   },
   "file_extension": ".py",
   "mimetype": "text/x-python",
   "name": "python",
   "nbconvert_exporter": "python",
   "pygments_lexer": "ipython3",
   "version": "3.11.9"
  }
 },
 "nbformat": 4,
 "nbformat_minor": 5
}
