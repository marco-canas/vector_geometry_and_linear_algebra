{
 "cells": [
  {
   "cell_type": "markdown",
   "id": "1211a4fe",
   "metadata": {},
   "source": [
    "<table align=\"left\">\n",
    "  <td>\n",
    "    <a href=\"https://colab.research.google.com/github/marco-canas/vector_geometry_and_linear_algebra/blob/main/2_planificacion/2_clases/1_class/1_class.ipynb\" target=\"_parent\"><img src=\"https://colab.research.google.com/assets/colab-badge.svg\" alt=\"Open In Colab\"/></a>\n",
    "  </td>\n",
    "  <td>\n",
    "    <a target=\"_blank\" href=\"https://kaggle.com/kernels/welcome?src=https://github.com/marco-canas/vector_geometry_and_linear_algebra/blob/main/2_planificacion/2_clases/1_class/1_class.ipynb\"><img src=\"https://kaggle.com/static/images/open-in-kaggle.svg\" /></a>\n",
    "  </td>\n",
    "</table>"
   ]
  },
  {
   "cell_type": "markdown",
   "id": "970da95e",
   "metadata": {},
   "source": [
    "<img src = 'asesoria_ing_agro_2025-09-13.jpg'> "
   ]
  },
  {
   "cell_type": "markdown",
   "id": "c965d481",
   "metadata": {},
   "source": [
    "# La importancia del prompt \n",
    "\n",
    "Diez ejercicios sobre aplicabilidad del concepto de norma de una vector en el espacio, para ingeniería agropecuaria. Sobre todo en vuelo de drones agropecuarios.  "
   ]
  },
  {
   "cell_type": "markdown",
   "id": "f8f31f24",
   "metadata": {},
   "source": [
    "# 10 Ejercicios de tarea \n",
    "\n",
    "Te propongo **10 ejercicios contextualizados en ingeniería agropecuaria**, donde el concepto de **norma de un vector en el espacio** se aplica al **vuelo de drones agropecuarios** (navegación, control, y optimización de trayectorias).\n",
    "\n",
    "---\n"
   ]
  },
  {
   "cell_type": "markdown",
   "id": "14178f19",
   "metadata": {},
   "source": [
    "\n",
    "# 🔹 Ejercicios sobre norma de un vector en el espacio (drones en agropecuaria)\n",
    "\n",
    "### **1. Distancia de un dron al suelo**\n",
    "\n",
    "Un dron despega desde el punto $A(0,0,0)$ y alcanza la posición $P(20,15,40)$ en metros.\n",
    "\n",
    "* Calcula la **norma del vector de posición** $\\vec{AP}$.\n",
    "* Interpreta físicamente el resultado.\n",
    "\n",
    "---\n"
   ]
  },
  {
   "cell_type": "markdown",
   "id": "3b1777b2",
   "metadata": {},
   "source": [
    "\n",
    "### **2. Distancia entre dos drones**\n",
    "\n",
    "Dos drones se encuentran en posiciones:\n",
    "\n",
    "$$\n",
    "D_1(50,30,80), \\quad D_2(60,45,120)\n",
    "$$\n",
    "\n",
    "Calcula la distancia entre ambos drones usando la **norma del vector diferencia**.\n",
    "\n",
    "---\n"
   ]
  },
  {
   "cell_type": "markdown",
   "id": "5c1d10b7",
   "metadata": {},
   "source": [
    "\n",
    "### **3. Trayectoria mínima de un dron**\n",
    "\n",
    "Un dron debe desplazarse desde $Q(10,5,0)$ hasta $R(30,25,50)$.\n",
    "\n",
    "* Encuentra el vector desplazamiento.\n",
    "* Calcula su norma para estimar la longitud mínima de la trayectoria.\n",
    "\n",
    "---\n"
   ]
  },
  {
   "cell_type": "markdown",
   "id": "92edf076",
   "metadata": {},
   "source": [
    "\n",
    "### **4. Magnitud de la velocidad**\n",
    "\n",
    "Un dron vuela con velocidad vectorial $\\vec{v} = (3,4,12)$ m/s.\n",
    "\n",
    "* Calcula la **norma de $\\vec{v}$**.\n",
    "* Interpreta la magnitud obtenida.\n",
    "\n",
    "---\n"
   ]
  },
  {
   "cell_type": "markdown",
   "id": "9078a27b",
   "metadata": {},
   "source": [
    "\n",
    "### **5. Alcance de un dron fumigador**\n",
    "\n",
    "El dron debe cubrir un campo rectangular. Desde la posición inicial $(0,0,10)$, se desplaza a $(40,30,10)$.\n",
    "\n",
    "* Calcula la norma del vector desplazamiento.\n",
    "* ¿Qué representa este valor respecto al **alcance lineal** del dron?\n",
    "\n",
    "---\n"
   ]
  },
  {
   "cell_type": "markdown",
   "id": "f07f68ba",
   "metadata": {},
   "source": [
    "\n",
    "### **6. Control de estabilidad**\n",
    "\n",
    "Un dron sufre una ráfaga de viento que lo desplaza según el vector $\\vec{w} = (-5,8,2)$ m.\n",
    "\n",
    "* Calcula la norma de $\\vec{w}$.\n",
    "* ¿Qué interpretación física tiene para la corrección que debe hacer el dron?\n",
    "\n",
    "---\n"
   ]
  },
  {
   "cell_type": "markdown",
   "id": "1183bbda",
   "metadata": {},
   "source": [
    "\n",
    "### **7. Altitud relativa**\n",
    "\n",
    "Un dron está en $(100, 150, 60)$ y el punto de referencia del terreno es $(100,150,0)$.\n",
    "\n",
    "* Encuentra la norma del vector diferencia.\n",
    "* Interpreta el resultado como la **altura relativa** del dron sobre el terreno.\n",
    "\n",
    "---\n",
    "\n",
    "### **8. Normas como consumo energético**\n",
    "\n",
    "Se sabe que el consumo energético de un dron es proporcional a la norma del vector desplazamiento.\n",
    "Si el dron realiza tres desplazamientos:\n",
    "\n",
    "$$\n",
    "\\vec{d_1} = (10,5,0), \\quad \\vec{d_2} = (0,20,0), \\quad \\vec{d_3} = (5,5,10)\n",
    "$$\n",
    "\n",
    "* Calcula las normas.\n",
    "* Interpreta la suma como el “consumo total de energía”.\n",
    "\n",
    "---\n",
    "\n",
    "### **9. Vector de corrección GPS**\n",
    "\n",
    "Un dron tiene coordenadas reales $R(50,70,100)$ y coordenadas estimadas por GPS $G(52,66,98)$.\n",
    "\n",
    "* Calcula el vector error $\\vec{e} = R - G$.\n",
    "* Calcula $\\|\\vec{e}\\|$.\n",
    "* ¿Qué representa esta norma respecto al error de localización?\n",
    "\n",
    "---\n",
    "\n",
    "### **10. Distancia al centro de un lote**\n",
    "\n",
    "El centro del lote agrícola está en el punto $C(200,300,0)$.\n",
    "Un dron en misión de monitoreo se encuentra en la posición $P(230,280,50)$.\n",
    "\n",
    "* Calcula el vector $\\vec{CP}$.\n",
    "* Halla su norma para estimar la distancia entre el dron y el centro del lote.\n",
    "\n",
    "---\n",
    "\n",
    "✅ Con estos 10 ejercicios, tus estudiantes de **ingeniería agropecuaria** podrán aplicar el concepto de **norma de un vector** a problemas reales de **navegación y control de drones** en el campo.\n",
    "\n",
    "---\n",
    "\n",
    "¿Quieres que te prepare una **guía didáctica** con representaciones gráficas (trayectorias, posiciones, distancias en 3D con matplotlib) para algunos de estos ejercicios?\n"
   ]
  }
 ],
 "metadata": {
  "language_info": {
   "name": "python"
  }
 },
 "nbformat": 4,
 "nbformat_minor": 5
}
