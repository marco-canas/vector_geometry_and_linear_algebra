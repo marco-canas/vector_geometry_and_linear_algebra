{
 "cells": [
  {
   "cell_type": "markdown",
   "id": "55412b9a",
   "metadata": {},
   "source": [
    "\n",
    "# **Universidad de Antioquia – Campus Caucasia**  \n",
    "## Facultad de Ingeniería  \n",
    "### Programa: Ingeniería Agropecuaria  \n",
    "### Curso: *Geometría Vectorial para Ingeniería Agropecuaria en el Bajo Cauca Antioqueño*  \n",
    "**Profesor:** Marco Julio Cañas  \n",
    "**Duración:** 120 minutos  \n",
    "**Tipo de evaluación:** Parcial tipo 3 (Versión 2 — Teórico y práctico)  \n",
    "**Recursos permitidos:** Calculadora, apuntes manuscritos, NumPy y Matplotlib  \n",
    "\n",
    "---\n"
   ]
  },
  {
   "cell_type": "markdown",
   "id": "a59a3ee6",
   "metadata": {},
   "source": [
    "\n",
    "## 🧭 Instrucciones generales\n",
    "\n",
    "1. Lea cuidadosamente cada pregunta antes de responder.  \n",
    "2. Las **preguntas teóricas** deben responderse en celdas Markdown (texto).  \n",
    "3. Las **preguntas prácticas** deben resolverse con código Python correctamente comentado.  \n",
    "4. Guarde el archivo con el formato: `Parcial2_GeometriaVectorial_ApellidoNombre.ipynb`.  \n",
    "5. Al finalizar, complete la autoevaluación.\n",
    "\n",
    "---\n"
   ]
  },
  {
   "cell_type": "markdown",
   "id": "d5ea4537",
   "metadata": {},
   "source": [
    "\n",
    "# 🧠 Parte I – Conceptual (40%)\n",
    "\n",
    "### **Pregunta 1 (10%) — Representación y suma de vectores**\n",
    "Explique la diferencia entre la representación geométrica y algebraica de un vector.  \n",
    "A partir de dos desplazamientos en una finca (por ejemplo, un dron agrícola que se mueve 3 m hacia el norte y luego 4 m hacia el este):  \n",
    "a) Represente el vector resultante.  \n",
    "b) Explique qué significa la **suma vectorial** en este contexto.\n",
    "\n",
    "---\n",
    "\n",
    "### **Pregunta 2 (10%) — Producto escalar y su interpretación**\n",
    "a) Defina el producto escalar entre dos vectores y su interpretación geométrica.  \n",
    "b) Aplique el concepto al siguiente caso:  \n",
    "   > Un sensor de viento mide dos direcciones de flujo, \\( \\vec{A} = (5, 2) \\) y \\( \\vec{B} = (3, 4) \\).  \n",
    "   Determine si los flujos tienden a la misma dirección (mediante el ángulo entre ellos).  \n",
    "\n",
    "---\n",
    "\n",
    "### **Pregunta 3 (10%) — Transformaciones lineales**\n",
    "Describa el concepto de **transformación lineal** y su importancia para modelar sistemas mecánicos o espaciales.  \n",
    "Dé un ejemplo de una **matriz de estiramiento** o **corte** y analice su efecto sobre un vector.\n",
    "\n",
    "---\n",
    "\n",
    "### **Pregunta 4 (10%) — Norma y distancia**\n",
    "Dados los puntos \\( P(2, -3, 1) \\) y \\( Q(5, 1, 4) \\):  \n",
    "a) Calcule el vector \\( \\overrightarrow{PQ} \\).  \n",
    "b) Determine su norma y la distancia entre los puntos.  \n",
    "c) Interprete el resultado en términos de distancia real (por ejemplo, metros entre sensores agrícolas).\n",
    "\n",
    "---\n"
   ]
  },
  {
   "cell_type": "markdown",
   "id": "c6b2f0e0",
   "metadata": {},
   "source": [
    "\n",
    "# 💻 Parte II – Práctica Computacional (60%)\n",
    "\n",
    "Resuelva los siguientes ejercicios en Python usando **NumPy** y **Matplotlib**.  \n",
    "Comente cada paso e interprete los resultados.\n",
    "\n",
    "---\n"
   ]
  },
  {
   "cell_type": "markdown",
   "id": "a6aeb9ec",
   "metadata": {},
   "source": [
    "\n",
    "### **Ejercicio 1 (15%) — Suma y dirección resultante de vectores**\n",
    "Genere dos vectores en \\( \\mathbb{R}^2 \\):\n",
    "```python\n",
    "u = np.array([4, 1])\n",
    "v = np.array([2, 3])\n",
    "```\n",
    "a) Calcule la suma y la dirección resultante (ángulo con el eje x).  \n",
    "b) Grafique los tres vectores (\\(u\\), \\(v\\), \\(u+v\\)) con `plt.quiver()`.  \n",
    "c) Interprete qué representa este resultado en un desplazamiento sobre un terreno agrícola.\n"
   ]
  },
  {
   "cell_type": "code",
   "execution_count": null,
   "id": "088b1db8",
   "metadata": {},
   "outputs": [],
   "source": [
    "# Escriba aquí su solución para el Ejercicio 1\n",
    "import numpy as np\n",
    "import matplotlib.pyplot as plt\n",
    "\n",
    "# --- Su código ---"
   ]
  },
  {
   "cell_type": "markdown",
   "id": "04ab87f6",
   "metadata": {},
   "source": [
    "\n",
    "### **Ejercicio 2 (15%) — Producto vectorial aplicado**\n",
    "Genere dos vectores en \\( \\mathbb{R}^3 \\):\n",
    "```python\n",
    "a = np.array([1, 3, -2])\n",
    "b = np.array([-2, 1, 4])\n",
    "```\n",
    "a) Calcule su producto escalar y vectorial.  \n",
    "b) Visualice los tres vectores (\\(a\\), \\(b\\), y \\(a\\times b\\)) en 3D.  \n",
    "c) Verifique que \\(a\\times b\\) es perpendicular a ambos.  \n",
    "d) Interprete el producto vectorial como el “área” del paralelogramo formado por \\(a\\) y \\(b\\).\n"
   ]
  },
  {
   "cell_type": "code",
   "execution_count": null,
   "id": "8b92d74a",
   "metadata": {},
   "outputs": [],
   "source": [
    "# Escriba aquí su solución para el Ejercicio 2\n",
    "import numpy as np\n",
    "import matplotlib.pyplot as plt\n",
    "from mpl_toolkits.mplot3d import Axes3D\n",
    "\n",
    "# --- Su código ---"
   ]
  },
  {
   "cell_type": "markdown",
   "id": "dd022415",
   "metadata": {},
   "source": [
    "\n",
    "### **Ejercicio 3 (15%) — Rotación en el plano**\n",
    "Implemente una función que realice una **rotación antihoraria** de un vector \\(v = (3, 2)\\) por \\(\\theta = 60^\\circ\\).  \n",
    "a) Use la matriz de rotación correspondiente.  \n",
    "b) Grafique el vector antes y después de la rotación.  \n",
    "c) Explique cómo este tipo de transformación se usa en la orientación de sistemas de riego o paneles solares.\n"
   ]
  },
  {
   "cell_type": "code",
   "execution_count": null,
   "id": "0f20e0e8",
   "metadata": {},
   "outputs": [],
   "source": [
    "# Escriba aquí su solución para el Ejercicio 3\n",
    "import numpy as np\n",
    "import matplotlib.pyplot as plt\n",
    "\n",
    "# --- Su código ---"
   ]
  },
  {
   "cell_type": "markdown",
   "id": "3ede1b83",
   "metadata": {},
   "source": [
    "\n",
    "### **Ejercicio 4 (15%) — Distancia y norma de vectores en el espacio**\n",
    "Genere tres puntos en \\( \\mathbb{R}^3 \\):\n",
    "```python\n",
    "P = np.array([1, 1, 2])\n",
    "Q = np.array([3, 4, 6])\n",
    "R = np.array([-1, 2, 5])\n",
    "```\n",
    "a) Calcule los vectores \\(PQ\\), \\(PR\\), y \\(QR\\).  \n",
    "b) Determine las normas y las distancias entre cada par.  \n",
    "c) Determine si los tres puntos están alineados.  \n",
    "d) Visualícelos en un gráfico 3D.\n"
   ]
  },
  {
   "cell_type": "code",
   "execution_count": null,
   "id": "ada9d2ac",
   "metadata": {},
   "outputs": [],
   "source": [
    "# Escriba aquí su solución para el Ejercicio 4\n",
    "import numpy as np\n",
    "import matplotlib.pyplot as plt\n",
    "\n",
    "# --- Su código ---"
   ]
  },
  {
   "cell_type": "markdown",
   "id": "350aa368",
   "metadata": {},
   "source": [
    "\n",
    "---\n",
    "\n",
    "# 🧩 Autoevaluación del estudiante\n",
    "\n",
    "Reflexione sobre su desempeño en este parcial.  \n",
    "Asigne una calificación entre 1 y 5 a cada criterio:\n",
    "\n",
    "| Criterio | Calificación (1-5) |\n",
    "|-----------|--------------------|\n",
    "| Comprensión conceptual |   |\n",
    "| Aplicación en Python |   |\n",
    "| Interpretación geométrica |   |\n",
    "| Claridad en la comunicación |   |\n",
    "| Organización del cuaderno |   |\n",
    "\n",
    "**Comentario personal:**  \n",
    "> ¿Qué comprendí mejor con este parcial?  \n",
    "> ¿Qué podría mejorar en mis habilidades con Python y la interpretación geométrica?\n",
    "\n",
    "---\n"
   ]
  }
 ],
 "metadata": {},
 "nbformat": 4,
 "nbformat_minor": 5
}