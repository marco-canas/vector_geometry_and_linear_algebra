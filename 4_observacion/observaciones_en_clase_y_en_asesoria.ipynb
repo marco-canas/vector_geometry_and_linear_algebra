{
 "cells": [
  {
   "cell_type": "markdown",
   "id": "78548e30",
   "metadata": {},
   "source": []
  },
  {
   "cell_type": "markdown",
   "id": "0dd4276b",
   "metadata": {},
   "source": [
    "# Observaciones en clase y en asesoría, del aprendizaje de los estudiantes de ingeniería.  \n",
    "\n"
   ]
  },
  {
   "cell_type": "markdown",
   "id": "84285419",
   "metadata": {},
   "source": [
    "## Observación en la asesoría del 4 de octubre de 2025  \n",
    "\n",
    "Difucultad para diferenciar entre \n",
    "1. Evaluar vectores particulares no arbitrarios y evaluar vectores particulares arbitratios en una transformación lineal dada.. \n",
    "2. Gran interés de Marisol, por aprender a encender el Dron y aprender a que la aplicación de android se conecte con el dron y así, la imagen que capte la cámara, se note en el celular. Todavía, no hemos logrado esto en esta asesoría. \n"
   ]
  }
 ],
 "metadata": {
  "language_info": {
   "name": "python"
  }
 },
 "nbformat": 4,
 "nbformat_minor": 5
}
