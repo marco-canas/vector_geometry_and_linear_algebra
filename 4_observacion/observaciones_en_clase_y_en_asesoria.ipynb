{
 "cells": [
  {
   "cell_type": "markdown",
   "id": "78548e30",
   "metadata": {},
   "source": [
    "[Registro de asistencia a asesoría](https://forms.gle/FNg7WMenKvcgEh2T6)"
   ]
  },
  {
   "cell_type": "markdown",
   "id": "0dd4276b",
   "metadata": {},
   "source": [
    "# Observaciones en clase y en asesoría, del aprendizaje de los estudiantes de ingeniería.  \n",
    "\n"
   ]
  },
  {
   "cell_type": "markdown",
   "id": "84285419",
   "metadata": {},
   "source": [
    "## Observación en la asesoría del 4 de octubre de 2025  \n",
    "\n",
    "Difucultad para diferenciar entre \n",
    "1. Evaluar vectores particulares no arbitrarios (como $v = \\begin{pmatrix} 1 \\\\ 2 \\end{pmatrix}$) y evaluar vectores particulares arbitratios $v = \\begin{pmatrix} v_{1} \\\\ v_{2} \\end{pmatrix}$ en una transformación lineal dada.\n",
    "2. Dificultades para que el estudiante note la necesidad de razonar con el vectors particular no arbitrario y el vector particular arbitrario.  \n",
    "3. Gran interés de Marisol, por aprender a encender el Dron y aprender a que la aplicación de android se conecte con el dron y así, la imagen que capte la cámara, se note en el celular. Todavía, no hemos logrado esto en esta asesoría. \n"
   ]
  },
  {
   "cell_type": "markdown",
   "id": "943f4d00",
   "metadata": {},
   "source": [
    "Es que al reflexionar con el vector particular no arbitrario, queremos establecer el comportamiento puntual de la función transformación lineal, mientras que con el vector particular abritraiio, queremos establecer el comportamiento global de la transformación lineal. "
   ]
  }
 ],
 "metadata": {
  "language_info": {
   "name": "python"
  }
 },
 "nbformat": 4,
 "nbformat_minor": 5
}
