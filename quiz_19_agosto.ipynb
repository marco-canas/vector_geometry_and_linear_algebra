{
  "cells": [
    {
      "cell_type": "markdown",
      "metadata": {},
      "source": [
        "# Quiz 1: Evaluación hasta la clase del 19 de agosto\n",
        "Curso: Geometría Vectorial y Álgebra Lineal  \n",
        "Fecha: __/__/2025  \n",
        "Duración: 30 minutos  \n",
        "\n",
        "Este quiz tiene 3 preguntas que evalúan los contenidos trabajados en las clases 1, 2 y 3."
      ]
    },
    {
      "cell_type": "markdown",
      "metadata": {},
      "source": [
        "### **Pregunta 1. Operaciones con vectores (3 pts)**\n",
        "Dados los vectores en R³:\n",
        "\n",
        "$$\n",
        "\\vec{u} = (2, -1, 3), \\quad \\vec{v} = (1, 4, -2)\n",
        "$$\n",
        "\n",
        "1. Calcula $\\vec{u} + \\vec{v}$.  \n",
        "2. Calcula el producto escalar $\\vec{u} \\cdot \\vec{v}$.  \n",
        "3. Calcula la norma de $\\vec{u}$, $\\|\\vec{u}\\|$.  "
      ]
    },
    {
      "cell_type": "code",
      "execution_count": null,
      "metadata": {},
      "outputs": [],
      "source": [
        "import numpy as np\n",
        "\n",
        "u = np.array([2, -1, 3])\n",
        "v = np.array([1, 4, -2])\n",
        "\n",
        "print(\"u + v =\", u+v)\n",
        "print(\"u · v =\", np.dot(u,v))\n",
        "print(\"||u|| =\", np.linalg.norm(u))"
      ]
    },
    {
      "cell_type": "markdown",
      "metadata": {},
      "source": [
        "### **Pregunta 2. Distancias en el espacio (3 pts)**\n",
        "Un dron toma dos puntos en coordenadas GPS (simplificadas a R³):\n",
        "\n",
        "$$\n",
        "P = (3, 2, 5), \\quad Q = (-1, 4, 1)\n",
        "$$\n"
      ]
    },
    {
      "cell_type": "markdown",
      "metadata": {},
      "source": [
        "\n",
        "1. Calcula el vector $\\overrightarrow{PQ}$."
      ]
    },
    {
      "cell_type": "markdown",
      "metadata": {},
      "source": [
        "  \n",
        "2. Calcula la distancia entre $P$ y $Q$.  "
      ]
    },
    {
      "cell_type": "code",
      "execution_count": 2,
      "metadata": {},
      "outputs": [
        {
          "name": "stdout",
          "output_type": "stream",
          "text": [
            "Vector PQ = [-4  2 -4]\n",
            "Distancia entre P y Q = 6.0\n"
          ]
        }
      ],
      "source": [
        "import numpy as np\n",
        "P = np.array([3, 2, 5])\n",
        "Q = np.array([-1, 4, 1])\n",
        "\n",
        "PQ = Q - P\n",
        "dist = np.linalg.norm(PQ)\n",
        "\n",
        "print(\"Vector PQ =\", PQ)\n",
        "print(\"Distancia entre P y Q =\", dist)"
      ]
    },
    {
      "cell_type": "markdown",
      "metadata": {},
      "source": [
        "### **Pregunta 3. Producto vectorial y geometría (4 pts)**\n",
        "Considera los vectores:\n",
        "\n",
        "$$\n",
        "\\vec{a} = (2, 1, 0), \\quad \\vec{b} = (1, 3, 0)\n",
        "$$\n",
        "\n",
        "1. Calcula el producto vectorial $\\vec{a} \\times \\vec{b}$.  \n",
        "2. Verifica que $\\vec{a} \\times \\vec{b}$ es ortogonal a $\\vec{a}$ y $\\vec{b}$.  \n",
        "3. Interpreta geométricamente el resultado.  "
      ]
    },
    {
      "cell_type": "code",
      "execution_count": null,
      "metadata": {},
      "outputs": [],
      "source": [
        "a = np.array([2, 1, 0])\n",
        "b = np.array([1, 3, 0])\n",
        "\n",
        "cross_ab = np.cross(a,b)\n",
        "\n",
        "print(\"a × b =\", cross_ab)\n",
        "print(\"a · (a × b) =\", np.dot(a, cross_ab))\n",
        "print(\"b · (a × b) =\", np.dot(b, cross_ab))"
      ]
    }
  ],
  "metadata": {
    "kernelspec": {
      "display_name": ".venv",
      "language": "python",
      "name": "python3"
    },
    "language_info": {
      "codemirror_mode": {
        "name": "ipython",
        "version": 3
      },
      "file_extension": ".py",
      "mimetype": "text/x-python",
      "name": "python",
      "nbconvert_exporter": "python",
      "pygments_lexer": "ipython3",
      "version": "3.11.9"
    }
  },
  "nbformat": 4,
  "nbformat_minor": 2
}
